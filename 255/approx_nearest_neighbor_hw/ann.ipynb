{
 "cells": [
  {
   "cell_type": "code",
   "execution_count": 2,
   "metadata": {},
   "outputs": [
    {
     "name": "stderr",
     "output_type": "stream",
     "text": [
      "Your CPU supports instructions that this binary was not compiled to use: AVX2\n",
      "For maximum performance, you can install NMSLIB from sources \n",
      "pip install --no-binary :all: nmslib\n"
     ]
    }
   ],
   "source": [
    "import pickle\n",
    "import faiss\n",
    "'''\n",
    "THESE LIBRARIES ARE NOT WORKING FOR ME \n",
    "I CANT SPEND ALL MY TIME FIXING DEPENDENCIES\n",
    "'''\n",
    "import annoy \n",
    "import nmslib"
   ]
  },
  {
   "cell_type": "code",
   "execution_count": 3,
   "metadata": {},
   "outputs": [
    {
     "data": {
      "text/plain": [
       "{'name': array(['Toy Story (1995)', 'GoldenEye (1995)', 'Four Rooms (1995)', ...,\n",
       "        'Sliding Doors (1998)', 'You So Crazy (1994)',\n",
       "        'Scream of Stone (Schrei aus Stein) (1991)'], dtype=object),\n",
       " 'vector': array([[-0.01780608, -0.14265831,  0.10308606, ...,  0.09659795,\n",
       "         -0.17529577, -0.03061521],\n",
       "        [-0.03357764,  0.16418771,  0.21801303, ...,  0.16502103,\n",
       "         -0.09166156,  0.05047869],\n",
       "        [-0.2761452 , -0.01991325, -0.04969981, ...,  0.0258275 ,\n",
       "         -0.08328608, -0.0152858 ],\n",
       "        ...,\n",
       "        [ 0.05142734, -0.01683608, -0.20441587, ...,  0.00045828,\n",
       "          0.14679626,  0.2462584 ],\n",
       "        [ 0.04491899, -0.02819411, -0.09472758, ..., -0.02152078,\n",
       "          0.16223577,  0.19897607],\n",
       "        [ 0.02531924,  0.03099714,  0.06437534, ..., -0.07260127,\n",
       "          0.0467432 ,  0.07893164]], dtype=float32)}"
      ]
     },
     "execution_count": 3,
     "metadata": {},
     "output_type": "execute_result"
    }
   ],
   "source": [
    "def load_data():\n",
    "    with open('/Users/austinwilson/Downloads/movies.pickle', 'rb') as f:\n",
    "        data = pickle.load(f)\n",
    "    return data\n",
    "\n",
    "data = load_data()\n",
    "vectors = data[\"vector\"]\n",
    "names = data[\"name\"]\n",
    "data"
   ]
  },
  {
   "cell_type": "markdown",
   "metadata": {},
   "source": [
    "# a) LSH "
   ]
  },
  {
   "cell_type": "code",
   "execution_count": 24,
   "metadata": {},
   "outputs": [],
   "source": [
    "class LSHIndex():\n",
    "    def __init__(self, vectors, labels):\n",
    "        self.dimension = vectors.shape[1]\n",
    "        self.vectors = vectors.astype('float32')\n",
    "        self.labels = labels    \n",
    "   \n",
    "    def build(self, num_bits=8):\n",
    "        self.index = faiss.IndexLSH(self.dimension, num_bits)\n",
    "        self.index.add(self.vectors)\n",
    "        \n",
    "    def query(self, vectors, k=10):\n",
    "        distances, indices = self.index.search(vectors, k) \n",
    "        # I expect only query on one vector thus the slice\n",
    "        return [self.labels[i] for i in indices[0]]"
   ]
  },
  {
   "cell_type": "code",
   "execution_count": 25,
   "metadata": {},
   "outputs": [],
   "source": [
    "index = LSHIndex(data[\"vector\"], data[\"name\"])\n",
    "index.build()"
   ]
  },
  {
   "cell_type": "markdown",
   "metadata": {},
   "source": [
    "### movies similar to GoldenEye"
   ]
  },
  {
   "cell_type": "code",
   "execution_count": 29,
   "metadata": {},
   "outputs": [
    {
     "data": {
      "text/plain": [
       "['Days of Thunder (1990)',\n",
       " 'GoldenEye (1995)',\n",
       " 'Executive Decision (1996)',\n",
       " 'Groundhog Day (1993)',\n",
       " 'Dead Man Walking (1995)',\n",
       " 'Star Trek: The Wrath of Khan (1982)',\n",
       " 'Batman Returns (1992)',\n",
       " 'Alien (1979)',\n",
       " 'Time to Kill, A (1996)',\n",
       " 'Sneakers (1992)']"
      ]
     },
     "execution_count": 29,
     "metadata": {},
     "output_type": "execute_result"
    }
   ],
   "source": [
    "index.query(data['vector'][1:2])\n"
   ]
  },
  {
   "cell_type": "markdown",
   "metadata": {},
   "source": [
    "# b) Exhaustive Search"
   ]
  },
  {
   "cell_type": "code",
   "execution_count": 17,
   "metadata": {},
   "outputs": [],
   "source": [
    "class ExactIndex():\n",
    "    def __init__(self, vectors, labels):\n",
    "        self.dimension = vectors.shape[1]\n",
    "        self.vectors = vectors.astype('float32')\n",
    "        self.labels = labels    \n",
    "   \n",
    "    def build(self):\n",
    "        self.index = faiss.IndexFlatL2(self.dimension,)\n",
    "        self.index.add(self.vectors)\n",
    "        \n",
    "    def query(self, vectors, k=10):\n",
    "        distances, indices = self.index.search(vectors, k) \n",
    "        # I expect only query on one vector thus the slice\n",
    "        return [self.labels[i] for i in indices[0]]"
   ]
  },
  {
   "cell_type": "code",
   "execution_count": 18,
   "metadata": {},
   "outputs": [],
   "source": [
    "index = ExactIndex(data[\"vector\"], data[\"name\"])\n",
    "index.build()"
   ]
  },
  {
   "cell_type": "markdown",
   "metadata": {},
   "source": [
    "### look for movies that are most similar to GoldenEye"
   ]
  },
  {
   "cell_type": "code",
   "execution_count": 22,
   "metadata": {},
   "outputs": [
    {
     "data": {
      "text/plain": [
       "['GoldenEye (1995)',\n",
       " 'Under Siege (1992)',\n",
       " 'Die Hard: With a Vengeance (1995)',\n",
       " 'Demolition Man (1993)',\n",
       " 'Batman Returns (1992)',\n",
       " 'True Lies (1994)',\n",
       " 'Cliffhanger (1993)',\n",
       " 'Bad Boys (1995)',\n",
       " 'Under Siege 2: Dark Territory (1995)',\n",
       " 'Perfect World, A (1993)']"
      ]
     },
     "execution_count": 22,
     "metadata": {},
     "output_type": "execute_result"
    }
   ],
   "source": [
    "index.query(data['vector'][1:2])\n"
   ]
  },
  {
   "cell_type": "markdown",
   "metadata": {},
   "source": [
    "# c) product quantization"
   ]
  },
  {
   "cell_type": "code",
   "execution_count": 35,
   "metadata": {},
   "outputs": [],
   "source": [
    "class IVPQIndex():\n",
    "    def __init__(self, vectors, labels):\n",
    "        self.dimension = vectors.shape[1]\n",
    "        self.vectors = vectors.astype('float32')\n",
    "        self.labels = labels    \n",
    "    def build(self, number_of_partition=8, search_in_x_partitions=2, subvector_size=8):\n",
    "        quantizer = faiss.IndexFlatL2(self.dimension)\n",
    "        self.index = faiss.IndexIVFPQ(quantizer, \n",
    "                                        self.dimension, \n",
    "                                        number_of_partition, \n",
    "                                        search_in_x_partitions, \n",
    "                                        subvector_size)\n",
    "        self.index.train(self.vectors)\n",
    "        self.index.add(self.vectors)\n",
    "        \n",
    "    def query(self, vectors, k=10):\n",
    "        distances, indices = self.index.search(vectors, k) \n",
    "        # I expect only query on one vector thus the slice\n",
    "        return [self.labels[i] for i in indices[0]]"
   ]
  },
  {
   "cell_type": "markdown",
   "metadata": {},
   "source": [
    "### movies most similar to Toy Story "
   ]
  },
  {
   "cell_type": "code",
   "execution_count": 36,
   "metadata": {},
   "outputs": [],
   "source": [
    "index = IVPQIndex(data[\"vector\"], data[\"name\"])\n",
    "index.build()"
   ]
  },
  {
   "cell_type": "code",
   "execution_count": 37,
   "metadata": {},
   "outputs": [
    {
     "data": {
      "text/plain": [
       "['Toy Story (1995)',\n",
       " 'Fifth Element, The (1997)',\n",
       " 'Men in Black (1997)',\n",
       " 'James and the Giant Peach (1996)',\n",
       " 'Phenomenon (1996)',\n",
       " 'Hunchback of Notre Dame, The (1996)',\n",
       " 'Star Trek: First Contact (1996)',\n",
       " 'Twister (1996)',\n",
       " 'Willy Wonka and the Chocolate Factory (1971)',\n",
       " \"My Best Friend's Wedding (1997)\"]"
      ]
     },
     "execution_count": 37,
     "metadata": {},
     "output_type": "execute_result"
    }
   ],
   "source": [
    "index.query(data['vector'][0:1])"
   ]
  },
  {
   "cell_type": "markdown",
   "metadata": {},
   "source": [
    "# d) trees and graphs"
   ]
  },
  {
   "cell_type": "code",
   "execution_count": 13,
   "metadata": {},
   "outputs": [],
   "source": [
    "class AnnoyIndex():\n",
    "    def __init__(self, vectors, labels):\n",
    "        self.dimension = vectors.shape[1]\n",
    "        self.vectors = vectors.astype('float32')\n",
    "        self.labels = labels    \n",
    "   \n",
    "    def build(self, number_of_trees=5):\n",
    "        self.index = annoy.AnnoyIndex(self.dimension)\n",
    "        for i, vec in enumerate(self.vectors):\n",
    "            self.index.add_item(i, vec.tolist())\n",
    "        self.index.build(number_of_trees)\n",
    "        \n",
    "    def query(self, vector, k=10):\n",
    "        indices = self.index.get_nns_by_vector(\n",
    "              vector.tolist(), \n",
    "              k, \n",
    "              search_k=64)#search_in_x_trees)                                           \n",
    "        return [self.labels[i] for i in indices]"
   ]
  },
  {
   "cell_type": "code",
   "execution_count": 14,
   "metadata": {},
   "outputs": [
    {
     "name": "stderr",
     "output_type": "stream",
     "text": [
      "/var/folders/jw/zs3wtf3n0vb9s135vkm2wn700000gn/T/ipykernel_29130/2669460728.py:8: FutureWarning: The default argument for metric will be removed in future version of Annoy. Please pass metric='angular' explicitly.\n",
      "  self.index = annoy.AnnoyIndex(self.dimension)\n"
     ]
    }
   ],
   "source": [
    "index = AnnoyIndex(data[\"vector\"], data[\"name\"])\n",
    "index.build()"
   ]
  },
  {
   "cell_type": "code",
   "execution_count": 20,
   "metadata": {},
   "outputs": [
    {
     "data": {
      "text/plain": [
       "['Shanghai Triad (Yao a yao yao dao waipo qiao) (1995)',\n",
       " 'Hate (Haine, La) (1995)',\n",
       " 'Ridicule (1996)',\n",
       " 'White Balloon, The (1995)',\n",
       " \"I Can't Sleep (J'ai pas sommeil) (1994)\",\n",
       " 'To Live (Huozhe) (1994)',\n",
       " 'Faust (1994)',\n",
       " \"Star Maker, The (Uomo delle stelle, L') (1995)\",\n",
       " 'Savage Nights (Nuits fauves, Les) (1992)',\n",
       " 'Breaking the Waves (1996)']"
      ]
     },
     "execution_count": 20,
     "metadata": {},
     "output_type": "execute_result"
    }
   ],
   "source": [
    "index.query(data['vector'][5])"
   ]
  },
  {
   "cell_type": "markdown",
   "metadata": {},
   "source": [
    "# e) HNSW"
   ]
  },
  {
   "cell_type": "code",
   "execution_count": 16,
   "metadata": {},
   "outputs": [],
   "source": [
    "class NMSLIBIndex():\n",
    "    def __init__(self, vectors, labels):\n",
    "        self.dimention = vectors.shape[1]\n",
    "        self.vectors = vectors.astype('float32')\n",
    "        self.labels = labels\n",
    "    def build(self):\n",
    "            self.index = nmslib.init(method='hnsw', space='cosinesimil')\n",
    "            self.index.addDataPointBatch(self.vectors)\n",
    "            self.index.createIndex({'post': 2})\n",
    "        \n",
    "    def query(self, vector, k=10):\n",
    "        indices = self.index.knnQuery(vector, k=k)\n",
    "        return [self.labels[i] for i in indices[0]]"
   ]
  },
  {
   "cell_type": "code",
   "execution_count": 17,
   "metadata": {},
   "outputs": [],
   "source": [
    "index = NMSLIBIndex(data[\"vector\"], data[\"name\"])\n",
    "index.build()"
   ]
  },
  {
   "cell_type": "code",
   "execution_count": 21,
   "metadata": {},
   "outputs": [
    {
     "data": {
      "text/plain": [
       "['GoldenEye (1995)',\n",
       " 'Under Siege (1992)',\n",
       " 'Die Hard: With a Vengeance (1995)',\n",
       " 'True Lies (1994)',\n",
       " 'Demolition Man (1993)',\n",
       " 'Batman Returns (1992)',\n",
       " 'Die Hard (1988)',\n",
       " 'Cliffhanger (1993)',\n",
       " 'Batman (1989)',\n",
       " 'Hard Target (1993)']"
      ]
     },
     "execution_count": 21,
     "metadata": {},
     "output_type": "execute_result"
    }
   ],
   "source": [
    "index.query(data['vector'][1])"
   ]
  },
  {
   "cell_type": "code",
   "execution_count": null,
   "metadata": {},
   "outputs": [],
   "source": []
  },
  {
   "cell_type": "code",
   "execution_count": null,
   "metadata": {},
   "outputs": [],
   "source": []
  },
  {
   "cell_type": "code",
   "execution_count": 3,
   "metadata": {},
   "outputs": [
    {
     "data": {
      "text/plain": [
       "['analyzing 1682 vectors of size 64',\n",
       " 'no NaN or Infs in data',\n",
       " 'all vectors are distinct',\n",
       " 'range of L2 norms=[0.747558, 1.80436] (0 null vectors)',\n",
       " 'matrix contains no 0s',\n",
       " 'no constant dimensions',\n",
       " 'no dimension has a too large mean',\n",
       " 'stddevs per dimension are in [0.112036 0.158214]',\n",
       " '']"
      ]
     },
     "execution_count": 3,
     "metadata": {},
     "output_type": "execute_result"
    }
   ],
   "source": [
    "faiss.MatrixStats(vectors).comments.split(\"\\n\")\n"
   ]
  },
  {
   "cell_type": "code",
   "execution_count": 4,
   "metadata": {},
   "outputs": [],
   "source": [
    "\n",
    "index = faiss.IndexFlatL2(vectors.shape[1])\n",
    "index.add(vectors)"
   ]
  },
  {
   "cell_type": "code",
   "execution_count": 5,
   "metadata": {},
   "outputs": [],
   "source": [
    "search_vector = vectors[90:91]\n",
    "distances, indices = index.search(search_vector, 10)"
   ]
  },
  {
   "cell_type": "code",
   "execution_count": 6,
   "metadata": {},
   "outputs": [
    {
     "name": "stdout",
     "output_type": "stream",
     "text": [
      "The most similar movies to Nightmare Before Christmas, The (1993) are:\n",
      "\n",
      "['Nightmare Before Christmas, The (1993)', 'Heavy Metal (1981)', 'Sirens (1994)', 'Beauty and the Beast (1991)', 'Akira (1988)', 'Fantasia (1940)', 'Benny & Joon (1993)', 'Barbarella (1968)', \"Pete's Dragon (1977)\", 'James and the Giant Peach (1996)']\n"
     ]
    }
   ],
   "source": [
    "print(f\"The most similar movies to {names[90]} are:\\n\")\n",
    "print([names[i] for i in indices[0]])"
   ]
  },
  {
   "cell_type": "code",
   "execution_count": 7,
   "metadata": {},
   "outputs": [
    {
     "name": "stdout",
     "output_type": "stream",
     "text": [
      "The most similar movies to Nightmare Before Christmas, The (1993) are:\n",
      "\n",
      "['Nightmare Before Christmas, The (1993)', 'Heavy Metal (1981)', 'Pink Floyd - The Wall (1982)', 'Akira (1988)', 'Hamlet (1996)', 'Full Metal Jacket (1987)', 'Supercop (1992)', 'Scream of Stone (Schrei aus Stein) (1991)', 'Scream of Stone (Schrei aus Stein) (1991)', 'Scream of Stone (Schrei aus Stein) (1991)']\n"
     ]
    }
   ],
   "source": [
    "# LSH\n",
    "quantizer = faiss.IndexFlatL2(vectors.shape[1])\n",
    "index = faiss.IndexIVFPQ(quantizer, \n",
    "                         vectors.shape[1], \n",
    "                         100,             # number_of_partition,\n",
    "                         8,               # search_in_x_partitions, \n",
    "                         8)               # subvector_size\n",
    "index.train(vectors)\n",
    "index.add(vectors)\n",
    "search_vector = vectors[90:91]\n",
    "distances, indices = index.search(search_vector, 10)\n",
    "print(f\"The most similar movies to {names[90]} are:\\n\")\n",
    "print([names[i] for i in indices[0]])"
   ]
  },
  {
   "cell_type": "code",
   "execution_count": 19,
   "metadata": {},
   "outputs": [],
   "source": [
    "# LSH\n",
    "class LSHIndex():\n",
    "    def __init__(self, vectors, labels):\n",
    "        self.dimension = vectors.shape[1]\n",
    "        self.vectors = vectors.astype('float32')\n",
    "        self.labels = labels    \n",
    "   \n",
    "    def build(self, num_bits=8):\n",
    "        self.index = faiss.IndexLSH(self.dimension, num_bits)\n",
    "        self.index.add(self.vectors)\n",
    "        \n",
    "    def query(self, vectors, k=10):\n",
    "        distances, indices = self.index.search(vectors, k) \n",
    "        # I expect only query on one vector thus the slice\n",
    "        return [self.labels[i] for i in indices[0]]"
   ]
  },
  {
   "cell_type": "code",
   "execution_count": 20,
   "metadata": {},
   "outputs": [],
   "source": [
    "index = LSHIndex(data[\"vector\"], data[\"name\"])\n",
    "index.build()"
   ]
  },
  {
   "cell_type": "code",
   "execution_count": 21,
   "metadata": {},
   "outputs": [
    {
     "ename": "ValueError",
     "evalue": "not enough values to unpack (expected 2, got 1)",
     "output_type": "error",
     "traceback": [
      "\u001b[0;31m---------------------------------------------------------------------------\u001b[0m",
      "\u001b[0;31mValueError\u001b[0m                                Traceback (most recent call last)",
      "\u001b[0;32m<ipython-input-21-3013f1d92da8>\u001b[0m in \u001b[0;36m<module>\u001b[0;34m\u001b[0m\n\u001b[0;32m----> 1\u001b[0;31m \u001b[0mindex\u001b[0m\u001b[0;34m.\u001b[0m\u001b[0mquery\u001b[0m\u001b[0;34m(\u001b[0m\u001b[0mdata\u001b[0m\u001b[0;34m[\u001b[0m\u001b[0;34m'vector'\u001b[0m\u001b[0;34m]\u001b[0m\u001b[0;34m[\u001b[0m\u001b[0;36m0\u001b[0m\u001b[0;34m]\u001b[0m\u001b[0;34m)\u001b[0m\u001b[0;34m\u001b[0m\u001b[0;34m\u001b[0m\u001b[0m\n\u001b[0m",
      "\u001b[0;32m<ipython-input-19-4df28acb3db0>\u001b[0m in \u001b[0;36mquery\u001b[0;34m(self, vectors, k)\u001b[0m\n\u001b[1;32m     11\u001b[0m \u001b[0;34m\u001b[0m\u001b[0m\n\u001b[1;32m     12\u001b[0m     \u001b[0;32mdef\u001b[0m \u001b[0mquery\u001b[0m\u001b[0;34m(\u001b[0m\u001b[0mself\u001b[0m\u001b[0;34m,\u001b[0m \u001b[0mvectors\u001b[0m\u001b[0;34m,\u001b[0m \u001b[0mk\u001b[0m\u001b[0;34m=\u001b[0m\u001b[0;36m10\u001b[0m\u001b[0;34m)\u001b[0m\u001b[0;34m:\u001b[0m\u001b[0;34m\u001b[0m\u001b[0;34m\u001b[0m\u001b[0m\n\u001b[0;32m---> 13\u001b[0;31m         \u001b[0mindices\u001b[0m \u001b[0;34m=\u001b[0m \u001b[0mself\u001b[0m\u001b[0;34m.\u001b[0m\u001b[0mindex\u001b[0m\u001b[0;34m.\u001b[0m\u001b[0msearch\u001b[0m\u001b[0;34m(\u001b[0m\u001b[0mvectors\u001b[0m\u001b[0;34m,\u001b[0m \u001b[0mk\u001b[0m\u001b[0;34m)\u001b[0m\u001b[0;34m\u001b[0m\u001b[0;34m\u001b[0m\u001b[0m\n\u001b[0m\u001b[1;32m     14\u001b[0m         \u001b[0;31m# I expect only query on one vector thus the slice\u001b[0m\u001b[0;34m\u001b[0m\u001b[0;34m\u001b[0m\u001b[0;34m\u001b[0m\u001b[0m\n\u001b[1;32m     15\u001b[0m         \u001b[0;32mreturn\u001b[0m \u001b[0;34m[\u001b[0m\u001b[0mself\u001b[0m\u001b[0;34m.\u001b[0m\u001b[0mlabels\u001b[0m\u001b[0;34m[\u001b[0m\u001b[0mi\u001b[0m\u001b[0;34m]\u001b[0m \u001b[0;32mfor\u001b[0m \u001b[0mi\u001b[0m \u001b[0;32min\u001b[0m \u001b[0mindices\u001b[0m\u001b[0;34m[\u001b[0m\u001b[0;36m0\u001b[0m\u001b[0;34m]\u001b[0m\u001b[0;34m]\u001b[0m\u001b[0;34m\u001b[0m\u001b[0;34m\u001b[0m\u001b[0m\n",
      "\u001b[0;32m~/opt/anaconda3/lib/python3.8/site-packages/faiss/__init__.py\u001b[0m in \u001b[0;36mreplacement_search\u001b[0;34m(self, x, k)\u001b[0m\n\u001b[1;32m    158\u001b[0m \u001b[0;34m\u001b[0m\u001b[0m\n\u001b[1;32m    159\u001b[0m     \u001b[0;32mdef\u001b[0m \u001b[0mreplacement_search\u001b[0m\u001b[0;34m(\u001b[0m\u001b[0mself\u001b[0m\u001b[0;34m,\u001b[0m \u001b[0mx\u001b[0m\u001b[0;34m,\u001b[0m \u001b[0mk\u001b[0m\u001b[0;34m)\u001b[0m\u001b[0;34m:\u001b[0m\u001b[0;34m\u001b[0m\u001b[0;34m\u001b[0m\u001b[0m\n\u001b[0;32m--> 160\u001b[0;31m         \u001b[0mn\u001b[0m\u001b[0;34m,\u001b[0m \u001b[0md\u001b[0m \u001b[0;34m=\u001b[0m \u001b[0mx\u001b[0m\u001b[0;34m.\u001b[0m\u001b[0mshape\u001b[0m\u001b[0;34m\u001b[0m\u001b[0;34m\u001b[0m\u001b[0m\n\u001b[0m\u001b[1;32m    161\u001b[0m         \u001b[0;32massert\u001b[0m \u001b[0md\u001b[0m \u001b[0;34m==\u001b[0m \u001b[0mself\u001b[0m\u001b[0;34m.\u001b[0m\u001b[0md\u001b[0m\u001b[0;34m\u001b[0m\u001b[0;34m\u001b[0m\u001b[0m\n\u001b[1;32m    162\u001b[0m         \u001b[0mdistances\u001b[0m \u001b[0;34m=\u001b[0m \u001b[0mnp\u001b[0m\u001b[0;34m.\u001b[0m\u001b[0mempty\u001b[0m\u001b[0;34m(\u001b[0m\u001b[0;34m(\u001b[0m\u001b[0mn\u001b[0m\u001b[0;34m,\u001b[0m \u001b[0mk\u001b[0m\u001b[0;34m)\u001b[0m\u001b[0;34m,\u001b[0m \u001b[0mdtype\u001b[0m\u001b[0;34m=\u001b[0m\u001b[0mnp\u001b[0m\u001b[0;34m.\u001b[0m\u001b[0mfloat32\u001b[0m\u001b[0;34m)\u001b[0m\u001b[0;34m\u001b[0m\u001b[0;34m\u001b[0m\u001b[0m\n",
      "\u001b[0;31mValueError\u001b[0m: not enough values to unpack (expected 2, got 1)"
     ]
    }
   ],
   "source": [
    "index.query(data['vector'][0])"
   ]
  },
  {
   "cell_type": "code",
   "execution_count": null,
   "metadata": {},
   "outputs": [],
   "source": []
  }
 ],
 "metadata": {
  "interpreter": {
   "hash": "38eed5c50e0a3327633343bf39af9b5ec442f97ac8dea3717efb1c3acd79de73"
  },
  "kernelspec": {
   "display_name": "Python 3.8.3 64-bit ('base': conda)",
   "language": "python",
   "name": "python3"
  },
  "language_info": {
   "codemirror_mode": {
    "name": "ipython",
    "version": 3
   },
   "file_extension": ".py",
   "mimetype": "text/x-python",
   "name": "python",
   "nbconvert_exporter": "python",
   "pygments_lexer": "ipython3",
   "version": "3.9.9"
  },
  "orig_nbformat": 4
 },
 "nbformat": 4,
 "nbformat_minor": 2
}
