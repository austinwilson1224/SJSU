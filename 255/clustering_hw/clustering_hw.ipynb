{
 "cells": [
  {
   "cell_type": "code",
   "execution_count": 2,
   "metadata": {},
   "outputs": [],
   "source": [
    "## Import Library\n",
    "import numpy as np\n",
    "import pandas as pd\n",
    "import seaborn as sns\n",
    "import matplotlib.pyplot as plt\n",
    "# %matplotlib inline\n",
    "from mpl_toolkits.mplot3d import Axes3D\n",
    "from sklearn.cluster import KMeans\n",
    "from sklearn.preprocessing import StandardScaler\n",
    "from sklearn.cluster import AgglomerativeClustering\n",
    "from sklearn.mixture import GaussianMixture\n",
    "from sklearn import mixture#.mixture import GMM\n",
    "\n",
    "import warnings\n",
    "warnings.filterwarnings('ignore')\n",
    "\n",
    "data = pd.read_csv('clustering.csv')\n",
    "\n",
    "\n",
    "## Load Data\n",
    "dfa = pd.read_csv(\"data.csv\")\n",
    "sc_dfa = StandardScaler()\n",
    "dfa_std = sc_dfa.fit_transform(dfa.astype(float))"
   ]
  },
  {
   "cell_type": "markdown",
   "metadata": {},
   "source": [
    "# a) K-Means clustering from scratch"
   ]
  },
  {
   "cell_type": "code",
   "execution_count": 3,
   "metadata": {},
   "outputs": [
    {
     "data": {
      "text/html": [
       "<div>\n",
       "<style scoped>\n",
       "    .dataframe tbody tr th:only-of-type {\n",
       "        vertical-align: middle;\n",
       "    }\n",
       "\n",
       "    .dataframe tbody tr th {\n",
       "        vertical-align: top;\n",
       "    }\n",
       "\n",
       "    .dataframe thead th {\n",
       "        text-align: right;\n",
       "    }\n",
       "</style>\n",
       "<table border=\"1\" class=\"dataframe\">\n",
       "  <thead>\n",
       "    <tr style=\"text-align: right;\">\n",
       "      <th></th>\n",
       "      <th>Loan_ID</th>\n",
       "      <th>Gender</th>\n",
       "      <th>Married</th>\n",
       "      <th>Dependents</th>\n",
       "      <th>Education</th>\n",
       "      <th>Self_Employed</th>\n",
       "      <th>ApplicantIncome</th>\n",
       "      <th>CoapplicantIncome</th>\n",
       "      <th>LoanAmount</th>\n",
       "      <th>Loan_Amount_Term</th>\n",
       "      <th>Credit_History</th>\n",
       "      <th>Property_Area</th>\n",
       "      <th>Loan_Status</th>\n",
       "    </tr>\n",
       "  </thead>\n",
       "  <tbody>\n",
       "    <tr>\n",
       "      <th>0</th>\n",
       "      <td>LP001003</td>\n",
       "      <td>Male</td>\n",
       "      <td>Yes</td>\n",
       "      <td>1</td>\n",
       "      <td>Graduate</td>\n",
       "      <td>No</td>\n",
       "      <td>4583</td>\n",
       "      <td>1508.0</td>\n",
       "      <td>128.0</td>\n",
       "      <td>360.0</td>\n",
       "      <td>1.0</td>\n",
       "      <td>Rural</td>\n",
       "      <td>N</td>\n",
       "    </tr>\n",
       "    <tr>\n",
       "      <th>1</th>\n",
       "      <td>LP001005</td>\n",
       "      <td>Male</td>\n",
       "      <td>Yes</td>\n",
       "      <td>0</td>\n",
       "      <td>Graduate</td>\n",
       "      <td>Yes</td>\n",
       "      <td>3000</td>\n",
       "      <td>0.0</td>\n",
       "      <td>66.0</td>\n",
       "      <td>360.0</td>\n",
       "      <td>1.0</td>\n",
       "      <td>Urban</td>\n",
       "      <td>Y</td>\n",
       "    </tr>\n",
       "    <tr>\n",
       "      <th>2</th>\n",
       "      <td>LP001006</td>\n",
       "      <td>Male</td>\n",
       "      <td>Yes</td>\n",
       "      <td>0</td>\n",
       "      <td>Not Graduate</td>\n",
       "      <td>No</td>\n",
       "      <td>2583</td>\n",
       "      <td>2358.0</td>\n",
       "      <td>120.0</td>\n",
       "      <td>360.0</td>\n",
       "      <td>1.0</td>\n",
       "      <td>Urban</td>\n",
       "      <td>Y</td>\n",
       "    </tr>\n",
       "    <tr>\n",
       "      <th>3</th>\n",
       "      <td>LP001008</td>\n",
       "      <td>Male</td>\n",
       "      <td>No</td>\n",
       "      <td>0</td>\n",
       "      <td>Graduate</td>\n",
       "      <td>No</td>\n",
       "      <td>6000</td>\n",
       "      <td>0.0</td>\n",
       "      <td>141.0</td>\n",
       "      <td>360.0</td>\n",
       "      <td>1.0</td>\n",
       "      <td>Urban</td>\n",
       "      <td>Y</td>\n",
       "    </tr>\n",
       "    <tr>\n",
       "      <th>4</th>\n",
       "      <td>LP001013</td>\n",
       "      <td>Male</td>\n",
       "      <td>Yes</td>\n",
       "      <td>0</td>\n",
       "      <td>Not Graduate</td>\n",
       "      <td>No</td>\n",
       "      <td>2333</td>\n",
       "      <td>1516.0</td>\n",
       "      <td>95.0</td>\n",
       "      <td>360.0</td>\n",
       "      <td>1.0</td>\n",
       "      <td>Urban</td>\n",
       "      <td>Y</td>\n",
       "    </tr>\n",
       "  </tbody>\n",
       "</table>\n",
       "</div>"
      ],
      "text/plain": [
       "    Loan_ID Gender Married Dependents     Education Self_Employed  \\\n",
       "0  LP001003   Male     Yes          1      Graduate            No   \n",
       "1  LP001005   Male     Yes          0      Graduate           Yes   \n",
       "2  LP001006   Male     Yes          0  Not Graduate            No   \n",
       "3  LP001008   Male      No          0      Graduate            No   \n",
       "4  LP001013   Male     Yes          0  Not Graduate            No   \n",
       "\n",
       "   ApplicantIncome  CoapplicantIncome  LoanAmount  Loan_Amount_Term  \\\n",
       "0             4583             1508.0       128.0             360.0   \n",
       "1             3000                0.0        66.0             360.0   \n",
       "2             2583             2358.0       120.0             360.0   \n",
       "3             6000                0.0       141.0             360.0   \n",
       "4             2333             1516.0        95.0             360.0   \n",
       "\n",
       "   Credit_History Property_Area Loan_Status  \n",
       "0             1.0         Rural           N  \n",
       "1             1.0         Urban           Y  \n",
       "2             1.0         Urban           Y  \n",
       "3             1.0         Urban           Y  \n",
       "4             1.0         Urban           Y  "
      ]
     },
     "execution_count": 3,
     "metadata": {},
     "output_type": "execute_result"
    }
   ],
   "source": [
    "data.head()"
   ]
  },
  {
   "cell_type": "code",
   "execution_count": 4,
   "metadata": {},
   "outputs": [],
   "source": [
    "data = data[['ApplicantIncome', 'LoanAmount']]\n",
    "data = data.loc[:, ['ApplicantIncome', 'LoanAmount']]\n",
    "X = data.values"
   ]
  },
  {
   "cell_type": "code",
   "execution_count": 5,
   "metadata": {},
   "outputs": [
    {
     "data": {
      "image/png": "[encoded data removed]",
      "text/plain": [
       "<Figure size 432x288 with 1 Axes>"
      ]
     },
     "metadata": {
      "needs_background": "light"
     },
     "output_type": "display_data"
    }
   ],
   "source": [
    "sns.scatterplot(X[:,0], X[:, 1])\n",
    "plt.xlabel('Income')\n",
    "plt.ylabel('Loan')\n",
    "plt.show()"
   ]
  },
  {
   "cell_type": "code",
   "execution_count": 6,
   "metadata": {},
   "outputs": [],
   "source": [
    "def calculate_cost(X, centroids, cluster):\n",
    "  sum = 0\n",
    "  for i, val in enumerate(X):\n",
    "    sum += np.sqrt((centroids[int(cluster[i]), 0]-val[0])**2 +(centroids[int(cluster[i]), 1]-val[1])**2)\n",
    "  return sum"
   ]
  },
  {
   "cell_type": "code",
   "execution_count": 7,
   "metadata": {},
   "outputs": [],
   "source": [
    "def kmeans(X, k):\n",
    "  diff = 1\n",
    "  cluster = np.zeros(X.shape[0])\n",
    "  centroids = data.sample(n=k).values\n",
    "  while diff:\n",
    "    # for each observation\n",
    "    for i, row in enumerate(X):\n",
    "        mn_dist = float('inf')\n",
    "        # dist of the point from all centroids\n",
    "        for idx, centroid in enumerate(centroids):\n",
    "            d = np.sqrt((centroid[0]-row[0])**2 + (centroid[1]-row[1])**2)\n",
    "            # store closest centroid\n",
    "            if mn_dist > d:\n",
    "               mn_dist = d\n",
    "               cluster[i] = idx\n",
    "    new_centroids = pd.DataFrame(X).groupby(by=cluster).mean().values\n",
    "     # if centroids are same then leave\n",
    "    if np.count_nonzero(centroids-new_centroids) == 0:\n",
    "        diff = 0\n",
    "    else:\n",
    "        centroids = new_centroids\n",
    "  return centroids, cluster"
   ]
  },
  {
   "cell_type": "code",
   "execution_count": 8,
   "metadata": {},
   "outputs": [],
   "source": [
    "cost_list = []\n",
    "for k in range(1, 10):\n",
    "    centroids, cluster = kmeans(X, k)\n",
    "    # WCSS (Within cluster sum of square)\n",
    "    cost = calculate_cost(X, centroids, cluster)\n",
    "    cost_list.append(cost)"
   ]
  },
  {
   "cell_type": "code",
   "execution_count": 9,
   "metadata": {},
   "outputs": [
    {
     "data": {
      "image/png": "[encoded data removed]",
      "text/plain": [
       "<Figure size 432x288 with 1 Axes>"
      ]
     },
     "metadata": {
      "needs_background": "light"
     },
     "output_type": "display_data"
    }
   ],
   "source": [
    "sns.lineplot(x=range(1,10), y=cost_list, marker='o')\n",
    "plt.xlabel('k')\n",
    "plt.ylabel('WCSS')\n",
    "plt.show()"
   ]
  },
  {
   "cell_type": "code",
   "execution_count": 10,
   "metadata": {},
   "outputs": [
    {
     "data": {
      "image/png": "[encoded data removed]",
      "text/plain": [
       "<Figure size 432x288 with 1 Axes>"
      ]
     },
     "metadata": {
      "needs_background": "light"
     },
     "output_type": "display_data"
    }
   ],
   "source": [
    "k = 4\n",
    "centroids, cluster = kmeans(X, k)\n",
    "sns.scatterplot(X[:,0], X[:, 1], hue=cluster)\n",
    "sns.scatterplot(centroids[:,0], centroids[:, 1], s=100, color='y')\n",
    "plt.xlabel('Income')\n",
    "plt.ylabel('Loan')\n",
    "plt.show()"
   ]
  },
  {
   "cell_type": "markdown",
   "metadata": {},
   "source": [
    "# b) Hierarchical clustering (not from scratch)"
   ]
  },
  {
   "cell_type": "code",
   "execution_count": 11,
   "metadata": {},
   "outputs": [
    {
     "data": {
      "image/png": "[encoded data removed]",
      "text/plain": [
       "<Figure size 360x360 with 1 Axes>"
      ]
     },
     "metadata": {
      "needs_background": "light"
     },
     "output_type": "display_data"
    }
   ],
   "source": [
    "# heirarchical clustering \n",
    "# data\n",
    "a, b, c, d, e = (3,9), (3,8), (4,8), (2,9), (5,7)\n",
    "\n",
    "f,g,h,i,j,k=(2,6), (3,6), (4,5), (1,7), (1,5), (5,4)\n",
    "l,m,n,o,p,q=(6,9),(7,9),(8,7),(7,3),(7,2),(8,1)\n",
    "data = np.array([a,b,c,d,e,f,g,h,i,j,k,l,m,n,o,p,q])\n",
    "\n",
    "#data = np.array([(2,6),(3,7),(5,8),(5,5),(6,6),(2,2),(5,2),(7,3),(8,4),(10,6),(12,8)])  \n",
    "\n",
    "# average link\n",
    "avg_link_cluster = AgglomerativeClustering(n_clusters=3, linkage='average').fit(data)\n",
    "plt.figure(figsize=(5,5))\n",
    "plt.scatter(data[:,0], data[:,1], c=avg_link_cluster.labels_, cmap='rainbow')\n",
    "plt.show()"
   ]
  },
  {
   "cell_type": "markdown",
   "metadata": {},
   "source": [
    "# c) Gaussian mixture models clustering (not from scratch)"
   ]
  },
  {
   "cell_type": "code",
   "execution_count": 13,
   "metadata": {},
   "outputs": [
    {
     "data": {
      "image/png": "[encoded data removed]",
      "text/plain": [
       "<Figure size 432x288 with 1 Axes>"
      ]
     },
     "metadata": {
      "needs_background": "light"
     },
     "output_type": "display_data"
    }
   ],
   "source": [
    "# GMM\n",
    "from sklearn.datasets import make_moons\n",
    "Xmoon, ymoon = make_moons(138, noise=.2, random_state=0)\n",
    "plt.scatter(Xmoon[:, 0], Xmoon[:, 1]);"
   ]
  },
  {
   "cell_type": "code",
   "execution_count": 14,
   "metadata": {},
   "outputs": [
    {
     "data": {
      "image/png": "[encoded data removed]",
      "text/plain": [
       "<Figure size 432x288 with 1 Axes>"
      ]
     },
     "metadata": {
      "needs_background": "light"
     },
     "output_type": "display_data"
    }
   ],
   "source": [
    "gmm = GaussianMixture(n_components=3, covariance_type=\"full\", random_state=0)\n",
    "\n",
    "from matplotlib.patches import Ellipse\n",
    "\n",
    "def draw_ellipse(position, covariance, ax=None, **kwargs):\n",
    "    \"\"\"Draw an ellipse with a given position and covariance\"\"\"\n",
    "    ax = ax or plt.gca()\n",
    "    \n",
    "    # Convert covariance to principal axes\n",
    "    if covariance.shape == (2, 2):\n",
    "        U, s, Vt = np.linalg.svd(covariance)\n",
    "        angle = np.degrees(np.arctan2(U[1, 0], U[0, 0]))\n",
    "        width, height = 2 * np.sqrt(s)\n",
    "    else:\n",
    "        angle = 0\n",
    "        width, height = 2 * np.sqrt(covariance)\n",
    "    \n",
    "    # Draw the Ellipse\n",
    "    for nsig in range(1, 4):\n",
    "        ax.add_patch(Ellipse(position, nsig * width, nsig * height,\n",
    "                             angle, **kwargs))\n",
    "def plot_gmm(gmm, X, label=True, ax=None):\n",
    "    ax = ax or plt.gca()\n",
    "    labels = gmm.fit(X).predict(X)\n",
    "    if label:\n",
    "        ax.scatter(X[:, 0], X[:, 1], c=labels, s=40, cmap='viridis', zorder=2)\n",
    "    else:\n",
    "        ax.scatter(X[:, 0], X[:, 1], s=40, zorder=2)\n",
    "    ax.axis('equal')\n",
    "    \n",
    "    w_factor = 0.2 / gmm.weights_.max()\n",
    "    for pos, covar, w in zip(gmm.means_, gmm.covariances_, gmm.weights_):\n",
    "        draw_ellipse(pos, covar, alpha=w * w_factor)\n",
    "plot_gmm(gmm, Xmoon)"
   ]
  },
  {
   "cell_type": "markdown",
   "metadata": {},
   "source": [
    "# d) DB Scan clustering (not from scratch) using pycaret library "
   ]
  },
  {
   "cell_type": "code",
   "execution_count": 23,
   "metadata": {},
   "outputs": [
    {
     "data": {
      "text/html": [
       "<div>\n",
       "<style scoped>\n",
       "    .dataframe tbody tr th:only-of-type {\n",
       "        vertical-align: middle;\n",
       "    }\n",
       "\n",
       "    .dataframe tbody tr th {\n",
       "        vertical-align: top;\n",
       "    }\n",
       "\n",
       "    .dataframe thead th {\n",
       "        text-align: right;\n",
       "    }\n",
       "</style>\n",
       "<table border=\"1\" class=\"dataframe\">\n",
       "  <thead>\n",
       "    <tr style=\"text-align: right;\">\n",
       "      <th></th>\n",
       "      <th>Age</th>\n",
       "      <th>Income</th>\n",
       "      <th>SpendingScore</th>\n",
       "      <th>Savings</th>\n",
       "    </tr>\n",
       "  </thead>\n",
       "  <tbody>\n",
       "    <tr>\n",
       "      <th>0</th>\n",
       "      <td>58</td>\n",
       "      <td>77769</td>\n",
       "      <td>0.791329</td>\n",
       "      <td>6559.829923</td>\n",
       "    </tr>\n",
       "    <tr>\n",
       "      <th>1</th>\n",
       "      <td>59</td>\n",
       "      <td>81799</td>\n",
       "      <td>0.791082</td>\n",
       "      <td>5417.661426</td>\n",
       "    </tr>\n",
       "    <tr>\n",
       "      <th>2</th>\n",
       "      <td>62</td>\n",
       "      <td>74751</td>\n",
       "      <td>0.702657</td>\n",
       "      <td>9258.992965</td>\n",
       "    </tr>\n",
       "    <tr>\n",
       "      <th>3</th>\n",
       "      <td>59</td>\n",
       "      <td>74373</td>\n",
       "      <td>0.765680</td>\n",
       "      <td>7346.334504</td>\n",
       "    </tr>\n",
       "    <tr>\n",
       "      <th>4</th>\n",
       "      <td>87</td>\n",
       "      <td>17760</td>\n",
       "      <td>0.348778</td>\n",
       "      <td>16869.507130</td>\n",
       "    </tr>\n",
       "  </tbody>\n",
       "</table>\n",
       "</div>"
      ],
      "text/plain": [
       "   Age  Income  SpendingScore       Savings\n",
       "0   58   77769       0.791329   6559.829923\n",
       "1   59   81799       0.791082   5417.661426\n",
       "2   62   74751       0.702657   9258.992965\n",
       "3   59   74373       0.765680   7346.334504\n",
       "4   87   17760       0.348778  16869.507130"
      ]
     },
     "metadata": {},
     "output_type": "display_data"
    }
   ],
   "source": [
    "from pycaret.datasets import get_data\n",
    "data = get_data('jewellery')\n"
   ]
  },
  {
   "cell_type": "code",
   "execution_count": 28,
   "metadata": {},
   "outputs": [
    {
     "data": {
      "text/html": [
       "<style  type=\"text/css\" >\n",
       "    #T_9c7af84c_553d_11ec_82af_acde48001122row21_col1 {\n",
       "            background-color:  lightgreen;\n",
       "        }</style><table id=\"T_9c7af84c_553d_11ec_82af_acde48001122\" ><thead>    <tr>        <th class=\"blank level0\" ></th>        <th class=\"col_heading level0 col0\" >Description</th>        <th class=\"col_heading level0 col1\" >Value</th>    </tr></thead><tbody>\n",
       "                <tr>\n",
       "                        <th id=\"T_9c7af84c_553d_11ec_82af_acde48001122level0_row0\" class=\"row_heading level0 row0\" >0</th>\n",
       "                        <td id=\"T_9c7af84c_553d_11ec_82af_acde48001122row0_col0\" class=\"data row0 col0\" >session_id</td>\n",
       "                        <td id=\"T_9c7af84c_553d_11ec_82af_acde48001122row0_col1\" class=\"data row0 col1\" >123</td>\n",
       "            </tr>\n",
       "            <tr>\n",
       "                        <th id=\"T_9c7af84c_553d_11ec_82af_acde48001122level0_row1\" class=\"row_heading level0 row1\" >1</th>\n",
       "                        <td id=\"T_9c7af84c_553d_11ec_82af_acde48001122row1_col0\" class=\"data row1 col0\" >Original Data</td>\n",
       "                        <td id=\"T_9c7af84c_553d_11ec_82af_acde48001122row1_col1\" class=\"data row1 col1\" >(505, 4)</td>\n",
       "            </tr>\n",
       "            <tr>\n",
       "                        <th id=\"T_9c7af84c_553d_11ec_82af_acde48001122level0_row2\" class=\"row_heading level0 row2\" >2</th>\n",
       "                        <td id=\"T_9c7af84c_553d_11ec_82af_acde48001122row2_col0\" class=\"data row2 col0\" >Missing Values</td>\n",
       "                        <td id=\"T_9c7af84c_553d_11ec_82af_acde48001122row2_col1\" class=\"data row2 col1\" >False</td>\n",
       "            </tr>\n",
       "            <tr>\n",
       "                        <th id=\"T_9c7af84c_553d_11ec_82af_acde48001122level0_row3\" class=\"row_heading level0 row3\" >3</th>\n",
       "                        <td id=\"T_9c7af84c_553d_11ec_82af_acde48001122row3_col0\" class=\"data row3 col0\" >Numeric Features</td>\n",
       "                        <td id=\"T_9c7af84c_553d_11ec_82af_acde48001122row3_col1\" class=\"data row3 col1\" >4</td>\n",
       "            </tr>\n",
       "            <tr>\n",
       "                        <th id=\"T_9c7af84c_553d_11ec_82af_acde48001122level0_row4\" class=\"row_heading level0 row4\" >4</th>\n",
       "                        <td id=\"T_9c7af84c_553d_11ec_82af_acde48001122row4_col0\" class=\"data row4 col0\" >Categorical Features</td>\n",
       "                        <td id=\"T_9c7af84c_553d_11ec_82af_acde48001122row4_col1\" class=\"data row4 col1\" >0</td>\n",
       "            </tr>\n",
       "            <tr>\n",
       "                        <th id=\"T_9c7af84c_553d_11ec_82af_acde48001122level0_row5\" class=\"row_heading level0 row5\" >5</th>\n",
       "                        <td id=\"T_9c7af84c_553d_11ec_82af_acde48001122row5_col0\" class=\"data row5 col0\" >Ordinal Features</td>\n",
       "                        <td id=\"T_9c7af84c_553d_11ec_82af_acde48001122row5_col1\" class=\"data row5 col1\" >False</td>\n",
       "            </tr>\n",
       "            <tr>\n",
       "                        <th id=\"T_9c7af84c_553d_11ec_82af_acde48001122level0_row6\" class=\"row_heading level0 row6\" >6</th>\n",
       "                        <td id=\"T_9c7af84c_553d_11ec_82af_acde48001122row6_col0\" class=\"data row6 col0\" >High Cardinality Features</td>\n",
       "                        <td id=\"T_9c7af84c_553d_11ec_82af_acde48001122row6_col1\" class=\"data row6 col1\" >False</td>\n",
       "            </tr>\n",
       "            <tr>\n",
       "                        <th id=\"T_9c7af84c_553d_11ec_82af_acde48001122level0_row7\" class=\"row_heading level0 row7\" >7</th>\n",
       "                        <td id=\"T_9c7af84c_553d_11ec_82af_acde48001122row7_col0\" class=\"data row7 col0\" >High Cardinality Method</td>\n",
       "                        <td id=\"T_9c7af84c_553d_11ec_82af_acde48001122row7_col1\" class=\"data row7 col1\" >None</td>\n",
       "            </tr>\n",
       "            <tr>\n",
       "                        <th id=\"T_9c7af84c_553d_11ec_82af_acde48001122level0_row8\" class=\"row_heading level0 row8\" >8</th>\n",
       "                        <td id=\"T_9c7af84c_553d_11ec_82af_acde48001122row8_col0\" class=\"data row8 col0\" >Transformed Data</td>\n",
       "                        <td id=\"T_9c7af84c_553d_11ec_82af_acde48001122row8_col1\" class=\"data row8 col1\" >(505, 4)</td>\n",
       "            </tr>\n",
       "            <tr>\n",
       "                        <th id=\"T_9c7af84c_553d_11ec_82af_acde48001122level0_row9\" class=\"row_heading level0 row9\" >9</th>\n",
       "                        <td id=\"T_9c7af84c_553d_11ec_82af_acde48001122row9_col0\" class=\"data row9 col0\" >CPU Jobs</td>\n",
       "                        <td id=\"T_9c7af84c_553d_11ec_82af_acde48001122row9_col1\" class=\"data row9 col1\" >-1</td>\n",
       "            </tr>\n",
       "            <tr>\n",
       "                        <th id=\"T_9c7af84c_553d_11ec_82af_acde48001122level0_row10\" class=\"row_heading level0 row10\" >10</th>\n",
       "                        <td id=\"T_9c7af84c_553d_11ec_82af_acde48001122row10_col0\" class=\"data row10 col0\" >Use GPU</td>\n",
       "                        <td id=\"T_9c7af84c_553d_11ec_82af_acde48001122row10_col1\" class=\"data row10 col1\" >False</td>\n",
       "            </tr>\n",
       "            <tr>\n",
       "                        <th id=\"T_9c7af84c_553d_11ec_82af_acde48001122level0_row11\" class=\"row_heading level0 row11\" >11</th>\n",
       "                        <td id=\"T_9c7af84c_553d_11ec_82af_acde48001122row11_col0\" class=\"data row11 col0\" >Log Experiment</td>\n",
       "                        <td id=\"T_9c7af84c_553d_11ec_82af_acde48001122row11_col1\" class=\"data row11 col1\" >False</td>\n",
       "            </tr>\n",
       "            <tr>\n",
       "                        <th id=\"T_9c7af84c_553d_11ec_82af_acde48001122level0_row12\" class=\"row_heading level0 row12\" >12</th>\n",
       "                        <td id=\"T_9c7af84c_553d_11ec_82af_acde48001122row12_col0\" class=\"data row12 col0\" >Experiment Name</td>\n",
       "                        <td id=\"T_9c7af84c_553d_11ec_82af_acde48001122row12_col1\" class=\"data row12 col1\" >cluster-default-name</td>\n",
       "            </tr>\n",
       "            <tr>\n",
       "                        <th id=\"T_9c7af84c_553d_11ec_82af_acde48001122level0_row13\" class=\"row_heading level0 row13\" >13</th>\n",
       "                        <td id=\"T_9c7af84c_553d_11ec_82af_acde48001122row13_col0\" class=\"data row13 col0\" >USI</td>\n",
       "                        <td id=\"T_9c7af84c_553d_11ec_82af_acde48001122row13_col1\" class=\"data row13 col1\" >bd99</td>\n",
       "            </tr>\n",
       "            <tr>\n",
       "                        <th id=\"T_9c7af84c_553d_11ec_82af_acde48001122level0_row14\" class=\"row_heading level0 row14\" >14</th>\n",
       "                        <td id=\"T_9c7af84c_553d_11ec_82af_acde48001122row14_col0\" class=\"data row14 col0\" >Imputation Type</td>\n",
       "                        <td id=\"T_9c7af84c_553d_11ec_82af_acde48001122row14_col1\" class=\"data row14 col1\" >simple</td>\n",
       "            </tr>\n",
       "            <tr>\n",
       "                        <th id=\"T_9c7af84c_553d_11ec_82af_acde48001122level0_row15\" class=\"row_heading level0 row15\" >15</th>\n",
       "                        <td id=\"T_9c7af84c_553d_11ec_82af_acde48001122row15_col0\" class=\"data row15 col0\" >Iterative Imputation Iteration</td>\n",
       "                        <td id=\"T_9c7af84c_553d_11ec_82af_acde48001122row15_col1\" class=\"data row15 col1\" >None</td>\n",
       "            </tr>\n",
       "            <tr>\n",
       "                        <th id=\"T_9c7af84c_553d_11ec_82af_acde48001122level0_row16\" class=\"row_heading level0 row16\" >16</th>\n",
       "                        <td id=\"T_9c7af84c_553d_11ec_82af_acde48001122row16_col0\" class=\"data row16 col0\" >Numeric Imputer</td>\n",
       "                        <td id=\"T_9c7af84c_553d_11ec_82af_acde48001122row16_col1\" class=\"data row16 col1\" >mean</td>\n",
       "            </tr>\n",
       "            <tr>\n",
       "                        <th id=\"T_9c7af84c_553d_11ec_82af_acde48001122level0_row17\" class=\"row_heading level0 row17\" >17</th>\n",
       "                        <td id=\"T_9c7af84c_553d_11ec_82af_acde48001122row17_col0\" class=\"data row17 col0\" >Iterative Imputation Numeric Model</td>\n",
       "                        <td id=\"T_9c7af84c_553d_11ec_82af_acde48001122row17_col1\" class=\"data row17 col1\" >None</td>\n",
       "            </tr>\n",
       "            <tr>\n",
       "                        <th id=\"T_9c7af84c_553d_11ec_82af_acde48001122level0_row18\" class=\"row_heading level0 row18\" >18</th>\n",
       "                        <td id=\"T_9c7af84c_553d_11ec_82af_acde48001122row18_col0\" class=\"data row18 col0\" >Categorical Imputer</td>\n",
       "                        <td id=\"T_9c7af84c_553d_11ec_82af_acde48001122row18_col1\" class=\"data row18 col1\" >mode</td>\n",
       "            </tr>\n",
       "            <tr>\n",
       "                        <th id=\"T_9c7af84c_553d_11ec_82af_acde48001122level0_row19\" class=\"row_heading level0 row19\" >19</th>\n",
       "                        <td id=\"T_9c7af84c_553d_11ec_82af_acde48001122row19_col0\" class=\"data row19 col0\" >Iterative Imputation Categorical Model</td>\n",
       "                        <td id=\"T_9c7af84c_553d_11ec_82af_acde48001122row19_col1\" class=\"data row19 col1\" >None</td>\n",
       "            </tr>\n",
       "            <tr>\n",
       "                        <th id=\"T_9c7af84c_553d_11ec_82af_acde48001122level0_row20\" class=\"row_heading level0 row20\" >20</th>\n",
       "                        <td id=\"T_9c7af84c_553d_11ec_82af_acde48001122row20_col0\" class=\"data row20 col0\" >Unknown Categoricals Handling</td>\n",
       "                        <td id=\"T_9c7af84c_553d_11ec_82af_acde48001122row20_col1\" class=\"data row20 col1\" >least_frequent</td>\n",
       "            </tr>\n",
       "            <tr>\n",
       "                        <th id=\"T_9c7af84c_553d_11ec_82af_acde48001122level0_row21\" class=\"row_heading level0 row21\" >21</th>\n",
       "                        <td id=\"T_9c7af84c_553d_11ec_82af_acde48001122row21_col0\" class=\"data row21 col0\" >Normalize</td>\n",
       "                        <td id=\"T_9c7af84c_553d_11ec_82af_acde48001122row21_col1\" class=\"data row21 col1\" >True</td>\n",
       "            </tr>\n",
       "            <tr>\n",
       "                        <th id=\"T_9c7af84c_553d_11ec_82af_acde48001122level0_row22\" class=\"row_heading level0 row22\" >22</th>\n",
       "                        <td id=\"T_9c7af84c_553d_11ec_82af_acde48001122row22_col0\" class=\"data row22 col0\" >Normalize Method</td>\n",
       "                        <td id=\"T_9c7af84c_553d_11ec_82af_acde48001122row22_col1\" class=\"data row22 col1\" >zscore</td>\n",
       "            </tr>\n",
       "            <tr>\n",
       "                        <th id=\"T_9c7af84c_553d_11ec_82af_acde48001122level0_row23\" class=\"row_heading level0 row23\" >23</th>\n",
       "                        <td id=\"T_9c7af84c_553d_11ec_82af_acde48001122row23_col0\" class=\"data row23 col0\" >Transformation</td>\n",
       "                        <td id=\"T_9c7af84c_553d_11ec_82af_acde48001122row23_col1\" class=\"data row23 col1\" >False</td>\n",
       "            </tr>\n",
       "            <tr>\n",
       "                        <th id=\"T_9c7af84c_553d_11ec_82af_acde48001122level0_row24\" class=\"row_heading level0 row24\" >24</th>\n",
       "                        <td id=\"T_9c7af84c_553d_11ec_82af_acde48001122row24_col0\" class=\"data row24 col0\" >Transformation Method</td>\n",
       "                        <td id=\"T_9c7af84c_553d_11ec_82af_acde48001122row24_col1\" class=\"data row24 col1\" >None</td>\n",
       "            </tr>\n",
       "            <tr>\n",
       "                        <th id=\"T_9c7af84c_553d_11ec_82af_acde48001122level0_row25\" class=\"row_heading level0 row25\" >25</th>\n",
       "                        <td id=\"T_9c7af84c_553d_11ec_82af_acde48001122row25_col0\" class=\"data row25 col0\" >PCA</td>\n",
       "                        <td id=\"T_9c7af84c_553d_11ec_82af_acde48001122row25_col1\" class=\"data row25 col1\" >False</td>\n",
       "            </tr>\n",
       "            <tr>\n",
       "                        <th id=\"T_9c7af84c_553d_11ec_82af_acde48001122level0_row26\" class=\"row_heading level0 row26\" >26</th>\n",
       "                        <td id=\"T_9c7af84c_553d_11ec_82af_acde48001122row26_col0\" class=\"data row26 col0\" >PCA Method</td>\n",
       "                        <td id=\"T_9c7af84c_553d_11ec_82af_acde48001122row26_col1\" class=\"data row26 col1\" >None</td>\n",
       "            </tr>\n",
       "            <tr>\n",
       "                        <th id=\"T_9c7af84c_553d_11ec_82af_acde48001122level0_row27\" class=\"row_heading level0 row27\" >27</th>\n",
       "                        <td id=\"T_9c7af84c_553d_11ec_82af_acde48001122row27_col0\" class=\"data row27 col0\" >PCA Components</td>\n",
       "                        <td id=\"T_9c7af84c_553d_11ec_82af_acde48001122row27_col1\" class=\"data row27 col1\" >None</td>\n",
       "            </tr>\n",
       "            <tr>\n",
       "                        <th id=\"T_9c7af84c_553d_11ec_82af_acde48001122level0_row28\" class=\"row_heading level0 row28\" >28</th>\n",
       "                        <td id=\"T_9c7af84c_553d_11ec_82af_acde48001122row28_col0\" class=\"data row28 col0\" >Ignore Low Variance</td>\n",
       "                        <td id=\"T_9c7af84c_553d_11ec_82af_acde48001122row28_col1\" class=\"data row28 col1\" >False</td>\n",
       "            </tr>\n",
       "            <tr>\n",
       "                        <th id=\"T_9c7af84c_553d_11ec_82af_acde48001122level0_row29\" class=\"row_heading level0 row29\" >29</th>\n",
       "                        <td id=\"T_9c7af84c_553d_11ec_82af_acde48001122row29_col0\" class=\"data row29 col0\" >Combine Rare Levels</td>\n",
       "                        <td id=\"T_9c7af84c_553d_11ec_82af_acde48001122row29_col1\" class=\"data row29 col1\" >False</td>\n",
       "            </tr>\n",
       "            <tr>\n",
       "                        <th id=\"T_9c7af84c_553d_11ec_82af_acde48001122level0_row30\" class=\"row_heading level0 row30\" >30</th>\n",
       "                        <td id=\"T_9c7af84c_553d_11ec_82af_acde48001122row30_col0\" class=\"data row30 col0\" >Rare Level Threshold</td>\n",
       "                        <td id=\"T_9c7af84c_553d_11ec_82af_acde48001122row30_col1\" class=\"data row30 col1\" >None</td>\n",
       "            </tr>\n",
       "            <tr>\n",
       "                        <th id=\"T_9c7af84c_553d_11ec_82af_acde48001122level0_row31\" class=\"row_heading level0 row31\" >31</th>\n",
       "                        <td id=\"T_9c7af84c_553d_11ec_82af_acde48001122row31_col0\" class=\"data row31 col0\" >Numeric Binning</td>\n",
       "                        <td id=\"T_9c7af84c_553d_11ec_82af_acde48001122row31_col1\" class=\"data row31 col1\" >False</td>\n",
       "            </tr>\n",
       "            <tr>\n",
       "                        <th id=\"T_9c7af84c_553d_11ec_82af_acde48001122level0_row32\" class=\"row_heading level0 row32\" >32</th>\n",
       "                        <td id=\"T_9c7af84c_553d_11ec_82af_acde48001122row32_col0\" class=\"data row32 col0\" >Remove Outliers</td>\n",
       "                        <td id=\"T_9c7af84c_553d_11ec_82af_acde48001122row32_col1\" class=\"data row32 col1\" >False</td>\n",
       "            </tr>\n",
       "            <tr>\n",
       "                        <th id=\"T_9c7af84c_553d_11ec_82af_acde48001122level0_row33\" class=\"row_heading level0 row33\" >33</th>\n",
       "                        <td id=\"T_9c7af84c_553d_11ec_82af_acde48001122row33_col0\" class=\"data row33 col0\" >Outliers Threshold</td>\n",
       "                        <td id=\"T_9c7af84c_553d_11ec_82af_acde48001122row33_col1\" class=\"data row33 col1\" >None</td>\n",
       "            </tr>\n",
       "            <tr>\n",
       "                        <th id=\"T_9c7af84c_553d_11ec_82af_acde48001122level0_row34\" class=\"row_heading level0 row34\" >34</th>\n",
       "                        <td id=\"T_9c7af84c_553d_11ec_82af_acde48001122row34_col0\" class=\"data row34 col0\" >Remove Multicollinearity</td>\n",
       "                        <td id=\"T_9c7af84c_553d_11ec_82af_acde48001122row34_col1\" class=\"data row34 col1\" >False</td>\n",
       "            </tr>\n",
       "            <tr>\n",
       "                        <th id=\"T_9c7af84c_553d_11ec_82af_acde48001122level0_row35\" class=\"row_heading level0 row35\" >35</th>\n",
       "                        <td id=\"T_9c7af84c_553d_11ec_82af_acde48001122row35_col0\" class=\"data row35 col0\" >Multicollinearity Threshold</td>\n",
       "                        <td id=\"T_9c7af84c_553d_11ec_82af_acde48001122row35_col1\" class=\"data row35 col1\" >None</td>\n",
       "            </tr>\n",
       "            <tr>\n",
       "                        <th id=\"T_9c7af84c_553d_11ec_82af_acde48001122level0_row36\" class=\"row_heading level0 row36\" >36</th>\n",
       "                        <td id=\"T_9c7af84c_553d_11ec_82af_acde48001122row36_col0\" class=\"data row36 col0\" >Remove Perfect Collinearity</td>\n",
       "                        <td id=\"T_9c7af84c_553d_11ec_82af_acde48001122row36_col1\" class=\"data row36 col1\" >False</td>\n",
       "            </tr>\n",
       "            <tr>\n",
       "                        <th id=\"T_9c7af84c_553d_11ec_82af_acde48001122level0_row37\" class=\"row_heading level0 row37\" >37</th>\n",
       "                        <td id=\"T_9c7af84c_553d_11ec_82af_acde48001122row37_col0\" class=\"data row37 col0\" >Clustering</td>\n",
       "                        <td id=\"T_9c7af84c_553d_11ec_82af_acde48001122row37_col1\" class=\"data row37 col1\" >False</td>\n",
       "            </tr>\n",
       "            <tr>\n",
       "                        <th id=\"T_9c7af84c_553d_11ec_82af_acde48001122level0_row38\" class=\"row_heading level0 row38\" >38</th>\n",
       "                        <td id=\"T_9c7af84c_553d_11ec_82af_acde48001122row38_col0\" class=\"data row38 col0\" >Clustering Iteration</td>\n",
       "                        <td id=\"T_9c7af84c_553d_11ec_82af_acde48001122row38_col1\" class=\"data row38 col1\" >None</td>\n",
       "            </tr>\n",
       "            <tr>\n",
       "                        <th id=\"T_9c7af84c_553d_11ec_82af_acde48001122level0_row39\" class=\"row_heading level0 row39\" >39</th>\n",
       "                        <td id=\"T_9c7af84c_553d_11ec_82af_acde48001122row39_col0\" class=\"data row39 col0\" >Polynomial Features</td>\n",
       "                        <td id=\"T_9c7af84c_553d_11ec_82af_acde48001122row39_col1\" class=\"data row39 col1\" >False</td>\n",
       "            </tr>\n",
       "            <tr>\n",
       "                        <th id=\"T_9c7af84c_553d_11ec_82af_acde48001122level0_row40\" class=\"row_heading level0 row40\" >40</th>\n",
       "                        <td id=\"T_9c7af84c_553d_11ec_82af_acde48001122row40_col0\" class=\"data row40 col0\" >Polynomial Degree</td>\n",
       "                        <td id=\"T_9c7af84c_553d_11ec_82af_acde48001122row40_col1\" class=\"data row40 col1\" >None</td>\n",
       "            </tr>\n",
       "            <tr>\n",
       "                        <th id=\"T_9c7af84c_553d_11ec_82af_acde48001122level0_row41\" class=\"row_heading level0 row41\" >41</th>\n",
       "                        <td id=\"T_9c7af84c_553d_11ec_82af_acde48001122row41_col0\" class=\"data row41 col0\" >Trignometry Features</td>\n",
       "                        <td id=\"T_9c7af84c_553d_11ec_82af_acde48001122row41_col1\" class=\"data row41 col1\" >False</td>\n",
       "            </tr>\n",
       "            <tr>\n",
       "                        <th id=\"T_9c7af84c_553d_11ec_82af_acde48001122level0_row42\" class=\"row_heading level0 row42\" >42</th>\n",
       "                        <td id=\"T_9c7af84c_553d_11ec_82af_acde48001122row42_col0\" class=\"data row42 col0\" >Polynomial Threshold</td>\n",
       "                        <td id=\"T_9c7af84c_553d_11ec_82af_acde48001122row42_col1\" class=\"data row42 col1\" >None</td>\n",
       "            </tr>\n",
       "            <tr>\n",
       "                        <th id=\"T_9c7af84c_553d_11ec_82af_acde48001122level0_row43\" class=\"row_heading level0 row43\" >43</th>\n",
       "                        <td id=\"T_9c7af84c_553d_11ec_82af_acde48001122row43_col0\" class=\"data row43 col0\" >Group Features</td>\n",
       "                        <td id=\"T_9c7af84c_553d_11ec_82af_acde48001122row43_col1\" class=\"data row43 col1\" >False</td>\n",
       "            </tr>\n",
       "            <tr>\n",
       "                        <th id=\"T_9c7af84c_553d_11ec_82af_acde48001122level0_row44\" class=\"row_heading level0 row44\" >44</th>\n",
       "                        <td id=\"T_9c7af84c_553d_11ec_82af_acde48001122row44_col0\" class=\"data row44 col0\" >Feature Selection</td>\n",
       "                        <td id=\"T_9c7af84c_553d_11ec_82af_acde48001122row44_col1\" class=\"data row44 col1\" >False</td>\n",
       "            </tr>\n",
       "            <tr>\n",
       "                        <th id=\"T_9c7af84c_553d_11ec_82af_acde48001122level0_row45\" class=\"row_heading level0 row45\" >45</th>\n",
       "                        <td id=\"T_9c7af84c_553d_11ec_82af_acde48001122row45_col0\" class=\"data row45 col0\" >Feature Selection Method</td>\n",
       "                        <td id=\"T_9c7af84c_553d_11ec_82af_acde48001122row45_col1\" class=\"data row45 col1\" >classic</td>\n",
       "            </tr>\n",
       "            <tr>\n",
       "                        <th id=\"T_9c7af84c_553d_11ec_82af_acde48001122level0_row46\" class=\"row_heading level0 row46\" >46</th>\n",
       "                        <td id=\"T_9c7af84c_553d_11ec_82af_acde48001122row46_col0\" class=\"data row46 col0\" >Features Selection Threshold</td>\n",
       "                        <td id=\"T_9c7af84c_553d_11ec_82af_acde48001122row46_col1\" class=\"data row46 col1\" >None</td>\n",
       "            </tr>\n",
       "            <tr>\n",
       "                        <th id=\"T_9c7af84c_553d_11ec_82af_acde48001122level0_row47\" class=\"row_heading level0 row47\" >47</th>\n",
       "                        <td id=\"T_9c7af84c_553d_11ec_82af_acde48001122row47_col0\" class=\"data row47 col0\" >Feature Interaction</td>\n",
       "                        <td id=\"T_9c7af84c_553d_11ec_82af_acde48001122row47_col1\" class=\"data row47 col1\" >False</td>\n",
       "            </tr>\n",
       "            <tr>\n",
       "                        <th id=\"T_9c7af84c_553d_11ec_82af_acde48001122level0_row48\" class=\"row_heading level0 row48\" >48</th>\n",
       "                        <td id=\"T_9c7af84c_553d_11ec_82af_acde48001122row48_col0\" class=\"data row48 col0\" >Feature Ratio</td>\n",
       "                        <td id=\"T_9c7af84c_553d_11ec_82af_acde48001122row48_col1\" class=\"data row48 col1\" >False</td>\n",
       "            </tr>\n",
       "            <tr>\n",
       "                        <th id=\"T_9c7af84c_553d_11ec_82af_acde48001122level0_row49\" class=\"row_heading level0 row49\" >49</th>\n",
       "                        <td id=\"T_9c7af84c_553d_11ec_82af_acde48001122row49_col0\" class=\"data row49 col0\" >Interaction Threshold</td>\n",
       "                        <td id=\"T_9c7af84c_553d_11ec_82af_acde48001122row49_col1\" class=\"data row49 col1\" >None</td>\n",
       "            </tr>\n",
       "    </tbody></table>"
      ],
      "text/plain": [
       "<pandas.io.formats.style.Styler at 0x7fcc0135a9a0>"
      ]
     },
     "metadata": {},
     "output_type": "display_data"
    }
   ],
   "source": [
    "from pycaret.clustering import *\n",
    "clu1 = setup(data, normalize=True, session_id=123)"
   ]
  },
  {
   "cell_type": "code",
   "execution_count": 29,
   "metadata": {},
   "outputs": [
    {
     "data": {
      "text/html": [
       "<div>\n",
       "<style scoped>\n",
       "    .dataframe tbody tr th:only-of-type {\n",
       "        vertical-align: middle;\n",
       "    }\n",
       "\n",
       "    .dataframe tbody tr th {\n",
       "        vertical-align: top;\n",
       "    }\n",
       "\n",
       "    .dataframe thead th {\n",
       "        text-align: right;\n",
       "    }\n",
       "</style>\n",
       "<table border=\"1\" class=\"dataframe\">\n",
       "  <thead>\n",
       "    <tr style=\"text-align: right;\">\n",
       "      <th></th>\n",
       "      <th>Silhouette</th>\n",
       "      <th>Calinski-Harabasz</th>\n",
       "      <th>Davies-Bouldin</th>\n",
       "      <th>Homogeneity</th>\n",
       "      <th>Rand Index</th>\n",
       "      <th>Completeness</th>\n",
       "    </tr>\n",
       "  </thead>\n",
       "  <tbody>\n",
       "    <tr>\n",
       "      <th>0</th>\n",
       "      <td>0.7581</td>\n",
       "      <td>1611.2649</td>\n",
       "      <td>0.3743</td>\n",
       "      <td>0</td>\n",
       "      <td>0</td>\n",
       "      <td>0</td>\n",
       "    </tr>\n",
       "  </tbody>\n",
       "</table>\n",
       "</div>"
      ],
      "text/plain": [
       "   Silhouette  Calinski-Harabasz  Davies-Bouldin  Homogeneity  Rand Index  \\\n",
       "0      0.7581          1611.2649          0.3743            0           0   \n",
       "\n",
       "   Completeness  \n",
       "0             0  "
      ]
     },
     "metadata": {},
     "output_type": "display_data"
    },
    {
     "name": "stdout",
     "output_type": "stream",
     "text": [
      "KMeans(algorithm='auto', copy_x=True, init='k-means++', max_iter=300,\n",
      "       n_clusters=4, n_init=10, n_jobs=-1, precompute_distances='deprecated',\n",
      "       random_state=123, tol=0.0001, verbose=0)\n"
     ]
    }
   ],
   "source": [
    "kmeans = create_model('kmeans')\n",
    "print(kmeans)"
   ]
  },
  {
   "cell_type": "code",
   "execution_count": 32,
   "metadata": {},
   "outputs": [
    {
     "data": {
      "application/vnd.plotly.v1+json": {
       "config": {
        "plotlyServerURL": "https://plot.ly"
       },
       "data": [
        {
         "customdata": [
          [
           89
          ],
          [
           91
          ],
          [
           92
          ],
          [
           90
          ],
          [
           93
          ],
          [
           89
          ],
          [
           88
          ],
          [
           87
          ],
          [
           86
          ],
          [
           82
          ],
          [
           91
          ],
          [
           88
          ],
          [
           87
          ],
          [
           91
          ],
          [
           90
          ],
          [
           85
          ],
          [
           91
          ],
          [
           88
          ],
          [
           85
          ],
          [
           85
          ],
          [
           88
          ],
          [
           84
          ],
          [
           88
          ],
          [
           94
          ],
          [
           86
          ],
          [
           94
          ],
          [
           89
          ],
          [
           87
          ],
          [
           84
          ],
          [
           91
          ],
          [
           91
          ],
          [
           88
          ],
          [
           88
          ],
          [
           89
          ],
          [
           91
          ],
          [
           90
          ],
          [
           89
          ],
          [
           83
          ],
          [
           83
          ],
          [
           86
          ],
          [
           84
          ],
          [
           94
          ],
          [
           94
          ],
          [
           79
          ],
          [
           88
          ],
          [
           85
          ],
          [
           82
          ],
          [
           82
          ],
          [
           91
          ],
          [
           91
          ],
          [
           89
          ],
          [
           84
          ],
          [
           87
          ],
          [
           81
          ],
          [
           93
          ],
          [
           84
          ],
          [
           95
          ],
          [
           89
          ],
          [
           86
          ],
          [
           85
          ],
          [
           87
          ],
          [
           92
          ],
          [
           89
          ],
          [
           85
          ],
          [
           88
          ],
          [
           86
          ],
          [
           94
          ],
          [
           87
          ],
          [
           85
          ],
          [
           83
          ],
          [
           87
          ],
          [
           88
          ],
          [
           84
          ],
          [
           85
          ],
          [
           91
          ],
          [
           90
          ],
          [
           88
          ],
          [
           89
          ],
          [
           88
          ],
          [
           92
          ],
          [
           90
          ],
          [
           85
          ],
          [
           88
          ],
          [
           94
          ],
          [
           84
          ],
          [
           91
          ],
          [
           88
          ],
          [
           87
          ],
          [
           86
          ],
          [
           83
          ],
          [
           83
          ],
          [
           91
          ],
          [
           86
          ],
          [
           89
          ],
          [
           92
          ],
          [
           87
          ],
          [
           84
          ],
          [
           83
          ],
          [
           83
          ],
          [
           85
          ],
          [
           90
          ],
          [
           97
          ],
          [
           92
          ],
          [
           87
          ],
          [
           91
          ],
          [
           83
          ],
          [
           87
          ],
          [
           91
          ],
          [
           82
          ],
          [
           91
          ],
          [
           90
          ],
          [
           86
          ],
          [
           85
          ],
          [
           90
          ],
          [
           84
          ],
          [
           87
          ],
          [
           84
          ],
          [
           88
          ],
          [
           91
          ],
          [
           84
          ],
          [
           94
          ],
          [
           89
          ],
          [
           92
          ],
          [
           89
          ],
          [
           90
          ],
          [
           90
          ],
          [
           88
          ],
          [
           88
          ],
          [
           93
          ],
          [
           90
          ],
          [
           87
          ],
          [
           87
          ],
          [
           91
          ],
          [
           87
          ],
          [
           87
          ],
          [
           92
          ],
          [
           84
          ],
          [
           87
          ],
          [
           87
          ],
          [
           83
          ],
          [
           79
          ],
          [
           92
          ],
          [
           91
          ],
          [
           83
          ],
          [
           86
          ],
          [
           84
          ],
          [
           82
          ]
         ],
         "hovertemplate": "Cluster=Cluster 0<br>PCA1=%{x}<br>PCA2=%{y}<br>Feature=%{customdata[0]}<extra></extra>",
         "legendgroup": "Cluster 0",
         "marker": {
          "color": "#636efa",
          "opacity": 0.5,
          "symbol": "circle"
         },
         "mode": "markers",
         "name": "Cluster 0",
         "orientation": "v",
         "showlegend": true,
         "textposition": "top center",
         "type": "scatter",
         "x": [
          -1.8925108909606934,
          -2.446141481399536,
          -2.441359281539917,
          -1.9237722158432007,
          -2.567403554916382,
          -2.1055781841278076,
          -2.188415288925171,
          -2.0617520809173584,
          -2.3022961616516113,
          -2.0517539978027344,
          -2.287584066390991,
          -1.9803950786590576,
          -2.186924934387207,
          -1.9888646602630615,
          -2.4957385063171387,
          -2.069377899169922,
          -2.0606772899627686,
          -1.856850504875183,
          -1.8605685234069824,
          -1.8598631620407104,
          -1.8583760261535645,
          -1.8125985860824585,
          -2.181046962738037,
          -2.1219983100891113,
          -1.9440786838531494,
          -2.0897743701934814,
          -2.1338746547698975,
          -1.9494258165359497,
          -2.039295196533203,
          -2.2638330459594727,
          -2.0596237182617188,
          -2.1045496463775635,
          -1.8776606321334839,
          -1.587644100189209,
          -2.4708573818206787,
          -1.8108783960342407,
          -1.9874404668807983,
          -2.084897041320801,
          -2.075246810913086,
          -2.07730770111084,
          -2.1082663536071777,
          -2.4042844772338867,
          -2.2408645153045654,
          -1.651897668838501,
          -2.1966559886932373,
          -2.1063120365142822,
          -1.6872618198394775,
          -1.9126179218292236,
          -2.351104974746704,
          -2.377901315689087,
          -2.1601521968841553,
          -1.855593204498291,
          -2.1368680000305176,
          -1.9100580215454102,
          -2.419935941696167,
          -2.353624105453491,
          -2.3908019065856934,
          -2.2267348766326904,
          -1.7605111598968506,
          -1.7579728364944458,
          -2.011019468307495,
          -2.0545296669006348,
          -2.109975814819336,
          -2.0341999530792236,
          -2.2967092990875244,
          -2.3114418983459473,
          -2.0640289783477783,
          -2.1894965171813965,
          -2.2135655879974365,
          -1.7196685075759888,
          -1.64151132106781,
          -1.9635159969329834,
          -1.881954312324524,
          -1.959352731704712,
          -2.1987507343292236,
          -2.1246163845062256,
          -1.947566032409668,
          -2.2696261405944824,
          -2.025716543197632,
          -1.9876149892807007,
          -2.2367465496063232,
          -2.155531167984009,
          -1.9479434490203857,
          -2.324178457260132,
          -2.0794029235839844,
          -2.1601338386535645,
          -2.325666666030884,
          -1.8905360698699951,
          -2.127960443496704,
          -1.8501152992248535,
          -2.0660319328308105,
          -2.284118413925171,
          -2.408627510070801,
          -2.0549628734588623,
          -2.1151368618011475,
          -2.2149157524108887,
          -1.8268460035324097,
          -2.0488767623901367,
          -2.074065685272217,
          -1.7799248695373535,
          -2.1132564544677734,
          -2.1665842533111572,
          -2.1383726596832275,
          -2.100966215133667,
          -2.271970510482788,
          -2.1726090908050537,
          -1.9797379970550537,
          -2.2095301151275635,
          -1.9316942691802979,
          -2.1905839443206787,
          -2.0875253677368164,
          -2.0325489044189453,
          -1.8449581861495972,
          -2.0547006130218506,
          -2.3168742656707764,
          -2.0156712532043457,
          -2.137449264526367,
          -1.874466061592102,
          -2.1795403957366943,
          -1.8540502786636353,
          -2.3009042739868164,
          -1.9614747762680054,
          -2.0620200634002686,
          -1.6899800300598145,
          -2.0057291984558105,
          -1.9113861322402954,
          -2.372241497039795,
          -1.7185101509094238,
          -2.665086269378662,
          -2.0348479747772217,
          -1.9122360944747925,
          -1.8777120113372803,
          -2.0219218730926514,
          -2.1763696670532227,
          -1.9208530187606812,
          -2.007206439971924,
          -2.0126116275787354,
          -2.1694540977478027,
          -1.9726831912994385,
          -1.6920149326324463,
          -1.7340508699417114,
          -2.309185028076172,
          -2.3963868618011475,
          -1.89454984664917,
          -2.0904910564422607,
          -2.0610485076904297,
          -2.142347812652588
         ],
         "xaxis": "x",
         "y": [
          -0.6046133041381836,
          -0.2782950699329376,
          -0.5181752443313599,
          -0.6273737549781799,
          -0.5584246516227722,
          -0.5517791509628296,
          -0.4018643796443939,
          -0.39991602301597595,
          -0.11431647092103958,
          -0.15961848199367523,
          -0.8755621910095215,
          -0.4501754641532898,
          -0.8067986965179443,
          -0.46772336959838867,
          -0.3681068420410156,
          -0.5698588490486145,
          -0.5417883992195129,
          -0.7054096460342407,
          -0.5908672213554382,
          -0.43428030610084534,
          -0.5353788733482361,
          -0.19896425306797028,
          -0.4708766043186188,
          -0.7167496085166931,
          -0.5298415422439575,
          -0.44240671396255493,
          -0.5696758031845093,
          -0.628052294254303,
          -0.4053437411785126,
          -0.45444363355636597,
          -0.6563172936439514,
          -0.64800626039505,
          -0.7015095353126526,
          -1.0908340215682983,
          -0.24686957895755768,
          -0.689354419708252,
          -0.5169973969459534,
          -0.5585018992424011,
          -0.3794022798538208,
          -0.6825623512268066,
          -0.3138173818588257,
          -0.717338502407074,
          -0.7895577549934387,
          -0.29117539525032043,
          -0.6273106932640076,
          -0.28449535369873047,
          -0.7954896688461304,
          -0.3122000992298126,
          -0.6846128106117249,
          -0.5926914215087891,
          -0.6676334142684937,
          -0.574437141418457,
          -0.55195552110672,
          -0.1915048211812973,
          -0.5971874594688416,
          -0.10320498794317245,
          -0.5480986833572388,
          -0.4646400809288025,
          -0.17396238446235657,
          -0.6274949908256531,
          -0.5766028761863708,
          -0.5009898543357849,
          -0.7826585173606873,
          -0.40722253918647766,
          -0.19657941162586212,
          -0.05758720263838768,
          -0.746414303779602,
          -0.5869163870811462,
          -0.2550450563430786,
          -0.6422722339630127,
          -0.3200516998767853,
          -0.96404629945755,
          -0.29422032833099365,
          -0.3045940697193146,
          -0.6138377785682678,
          -0.4603714048862457,
          -0.5215536952018738,
          -0.28863194584846497,
          -0.5390363335609436,
          -0.6418523192405701,
          -0.5264177322387695,
          -0.39828982949256897,
          -0.6458555459976196,
          -0.5246598124504089,
          -0.5608564019203186,
          -0.5893179774284363,
          -0.5350068807601929,
          -0.5393489003181458,
          -0.13910986483097076,
          -0.4274951219558716,
          -0.15270155668258667,
          -0.4958561360836029,
          -0.44874316453933716,
          -0.7539517879486084,
          -0.4297362267971039,
          -0.5241268277168274,
          -0.3671599328517914,
          -0.2910277247428894,
          -0.4538953900337219,
          -0.6441530585289001,
          -0.36960744857788086,
          -0.7505223751068115,
          -0.8410365581512451,
          -0.5619376301765442,
          -0.4491521716117859,
          -0.23068514466285706,
          -0.4565931260585785,
          -0.579750657081604,
          -0.3003394603729248,
          -0.6014840006828308,
          -0.6338679790496826,
          -0.556391179561615,
          -0.7365489602088928,
          -0.7520080208778381,
          -0.4088176488876343,
          -0.6102163791656494,
          -0.3834385573863983,
          -0.6191138029098511,
          -0.6347752809524536,
          -0.5275813341140747,
          -0.6493921875953674,
          -0.6400381326675415,
          -0.5549706220626831,
          -0.6934901475906372,
          -0.4200302064418793,
          -0.5456020832061768,
          -0.5161714553833008,
          -0.7034938335418701,
          -0.3562736213207245,
          -0.5728517770767212,
          -0.6857115626335144,
          -0.6206333637237549,
          -0.5746302604675293,
          -0.6740190982818604,
          -0.9227831363677979,
          -0.5682777166366577,
          -0.6402749419212341,
          -0.3689551055431366,
          -0.20918376743793488,
          -0.46643900871276855,
          -0.3269648551940918,
          -0.6093332171440125,
          -0.107436902821064,
          -0.3030516803264618,
          -0.44017425179481506,
          -0.4187217652797699,
          -0.30471065640449524
         ],
         "yaxis": "y"
        },
        {
         "customdata": [
          [
           65
          ],
          [
           57
          ],
          [
           65
          ],
          [
           59
          ],
          [
           61
          ],
          [
           60
          ],
          [
           55
          ],
          [
           63
          ],
          [
           62
          ],
          [
           59
          ],
          [
           67
          ],
          [
           58
          ],
          [
           66
          ],
          [
           58
          ],
          [
           57
          ],
          [
           57
          ],
          [
           66
          ],
          [
           59
          ],
          [
           68
          ],
          [
           61
          ],
          [
           58
          ],
          [
           59
          ],
          [
           61
          ],
          [
           64
          ],
          [
           63
          ],
          [
           64
          ],
          [
           62
          ],
          [
           61
          ],
          [
           62
          ],
          [
           67
          ],
          [
           61
          ],
          [
           57
          ],
          [
           63
          ],
          [
           56
          ],
          [
           51
          ],
          [
           59
          ],
          [
           58
          ],
          [
           55
          ],
          [
           61
          ],
          [
           55
          ],
          [
           58
          ],
          [
           68
          ],
          [
           58
          ],
          [
           67
          ],
          [
           56
          ],
          [
           59
          ],
          [
           59
          ],
          [
           57
          ],
          [
           60
          ],
          [
           67
          ],
          [
           61
          ],
          [
           60
          ],
          [
           59
          ],
          [
           57
          ],
          [
           59
          ],
          [
           59
          ],
          [
           58
          ],
          [
           63
          ],
          [
           61
          ],
          [
           56
          ],
          [
           58
          ],
          [
           56
          ],
          [
           59
          ],
          [
           61
          ],
          [
           60
          ],
          [
           56
          ],
          [
           63
          ],
          [
           58
          ],
          [
           59
          ],
          [
           62
          ],
          [
           59
          ],
          [
           59
          ],
          [
           65
          ],
          [
           64
          ],
          [
           59
          ],
          [
           59
          ],
          [
           61
          ],
          [
           64
          ],
          [
           58
          ],
          [
           57
          ],
          [
           58
          ],
          [
           56
          ],
          [
           63
          ],
          [
           58
          ],
          [
           60
          ],
          [
           58
          ],
          [
           62
          ],
          [
           66
          ],
          [
           66
          ],
          [
           63
          ],
          [
           64
          ],
          [
           62
          ],
          [
           62
          ],
          [
           60
          ],
          [
           65
          ],
          [
           60
          ],
          [
           63
          ],
          [
           56
          ],
          [
           58
          ],
          [
           62
          ],
          [
           56
          ],
          [
           59
          ],
          [
           65
          ],
          [
           62
          ],
          [
           59
          ],
          [
           64
          ],
          [
           66
          ],
          [
           59
          ],
          [
           59
          ],
          [
           59
          ],
          [
           62
          ],
          [
           59
          ],
          [
           54
          ],
          [
           61
          ],
          [
           55
          ],
          [
           53
          ],
          [
           55
          ],
          [
           61
          ],
          [
           59
          ],
          [
           59
          ],
          [
           56
          ],
          [
           61
          ],
          [
           61
          ],
          [
           60
          ],
          [
           57
          ],
          [
           61
          ],
          [
           55
          ],
          [
           53
          ],
          [
           61
          ],
          [
           64
          ],
          [
           62
          ],
          [
           55
          ],
          [
           58
          ],
          [
           57
          ],
          [
           58
          ],
          [
           64
          ],
          [
           57
          ],
          [
           62
          ],
          [
           56
          ],
          [
           53
          ],
          [
           60
          ],
          [
           56
          ],
          [
           62
          ],
          [
           61
          ],
          [
           62
          ],
          [
           55
          ],
          [
           60
          ],
          [
           58
          ],
          [
           61
          ],
          [
           59
          ],
          [
           58
          ],
          [
           56
          ],
          [
           60
          ],
          [
           62
          ],
          [
           58
          ],
          [
           64
          ],
          [
           63
          ]
         ],
         "hovertemplate": "Cluster=Cluster 1<br>PCA1=%{x}<br>PCA2=%{y}<br>Feature=%{customdata[0]}<extra></extra>",
         "legendgroup": "Cluster 1",
         "marker": {
          "color": "#EF553B",
          "opacity": 0.5,
          "symbol": "circle"
         },
         "mode": "markers",
         "name": "Cluster 1",
         "orientation": "v",
         "showlegend": true,
         "textposition": "top center",
         "type": "scatter",
         "x": [
          0.7059596180915833,
          0.938481330871582,
          0.6609920859336853,
          1.2113146781921387,
          0.7160186767578125,
          1.132887601852417,
          1.206216812133789,
          0.9146565794944763,
          0.9278727173805237,
          1.2454276084899902,
          0.7728725075721741,
          1.107447862625122,
          0.8652967214584351,
          1.2687187194824219,
          0.9449528455734253,
          1.3021695613861084,
          0.7622307538986206,
          1.0169681310653687,
          1.010373830795288,
          0.7954778671264648,
          1.1841089725494385,
          1.108073115348816,
          0.8997244238853455,
          1.0437347888946533,
          0.5968287587165833,
          0.9777641892433167,
          1.0725417137145996,
          0.8566257357597351,
          1.2474044561386108,
          0.7324368953704834,
          1.0077911615371704,
          1.0477724075317383,
          1.195106029510498,
          1.0101209878921509,
          1.2191797494888306,
          1.3029768466949463,
          0.9578529596328735,
          0.9594900608062744,
          1.1929197311401367,
          0.9890444874763489,
          1.2806113958358765,
          0.7310240864753723,
          0.6935244798660278,
          1.1100283861160278,
          1.0574474334716797,
          1.0262013673782349,
          1.3206466436386108,
          1.3467046022415161,
          0.876446008682251,
          1.046473503112793,
          0.9431469440460205,
          0.9041622877120972,
          0.8645505905151367,
          0.935233473777771,
          0.9425914287567139,
          0.8657572865486145,
          0.9030629396438599,
          0.847323477268219,
          0.936654269695282,
          1.0860486030578613,
          1.001940131187439,
          1.1219556331634521,
          0.911906898021698,
          0.9605005383491516,
          0.7580636143684387,
          1.185149073600769,
          0.8463935852050781,
          1.1666392087936401,
          0.8220017552375793,
          0.938933253288269,
          1.0372281074523926,
          0.6350504159927368,
          0.8416804671287537,
          0.5770886540412903,
          0.8637285232543945,
          1.0205113887786865,
          0.7065488696098328,
          0.8861284852027893,
          1.1682865619659424,
          1.1695785522460938,
          1.1412700414657593,
          0.9694488048553467,
          1.1194003820419312,
          0.9700284004211426,
          1.379157304763794,
          0.9214391708374023,
          0.9629565477371216,
          0.978308379650116,
          0.9549229741096497,
          1.1697152853012085,
          1.0121031999588013,
          0.8598955869674683,
          0.7344582080841064,
          0.9008410573005676,
          0.8612090945243835,
          0.7821930050849915,
          1.2041499614715576,
          1.2062690258026123,
          1.0852609872817993,
          0.8459433317184448,
          0.8943125009536743,
          0.8726419806480408,
          0.9041293263435364,
          0.9066280722618103,
          0.9808086156845093,
          1.0768593549728394,
          1.063683271408081,
          0.6491555571556091,
          1.1276582479476929,
          1.3253414630889893,
          0.5838879346847534,
          0.968822181224823,
          1.1878057718276978,
          0.9680411219596863,
          0.9446700215339661,
          1.3514660596847534,
          1.1107919216156006,
          0.9694490432739258,
          0.986366331577301,
          0.8854324221611023,
          0.8404750227928162,
          1.178896188735962,
          0.9128895998001099,
          0.9540258049964905,
          0.9951065182685852,
          0.9904003143310547,
          1.209730625152588,
          0.854526698589325,
          1.2113990783691406,
          0.6485198736190796,
          1.168658971786499,
          0.9780917167663574,
          0.9415026307106018,
          1.154331088066101,
          0.9390624761581421,
          0.9404513239860535,
          1.2175977230072021,
          0.841769814491272,
          0.8659573793411255,
          0.998359203338623,
          0.6555733680725098,
          0.7918435335159302,
          1.0488444566726685,
          0.6643080711364746,
          0.7759047746658325,
          1.4165247678756714,
          1.0276424884796143,
          1.321184754371643,
          0.7874785661697388,
          0.8919394612312317,
          1.285625696182251,
          1.0405645370483398,
          0.9312349557876587,
          0.981971263885498,
          1.1042746305465698,
          1.0590704679489136,
          0.7440270781517029
         ],
         "xaxis": "x",
         "y": [
          -1.013558268547058,
          -0.911418080329895,
          -1.0233873128890991,
          -1.3413424491882324,
          -0.8559834361076355,
          -1.3481123447418213,
          -0.9890968799591064,
          -1.0457971096038818,
          -1.321817398071289,
          -1.1350938081741333,
          -1.4498319625854492,
          -0.9032411575317383,
          -1.0111196041107178,
          -1.2877277135849,
          -1.0827041864395142,
          -1.131754994392395,
          -1.1008294820785522,
          -1.1019898653030396,
          -1.240654468536377,
          -0.8398825526237488,
          -1.2783961296081543,
          -1.0491403341293335,
          -1.0180184841156006,
          -1.140784502029419,
          -1.246671438217163,
          -1.00543212890625,
          -1.341054081916809,
          -1.0899099111557007,
          -1.3089094161987305,
          -1.203320860862732,
          -0.9251205921173096,
          -0.9909496307373047,
          -1.5360716581344604,
          -0.7192445993423462,
          -0.9339128136634827,
          -1.035455346107483,
          -0.7304667234420776,
          -1.0207957029342651,
          -1.3237193822860718,
          -0.7460960149765015,
          -1.148784875869751,
          -1.2106183767318726,
          -0.8048183917999268,
          -1.2312021255493164,
          -0.9625588655471802,
          -1.0784361362457275,
          -0.8439512252807617,
          -1.0718238353729248,
          -0.9881936311721802,
          -1.1669306755065918,
          -1.223675012588501,
          -0.9268787503242493,
          -0.8363634943962097,
          -1.0689483880996704,
          -1.4138811826705933,
          -1.0093226432800293,
          -0.9571161866188049,
          -1.0958573818206787,
          -1.0537810325622559,
          -1.1540806293487549,
          -0.8672708868980408,
          -0.936193585395813,
          -1.0921088457107544,
          -1.121390461921692,
          -1.089959740638733,
          -0.9262417554855347,
          -0.7750477194786072,
          -0.9858205318450928,
          -0.7151244282722473,
          -1.1841012239456177,
          -1.131176471710205,
          -0.844488263130188,
          -1.0551121234893799,
          -1.1057262420654297,
          -0.6305227279663086,
          -1.069000005722046,
          -1.0071638822555542,
          -1.3114511966705322,
          -1.000194787979126,
          -0.9948423504829407,
          -1.1282607316970825,
          -0.5166518092155457,
          -0.9454618096351624,
          -1.0226846933364868,
          -1.1911311149597168,
          -0.9607786536216736,
          -1.0563538074493408,
          -1.2837070226669312,
          -1.427964687347412,
          -1.3232675790786743,
          -1.2827355861663818,
          -1.2307734489440918,
          -1.1739380359649658,
          -1.0551952123641968,
          -1.3076649904251099,
          -0.9017108082771301,
          -1.1104902029037476,
          -0.7873290181159973,
          -1.000543236732483,
          -1.025555968284607,
          -0.8956352472305298,
          -1.0128642320632935,
          -1.3387060165405273,
          -0.8129184246063232,
          -1.1529576778411865,
          -0.8646272420883179,
          -1.0687674283981323,
          -0.7130072712898254,
          -1.1423070430755615,
          -1.0537877082824707,
          -0.7095231413841248,
          -0.9508262872695923,
          -0.9010031223297119,
          -1.1378580331802368,
          -0.8512720465660095,
          -0.9684157371520996,
          -0.8504675030708313,
          -0.9652548432350159,
          -1.214759349822998,
          -0.9872027635574341,
          -1.0083832740783691,
          -1.1914814710617065,
          -1.2877886295318604,
          -1.1050115823745728,
          -0.8446990847587585,
          -1.0986212491989136,
          -1.0174120664596558,
          -0.9365445375442505,
          -1.381331205368042,
          -1.2345564365386963,
          -1.3828846216201782,
          -0.8932649493217468,
          -0.8738515973091125,
          -0.8986911177635193,
          -0.824820876121521,
          -1.0093414783477783,
          -1.0940495729446411,
          -1.1315540075302124,
          -0.9501850008964539,
          -0.7261454463005066,
          -0.9506073594093323,
          -1.0428457260131836,
          -1.03412926197052,
          -0.890129804611206,
          -1.0307950973510742,
          -1.1874051094055176,
          -1.2614195346832275,
          -1.0112113952636719,
          -1.0185751914978027,
          -0.9244826436042786,
          -1.0491610765457153,
          -1.0879011154174805,
          -1.151719093322754,
          -1.2111093997955322,
          -0.9261338710784912,
          -0.890799880027771,
          -1.017029881477356
         ],
         "yaxis": "y"
        },
        {
         "customdata": [
          [
           38
          ],
          [
           29
          ],
          [
           36
          ],
          [
           31
          ],
          [
           39
          ],
          [
           88
          ],
          [
           86
          ],
          [
           35
          ],
          [
           30
          ],
          [
           35
          ],
          [
           25
          ],
          [
           37
          ],
          [
           30
          ],
          [
           36
          ],
          [
           34
          ],
          [
           33
          ],
          [
           36
          ],
          [
           32
          ],
          [
           83
          ],
          [
           31
          ],
          [
           37
          ],
          [
           36
          ],
          [
           90
          ],
          [
           31
          ],
          [
           37
          ],
          [
           35
          ],
          [
           33
          ],
          [
           84
          ],
          [
           37
          ],
          [
           29
          ],
          [
           44
          ],
          [
           32
          ],
          [
           31
          ],
          [
           29
          ],
          [
           36
          ],
          [
           31
          ],
          [
           90
          ],
          [
           33
          ],
          [
           33
          ],
          [
           89
          ],
          [
           29
          ],
          [
           32
          ],
          [
           84
          ],
          [
           30
          ],
          [
           88
          ],
          [
           38
          ],
          [
           92
          ],
          [
           31
          ],
          [
           30
          ],
          [
           36
          ],
          [
           85
          ],
          [
           30
          ],
          [
           28
          ],
          [
           37
          ],
          [
           29
          ],
          [
           31
          ],
          [
           29
          ],
          [
           31
          ],
          [
           33
          ],
          [
           31
          ],
          [
           83
          ],
          [
           34
          ],
          [
           22
          ],
          [
           87
          ],
          [
           34
          ],
          [
           25
          ],
          [
           31
          ],
          [
           31
          ],
          [
           31
          ],
          [
           35
          ],
          [
           28
          ],
          [
           33
          ],
          [
           31
          ],
          [
           28
          ],
          [
           39
          ],
          [
           36
          ],
          [
           32
          ],
          [
           93
          ],
          [
           36
          ],
          [
           34
          ],
          [
           37
          ],
          [
           33
          ],
          [
           43
          ],
          [
           33
          ],
          [
           26
          ],
          [
           24
          ],
          [
           31
          ],
          [
           29
          ],
          [
           36
          ],
          [
           86
          ],
          [
           33
          ],
          [
           29
          ],
          [
           40
          ],
          [
           35
          ],
          [
           32
          ],
          [
           37
          ],
          [
           34
          ],
          [
           34
          ],
          [
           84
          ],
          [
           82
          ],
          [
           88
          ],
          [
           85
          ],
          [
           35
          ],
          [
           33
          ],
          [
           33
          ],
          [
           29
          ],
          [
           83
          ],
          [
           28
          ],
          [
           31
          ],
          [
           37
          ],
          [
           31
          ],
          [
           33
          ],
          [
           30
          ],
          [
           30
          ],
          [
           34
          ],
          [
           30
          ],
          [
           30
          ],
          [
           86
          ],
          [
           29
          ],
          [
           30
          ],
          [
           28
          ],
          [
           37
          ],
          [
           37
          ],
          [
           82
          ],
          [
           42
          ],
          [
           28
          ],
          [
           30
          ],
          [
           32
          ],
          [
           35
          ],
          [
           35
          ],
          [
           31
          ],
          [
           35
          ],
          [
           33
          ],
          [
           29
          ],
          [
           35
          ],
          [
           38
          ],
          [
           34
          ],
          [
           33
          ],
          [
           32
          ],
          [
           34
          ],
          [
           31
          ],
          [
           27
          ],
          [
           39
          ],
          [
           38
          ],
          [
           84
          ],
          [
           77
          ],
          [
           34
          ],
          [
           28
          ],
          [
           36
          ],
          [
           91
          ],
          [
           34
          ]
         ],
         "hovertemplate": "Cluster=Cluster 2<br>PCA1=%{x}<br>PCA2=%{y}<br>Feature=%{customdata[0]}<extra></extra>",
         "legendgroup": "Cluster 2",
         "marker": {
          "color": "#00cc96",
          "opacity": 0.5,
          "symbol": "circle"
         },
         "mode": "markers",
         "name": "Cluster 2",
         "orientation": "v",
         "showlegend": true,
         "textposition": "top center",
         "type": "scatter",
         "x": [
          0.21730564534664154,
          0.5268500447273254,
          0.30294495820999146,
          0.47040435671806335,
          -0.04759960621595383,
          -1.0392528772354126,
          -1.2481129169464111,
          0.012673295103013515,
          0.2341788113117218,
          0.18269602954387665,
          0.2905277609825134,
          0.32006579637527466,
          0.2853190302848816,
          0.06669794768095016,
          0.13689832389354706,
          0.036997824907302856,
          0.16245532035827637,
          -0.08843415975570679,
          -1.127798318862915,
          0.4950566291809082,
          -0.1374863088130951,
          0.228367418050766,
          -1.2098764181137085,
          0.3295595049858093,
          0.3109807074069977,
          0.15597008168697357,
          0.23575638234615326,
          -1.2666198015213013,
          0.38809674978256226,
          0.14711464941501617,
          0.21406924724578857,
          0.32921430468559265,
          0.024459287524223328,
          0.18989425897598267,
          -0.06863193213939667,
          0.3474768400192261,
          -0.9541645646095276,
          0.20307905972003937,
          0.31383606791496277,
          -1.2921520471572876,
          0.3278278112411499,
          0.05098878592252731,
          -0.9031899571418762,
          0.30713117122650146,
          -1.097561001777649,
          -0.09633179008960724,
          -1.0952298641204834,
          0.432758092880249,
          0.42626070976257324,
          -0.15304410457611084,
          -1.398309588432312,
          0.22945094108581543,
          0.41961410641670227,
          -0.11069278419017792,
          0.5747355222702026,
          0.3580639958381653,
          0.3769105076789856,
          -0.015299812890589237,
          0.1817648559808731,
          0.11017576605081558,
          -1.1975951194763184,
          0.014223241247236729,
          0.40868717432022095,
          -0.9670627117156982,
          -0.0481569804251194,
          0.4053848087787628,
          0.4099480211734772,
          0.48999249935150146,
          0.7206938862800598,
          0.2045576572418213,
          0.10836505144834518,
          0.37524691224098206,
          0.4277504086494446,
          0.13276275992393494,
          -0.019185839220881462,
          -0.03367699310183525,
          0.47085970640182495,
          -1.1784387826919556,
          0.14166396856307983,
          0.40889477729797363,
          0.13527542352676392,
          0.22843177616596222,
          0.16150256991386414,
          0.39048367738723755,
          0.142482191324234,
          0.4670490622520447,
          0.24080125987529755,
          0.6209193468093872,
          0.10015233606100082,
          -0.7634169459342957,
          0.41940152645111084,
          0.4717485010623932,
          -0.17843134701251984,
          0.07082752883434296,
          0.19313442707061768,
          0.14987924695014954,
          0.28625577688217163,
          0.24302810430526733,
          -1.090366005897522,
          -1.0432095527648926,
          -1.6249122619628906,
          -1.021291732788086,
          0.22200214862823486,
          0.07021165639162064,
          0.34601160883903503,
          0.18708528578281403,
          -0.9552844762802124,
          0.15203824639320374,
          0.33337780833244324,
          0.16539956629276276,
          0.40319520235061646,
          0.2534964680671692,
          0.10798358917236328,
          0.2529771327972412,
          -0.22938194870948792,
          0.4200034737586975,
          0.5330695509910583,
          -1.1908671855926514,
          0.2587076425552368,
          0.10471142083406448,
          0.4492087960243225,
          -0.15415579080581665,
          0.1837093085050583,
          -0.967556357383728,
          0.10755234211683273,
          0.2339584082365036,
          0.3886311650276184,
          -0.017084119841456413,
          -0.057302750647068024,
          0.29574933648109436,
          0.2686556577682495,
          0.08619207888841629,
          -0.02430490031838417,
          0.25281158089637756,
          0.39567577838897705,
          0.2742164731025696,
          0.3833603262901306,
          0.21584908664226532,
          0.4241282343864441,
          0.23046891391277313,
          0.244052916765213,
          0.28572389483451843,
          -0.1854788213968277,
          0.33795446157455444,
          -1.191551685333252,
          -0.8348653316497803,
          0.18865472078323364,
          0.570286214351654,
          0.23536431789398193,
          -1.242785096168518,
          0.31007352471351624
         ],
         "xaxis": "x",
         "y": [
          1.3840136528015137,
          1.7074309587478638,
          1.552661418914795,
          1.6505076885223389,
          1.46872878074646,
          1.313529133796692,
          1.5822618007659912,
          1.8431358337402344,
          1.4609123468399048,
          1.6082284450531006,
          1.7901946306228638,
          1.439631700515747,
          1.7974603176116943,
          1.735619306564331,
          1.6224828958511353,
          1.5980231761932373,
          1.4691561460494995,
          1.8279329538345337,
          1.3804680109024048,
          1.6722875833511353,
          1.939324975013733,
          1.3946952819824219,
          1.3846384286880493,
          1.5755293369293213,
          1.5576443672180176,
          1.5906009674072266,
          1.2902307510375977,
          1.3289759159088135,
          1.4121015071868896,
          1.6852223873138428,
          1.49152410030365,
          1.6238558292388916,
          1.880942702293396,
          1.732970118522644,
          1.5834932327270508,
          1.6445940732955933,
          0.9893571138381958,
          1.7269865274429321,
          1.5917893648147583,
          1.3272064924240112,
          1.6049139499664307,
          1.8996630907058716,
          1.2898563146591187,
          1.571330189704895,
          1.2589963674545288,
          1.3905675411224365,
          1.1727349758148193,
          1.6303404569625854,
          1.4308139085769653,
          1.7117799520492554,
          1.3795663118362427,
          1.4856655597686768,
          1.5081249475479126,
          1.7989039421081543,
          1.8315718173980713,
          1.5628036260604858,
          1.6541398763656616,
          1.7923003435134888,
          1.5598088502883911,
          1.727551817893982,
          1.4958430528640747,
          1.5946013927459717,
          1.9740715026855469,
          1.0706335306167603,
          1.7782211303710938,
          1.76280677318573,
          1.6457152366638184,
          1.749253749847412,
          1.3508515357971191,
          1.719240665435791,
          1.8203260898590088,
          1.799570083618164,
          1.7193210124969482,
          1.6239615678787231,
          1.438167929649353,
          1.5181021690368652,
          1.77976393699646,
          1.3195273876190186,
          1.6379029750823975,
          1.411554217338562,
          1.7136266231536865,
          1.3602027893066406,
          1.188510537147522,
          1.3470464944839478,
          1.7697525024414062,
          1.907338261604309,
          1.7288546562194824,
          1.567267656326294,
          1.6948987245559692,
          1.2243895530700684,
          1.7434922456741333,
          1.8495571613311768,
          1.5557080507278442,
          1.6776858568191528,
          1.648587942123413,
          1.609993577003479,
          1.1386858224868774,
          1.6242215633392334,
          1.2543904781341553,
          1.5599318742752075,
          1.5343340635299683,
          1.2016258239746094,
          1.869469404220581,
          1.969739317893982,
          1.59597909450531,
          1.510058045387268,
          1.1784844398498535,
          1.7482428550720215,
          1.4389171600341797,
          1.3074843883514404,
          1.6709246635437012,
          1.6210644245147705,
          1.9551011323928833,
          1.8050061464309692,
          1.8646981716156006,
          1.5791503190994263,
          1.5752052068710327,
          1.279289960861206,
          1.6856589317321777,
          1.7883360385894775,
          1.8500044345855713,
          1.6299537420272827,
          1.627492070198059,
          1.402700662612915,
          1.4363181591033936,
          1.6203926801681519,
          1.7142448425292969,
          1.642421007156372,
          1.8753563165664673,
          1.3939497470855713,
          1.668376088142395,
          1.6215230226516724,
          1.7425568103790283,
          1.8908241987228394,
          1.6332610845565796,
          1.6670970916748047,
          1.6070724725723267,
          1.7098534107208252,
          1.6521551609039307,
          1.3890036344528198,
          1.9799551963806152,
          1.8709042072296143,
          1.650573492050171,
          1.5676648616790771,
          1.2071728706359863,
          1.6633244752883911,
          1.6265677213668823,
          1.6086492538452148,
          1.5278621912002563,
          1.2472147941589355,
          1.9068388938903809
         ],
         "yaxis": "y"
        },
        {
         "customdata": [
          [
           27
          ],
          [
           23
          ],
          [
           25
          ],
          [
           17
          ],
          [
           24
          ],
          [
           20
          ],
          [
           23
          ],
          [
           26
          ],
          [
           23
          ],
          [
           27
          ],
          [
           23
          ],
          [
           31
          ],
          [
           22
          ],
          [
           24
          ],
          [
           29
          ],
          [
           22
          ],
          [
           28
          ],
          [
           26
          ],
          [
           25
          ],
          [
           24
          ],
          [
           24
          ],
          [
           25
          ],
          [
           20
          ],
          [
           30
          ],
          [
           25
          ],
          [
           28
          ],
          [
           20
          ],
          [
           24
          ],
          [
           22
          ],
          [
           26
          ],
          [
           17
          ],
          [
           26
          ],
          [
           28
          ],
          [
           18
          ],
          [
           21
          ],
          [
           21
          ],
          [
           17
          ],
          [
           27
          ],
          [
           25
          ],
          [
           24
          ],
          [
           28
          ],
          [
           26
          ],
          [
           28
          ],
          [
           25
          ],
          [
           24
          ],
          [
           17
          ],
          [
           29
          ],
          [
           29
          ],
          [
           28
          ],
          [
           18
          ]
         ],
         "hovertemplate": "Cluster=Cluster 3<br>PCA1=%{x}<br>PCA2=%{y}<br>Feature=%{customdata[0]}<extra></extra>",
         "legendgroup": "Cluster 3",
         "marker": {
          "color": "#ab63fa",
          "opacity": 0.5,
          "symbol": "circle"
         },
         "mode": "markers",
         "name": "Cluster 3",
         "orientation": "v",
         "showlegend": true,
         "textposition": "top center",
         "type": "scatter",
         "x": [
          2.8772213459014893,
          3.289667844772339,
          3.314784526824951,
          3.6060125827789307,
          2.968492269515991,
          3.0222134590148926,
          2.9965310096740723,
          3.023343324661255,
          3.028472661972046,
          2.792816162109375,
          2.8210859298706055,
          2.8857028484344482,
          2.95554780960083,
          3.027672052383423,
          2.908193349838257,
          3.2271366119384766,
          3.057406187057495,
          2.9467103481292725,
          2.744124412536621,
          3.334589958190918,
          3.106052875518799,
          3.0625455379486084,
          2.964531660079956,
          2.5824334621429443,
          2.994615077972412,
          3.1899030208587646,
          2.9100565910339355,
          3.1284396648406982,
          2.9790425300598145,
          3.02968430519104,
          3.203385829925537,
          2.7615153789520264,
          2.7276923656463623,
          3.0185022354125977,
          3.0184664726257324,
          3.13369083404541,
          3.248023271560669,
          3.136930465698242,
          2.8772077560424805,
          2.836010217666626,
          3.1090493202209473,
          2.6580326557159424,
          2.6248483657836914,
          2.6834444999694824,
          3.078514814376831,
          3.3186593055725098,
          3.0194802284240723,
          2.996966600418091,
          2.6126341819763184,
          2.8596510887145996
         ],
         "xaxis": "x",
         "y": [
          -0.15961307287216187,
          0.05549773573875427,
          -0.060192301869392395,
          -0.020803695544600487,
          0.09709049761295319,
          0.12764962017536163,
          0.10028165578842163,
          -0.2797902524471283,
          -0.005102768540382385,
          -0.1329677402973175,
          -0.016744311898946762,
          -0.2874935567378998,
          0.2758648693561554,
          0.03958531841635704,
          0.014593570493161678,
          0.02355741523206234,
          -0.3726676404476166,
          0.0739348903298378,
          0.22846472263336182,
          -0.02342856302857399,
          0.046651918441057205,
          -0.02478952705860138,
          0.030776306986808777,
          -0.011832378804683685,
          0.004344685468822718,
          -0.39341896772384644,
          0.24234715104103088,
          -0.12386398017406464,
          -0.17767800390720367,
          -0.1178194209933281,
          -0.047596096992492676,
          0.027471566572785378,
          0.06575144082307816,
          0.26981499791145325,
          0.02567814476788044,
          0.005364901851862669,
          0.22315384447574615,
          -0.33384275436401367,
          0.15353736281394958,
          -0.07559341937303543,
          -0.2267293781042099,
          0.22000481188297272,
          -0.10508759319782257,
          0.038763631135225296,
          0.11283332109451294,
          0.18149366974830627,
          0.12620095908641815,
          -0.3238433003425598,
          0.0076556745916605,
          0.2720220685005188
         ],
         "yaxis": "y"
        }
       ],
       "layout": {
        "height": 600,
        "legend": {
         "title": {
          "text": "Cluster"
         },
         "tracegroupgap": 0
        },
        "margin": {
         "t": 60
        },
        "plot_bgcolor": "rgb(240,240,240)",
        "template": {
         "data": {
          "bar": [
           {
            "error_x": {
             "color": "#2a3f5f"
            },
            "error_y": {
             "color": "#2a3f5f"
            },
            "marker": {
             "line": {
              "color": "#E5ECF6",
              "width": 0.5
             },
             "pattern": {
              "fillmode": "overlay",
              "size": 10,
              "solidity": 0.2
             }
            },
            "type": "bar"
           }
          ],
          "barpolar": [
           {
            "marker": {
             "line": {
              "color": "#E5ECF6",
              "width": 0.5
             },
             "pattern": {
              "fillmode": "overlay",
              "size": 10,
              "solidity": 0.2
             }
            },
            "type": "barpolar"
           }
          ],
          "carpet": [
           {
            "aaxis": {
             "endlinecolor": "#2a3f5f",
             "gridcolor": "white",
             "linecolor": "white",
             "minorgridcolor": "white",
             "startlinecolor": "#2a3f5f"
            },
            "baxis": {
             "endlinecolor": "#2a3f5f",
             "gridcolor": "white",
             "linecolor": "white",
             "minorgridcolor": "white",
             "startlinecolor": "#2a3f5f"
            },
            "type": "carpet"
           }
          ],
          "choropleth": [
           {
            "colorbar": {
             "outlinewidth": 0,
             "ticks": ""
            },
            "type": "choropleth"
           }
          ],
          "contour": [
           {
            "colorbar": {
             "outlinewidth": 0,
             "ticks": ""
            },
            "colorscale": [
             [
              0,
              "#0d0887"
             ],
             [
              0.1111111111111111,
              "#46039f"
             ],
             [
              0.2222222222222222,
              "#7201a8"
             ],
             [
              0.3333333333333333,
              "#9c179e"
             ],
             [
              0.4444444444444444,
              "#bd3786"
             ],
             [
              0.5555555555555556,
              "#d8576b"
             ],
             [
              0.6666666666666666,
              "#ed7953"
             ],
             [
              0.7777777777777778,
              "#fb9f3a"
             ],
             [
              0.8888888888888888,
              "#fdca26"
             ],
             [
              1,
              "#f0f921"
             ]
            ],
            "type": "contour"
           }
          ],
          "contourcarpet": [
           {
            "colorbar": {
             "outlinewidth": 0,
             "ticks": ""
            },
            "type": "contourcarpet"
           }
          ],
          "heatmap": [
           {
            "colorbar": {
             "outlinewidth": 0,
             "ticks": ""
            },
            "colorscale": [
             [
              0,
              "#0d0887"
             ],
             [
              0.1111111111111111,
              "#46039f"
             ],
             [
              0.2222222222222222,
              "#7201a8"
             ],
             [
              0.3333333333333333,
              "#9c179e"
             ],
             [
              0.4444444444444444,
              "#bd3786"
             ],
             [
              0.5555555555555556,
              "#d8576b"
             ],
             [
              0.6666666666666666,
              "#ed7953"
             ],
             [
              0.7777777777777778,
              "#fb9f3a"
             ],
             [
              0.8888888888888888,
              "#fdca26"
             ],
             [
              1,
              "#f0f921"
             ]
            ],
            "type": "heatmap"
           }
          ],
          "heatmapgl": [
           {
            "colorbar": {
             "outlinewidth": 0,
             "ticks": ""
            },
            "colorscale": [
             [
              0,
              "#0d0887"
             ],
             [
              0.1111111111111111,
              "#46039f"
             ],
             [
              0.2222222222222222,
              "#7201a8"
             ],
             [
              0.3333333333333333,
              "#9c179e"
             ],
             [
              0.4444444444444444,
              "#bd3786"
             ],
             [
              0.5555555555555556,
              "#d8576b"
             ],
             [
              0.6666666666666666,
              "#ed7953"
             ],
             [
              0.7777777777777778,
              "#fb9f3a"
             ],
             [
              0.8888888888888888,
              "#fdca26"
             ],
             [
              1,
              "#f0f921"
             ]
            ],
            "type": "heatmapgl"
           }
          ],
          "histogram": [
           {
            "marker": {
             "pattern": {
              "fillmode": "overlay",
              "size": 10,
              "solidity": 0.2
             }
            },
            "type": "histogram"
           }
          ],
          "histogram2d": [
           {
            "colorbar": {
             "outlinewidth": 0,
             "ticks": ""
            },
            "colorscale": [
             [
              0,
              "#0d0887"
             ],
             [
              0.1111111111111111,
              "#46039f"
             ],
             [
              0.2222222222222222,
              "#7201a8"
             ],
             [
              0.3333333333333333,
              "#9c179e"
             ],
             [
              0.4444444444444444,
              "#bd3786"
             ],
             [
              0.5555555555555556,
              "#d8576b"
             ],
             [
              0.6666666666666666,
              "#ed7953"
             ],
             [
              0.7777777777777778,
              "#fb9f3a"
             ],
             [
              0.8888888888888888,
              "#fdca26"
             ],
             [
              1,
              "#f0f921"
             ]
            ],
            "type": "histogram2d"
           }
          ],
          "histogram2dcontour": [
           {
            "colorbar": {
             "outlinewidth": 0,
             "ticks": ""
            },
            "colorscale": [
             [
              0,
              "#0d0887"
             ],
             [
              0.1111111111111111,
              "#46039f"
             ],
             [
              0.2222222222222222,
              "#7201a8"
             ],
             [
              0.3333333333333333,
              "#9c179e"
             ],
             [
              0.4444444444444444,
              "#bd3786"
             ],
             [
              0.5555555555555556,
              "#d8576b"
             ],
             [
              0.6666666666666666,
              "#ed7953"
             ],
             [
              0.7777777777777778,
              "#fb9f3a"
             ],
             [
              0.8888888888888888,
              "#fdca26"
             ],
             [
              1,
              "#f0f921"
             ]
            ],
            "type": "histogram2dcontour"
           }
          ],
          "mesh3d": [
           {
            "colorbar": {
             "outlinewidth": 0,
             "ticks": ""
            },
            "type": "mesh3d"
           }
          ],
          "parcoords": [
           {
            "line": {
             "colorbar": {
              "outlinewidth": 0,
              "ticks": ""
             }
            },
            "type": "parcoords"
           }
          ],
          "pie": [
           {
            "automargin": true,
            "type": "pie"
           }
          ],
          "scatter": [
           {
            "marker": {
             "colorbar": {
              "outlinewidth": 0,
              "ticks": ""
             }
            },
            "type": "scatter"
           }
          ],
          "scatter3d": [
           {
            "line": {
             "colorbar": {
              "outlinewidth": 0,
              "ticks": ""
             }
            },
            "marker": {
             "colorbar": {
              "outlinewidth": 0,
              "ticks": ""
             }
            },
            "type": "scatter3d"
           }
          ],
          "scattercarpet": [
           {
            "marker": {
             "colorbar": {
              "outlinewidth": 0,
              "ticks": ""
             }
            },
            "type": "scattercarpet"
           }
          ],
          "scattergeo": [
           {
            "marker": {
             "colorbar": {
              "outlinewidth": 0,
              "ticks": ""
             }
            },
            "type": "scattergeo"
           }
          ],
          "scattergl": [
           {
            "marker": {
             "colorbar": {
              "outlinewidth": 0,
              "ticks": ""
             }
            },
            "type": "scattergl"
           }
          ],
          "scattermapbox": [
           {
            "marker": {
             "colorbar": {
              "outlinewidth": 0,
              "ticks": ""
             }
            },
            "type": "scattermapbox"
           }
          ],
          "scatterpolar": [
           {
            "marker": {
             "colorbar": {
              "outlinewidth": 0,
              "ticks": ""
             }
            },
            "type": "scatterpolar"
           }
          ],
          "scatterpolargl": [
           {
            "marker": {
             "colorbar": {
              "outlinewidth": 0,
              "ticks": ""
             }
            },
            "type": "scatterpolargl"
           }
          ],
          "scatterternary": [
           {
            "marker": {
             "colorbar": {
              "outlinewidth": 0,
              "ticks": ""
             }
            },
            "type": "scatterternary"
           }
          ],
          "surface": [
           {
            "colorbar": {
             "outlinewidth": 0,
             "ticks": ""
            },
            "colorscale": [
             [
              0,
              "#0d0887"
             ],
             [
              0.1111111111111111,
              "#46039f"
             ],
             [
              0.2222222222222222,
              "#7201a8"
             ],
             [
              0.3333333333333333,
              "#9c179e"
             ],
             [
              0.4444444444444444,
              "#bd3786"
             ],
             [
              0.5555555555555556,
              "#d8576b"
             ],
             [
              0.6666666666666666,
              "#ed7953"
             ],
             [
              0.7777777777777778,
              "#fb9f3a"
             ],
             [
              0.8888888888888888,
              "#fdca26"
             ],
             [
              1,
              "#f0f921"
             ]
            ],
            "type": "surface"
           }
          ],
          "table": [
           {
            "cells": {
             "fill": {
              "color": "#EBF0F8"
             },
             "line": {
              "color": "white"
             }
            },
            "header": {
             "fill": {
              "color": "#C8D4E3"
             },
             "line": {
              "color": "white"
             }
            },
            "type": "table"
           }
          ]
         },
         "layout": {
          "annotationdefaults": {
           "arrowcolor": "#2a3f5f",
           "arrowhead": 0,
           "arrowwidth": 1
          },
          "autotypenumbers": "strict",
          "coloraxis": {
           "colorbar": {
            "outlinewidth": 0,
            "ticks": ""
           }
          },
          "colorscale": {
           "diverging": [
            [
             0,
             "#8e0152"
            ],
            [
             0.1,
             "#c51b7d"
            ],
            [
             0.2,
             "#de77ae"
            ],
            [
             0.3,
             "#f1b6da"
            ],
            [
             0.4,
             "#fde0ef"
            ],
            [
             0.5,
             "#f7f7f7"
            ],
            [
             0.6,
             "#e6f5d0"
            ],
            [
             0.7,
             "#b8e186"
            ],
            [
             0.8,
             "#7fbc41"
            ],
            [
             0.9,
             "#4d9221"
            ],
            [
             1,
             "#276419"
            ]
           ],
           "sequential": [
            [
             0,
             "#0d0887"
            ],
            [
             0.1111111111111111,
             "#46039f"
            ],
            [
             0.2222222222222222,
             "#7201a8"
            ],
            [
             0.3333333333333333,
             "#9c179e"
            ],
            [
             0.4444444444444444,
             "#bd3786"
            ],
            [
             0.5555555555555556,
             "#d8576b"
            ],
            [
             0.6666666666666666,
             "#ed7953"
            ],
            [
             0.7777777777777778,
             "#fb9f3a"
            ],
            [
             0.8888888888888888,
             "#fdca26"
            ],
            [
             1,
             "#f0f921"
            ]
           ],
           "sequentialminus": [
            [
             0,
             "#0d0887"
            ],
            [
             0.1111111111111111,
             "#46039f"
            ],
            [
             0.2222222222222222,
             "#7201a8"
            ],
            [
             0.3333333333333333,
             "#9c179e"
            ],
            [
             0.4444444444444444,
             "#bd3786"
            ],
            [
             0.5555555555555556,
             "#d8576b"
            ],
            [
             0.6666666666666666,
             "#ed7953"
            ],
            [
             0.7777777777777778,
             "#fb9f3a"
            ],
            [
             0.8888888888888888,
             "#fdca26"
            ],
            [
             1,
             "#f0f921"
            ]
           ]
          },
          "colorway": [
           "#636efa",
           "#EF553B",
           "#00cc96",
           "#ab63fa",
           "#FFA15A",
           "#19d3f3",
           "#FF6692",
           "#B6E880",
           "#FF97FF",
           "#FECB52"
          ],
          "font": {
           "color": "#2a3f5f"
          },
          "geo": {
           "bgcolor": "white",
           "lakecolor": "white",
           "landcolor": "#E5ECF6",
           "showlakes": true,
           "showland": true,
           "subunitcolor": "white"
          },
          "hoverlabel": {
           "align": "left"
          },
          "hovermode": "closest",
          "mapbox": {
           "style": "light"
          },
          "paper_bgcolor": "white",
          "plot_bgcolor": "#E5ECF6",
          "polar": {
           "angularaxis": {
            "gridcolor": "white",
            "linecolor": "white",
            "ticks": ""
           },
           "bgcolor": "#E5ECF6",
           "radialaxis": {
            "gridcolor": "white",
            "linecolor": "white",
            "ticks": ""
           }
          },
          "scene": {
           "xaxis": {
            "backgroundcolor": "#E5ECF6",
            "gridcolor": "white",
            "gridwidth": 2,
            "linecolor": "white",
            "showbackground": true,
            "ticks": "",
            "zerolinecolor": "white"
           },
           "yaxis": {
            "backgroundcolor": "#E5ECF6",
            "gridcolor": "white",
            "gridwidth": 2,
            "linecolor": "white",
            "showbackground": true,
            "ticks": "",
            "zerolinecolor": "white"
           },
           "zaxis": {
            "backgroundcolor": "#E5ECF6",
            "gridcolor": "white",
            "gridwidth": 2,
            "linecolor": "white",
            "showbackground": true,
            "ticks": "",
            "zerolinecolor": "white"
           }
          },
          "shapedefaults": {
           "line": {
            "color": "#2a3f5f"
           }
          },
          "ternary": {
           "aaxis": {
            "gridcolor": "white",
            "linecolor": "white",
            "ticks": ""
           },
           "baxis": {
            "gridcolor": "white",
            "linecolor": "white",
            "ticks": ""
           },
           "bgcolor": "#E5ECF6",
           "caxis": {
            "gridcolor": "white",
            "linecolor": "white",
            "ticks": ""
           }
          },
          "title": {
           "x": 0.05
          },
          "xaxis": {
           "automargin": true,
           "gridcolor": "white",
           "linecolor": "white",
           "ticks": "",
           "title": {
            "standoff": 15
           },
           "zerolinecolor": "white",
           "zerolinewidth": 2
          },
          "yaxis": {
           "automargin": true,
           "gridcolor": "white",
           "linecolor": "white",
           "ticks": "",
           "title": {
            "standoff": 15
           },
           "zerolinecolor": "white",
           "zerolinewidth": 2
          }
         }
        },
        "title": {
         "text": "2D Cluster PCA Plot"
        },
        "xaxis": {
         "anchor": "y",
         "domain": [
          0,
          1
         ],
         "title": {
          "text": "PCA1"
         }
        },
        "yaxis": {
         "anchor": "x",
         "domain": [
          0,
          1
         ],
         "title": {
          "text": "PCA2"
         }
        }
       }
      }
     },
     "metadata": {},
     "output_type": "display_data"
    }
   ],
   "source": [
    "plot_model(kmeans)"
   ]
  },
  {
   "cell_type": "code",
   "execution_count": 31,
   "metadata": {},
   "outputs": [
    {
     "data": {
      "text/html": [
       "<div>\n",
       "<style scoped>\n",
       "    .dataframe tbody tr th:only-of-type {\n",
       "        vertical-align: middle;\n",
       "    }\n",
       "\n",
       "    .dataframe tbody tr th {\n",
       "        vertical-align: top;\n",
       "    }\n",
       "\n",
       "    .dataframe thead th {\n",
       "        text-align: right;\n",
       "    }\n",
       "</style>\n",
       "<table border=\"1\" class=\"dataframe\">\n",
       "  <thead>\n",
       "    <tr style=\"text-align: right;\">\n",
       "      <th></th>\n",
       "      <th>Silhouette</th>\n",
       "      <th>Calinski-Harabasz</th>\n",
       "      <th>Davies-Bouldin</th>\n",
       "      <th>Homogeneity</th>\n",
       "      <th>Rand Index</th>\n",
       "      <th>Completeness</th>\n",
       "    </tr>\n",
       "  </thead>\n",
       "  <tbody>\n",
       "    <tr>\n",
       "      <th>0</th>\n",
       "      <td>0.8049</td>\n",
       "      <td>3671.3582</td>\n",
       "      <td>0.2762</td>\n",
       "      <td>0</td>\n",
       "      <td>0</td>\n",
       "      <td>0</td>\n",
       "    </tr>\n",
       "  </tbody>\n",
       "</table>\n",
       "</div>"
      ],
      "text/plain": [
       "   Silhouette  Calinski-Harabasz  Davies-Bouldin  Homogeneity  Rand Index  \\\n",
       "0      0.8049          3671.3582          0.2762            0           0   \n",
       "\n",
       "   Completeness  \n",
       "0             0  "
      ]
     },
     "metadata": {},
     "output_type": "display_data"
    },
    {
     "name": "stdout",
     "output_type": "stream",
     "text": [
      "DBSCAN(algorithm='auto', eps=0.5, leaf_size=30, metric='euclidean',\n",
      "       metric_params=None, min_samples=5, n_jobs=-1, p=None)\n"
     ]
    }
   ],
   "source": [
    "dbscan = create_model(\"dbscan\")\n",
    "print(dbscan)"
   ]
  },
  {
   "cell_type": "code",
   "execution_count": 33,
   "metadata": {},
   "outputs": [
    {
     "data": {
      "application/vnd.plotly.v1+json": {
       "config": {
        "plotlyServerURL": "https://plot.ly"
       },
       "data": [
        {
         "customdata": [
          [
           58
          ],
          [
           55
          ],
          [
           60
          ],
          [
           56
          ],
          [
           60
          ],
          [
           58
          ],
          [
           56
          ],
          [
           64
          ],
          [
           63
          ],
          [
           62
          ],
          [
           59
          ],
          [
           67
          ],
          [
           58
          ],
          [
           58
          ],
          [
           57
          ],
          [
           66
          ],
          [
           64
          ],
          [
           59
          ],
          [
           68
          ],
          [
           61
          ],
          [
           64
          ],
          [
           63
          ],
          [
           55
          ],
          [
           57
          ],
          [
           57
          ],
          [
           61
          ],
          [
           58
          ],
          [
           59
          ],
          [
           53
          ],
          [
           59
          ],
          [
           62
          ],
          [
           60
          ],
          [
           65
          ],
          [
           60
          ],
          [
           63
          ],
          [
           56
          ],
          [
           58
          ],
          [
           62
          ],
          [
           56
          ],
          [
           59
          ],
          [
           65
          ],
          [
           62
          ],
          [
           59
          ],
          [
           66
          ],
          [
           64
          ],
          [
           62
          ],
          [
           61
          ],
          [
           56
          ],
          [
           62
          ],
          [
           60
          ],
          [
           62
          ],
          [
           64
          ],
          [
           63
          ],
          [
           58
          ],
          [
           62
          ],
          [
           61
          ],
          [
           59
          ],
          [
           59
          ],
          [
           58
          ],
          [
           55
          ],
          [
           51
          ],
          [
           57
          ],
          [
           61
          ],
          [
           60
          ],
          [
           64
          ],
          [
           65
          ],
          [
           59
          ],
          [
           58
          ],
          [
           63
          ],
          [
           61
          ],
          [
           59
          ],
          [
           56
          ],
          [
           61
          ],
          [
           63
          ],
          [
           58
          ],
          [
           62
          ],
          [
           60
          ],
          [
           62
          ],
          [
           65
          ],
          [
           59
          ],
          [
           65
          ],
          [
           58
          ],
          [
           61
          ],
          [
           66
          ],
          [
           58
          ],
          [
           68
          ],
          [
           58
          ],
          [
           67
          ],
          [
           56
          ],
          [
           61
          ],
          [
           56
          ],
          [
           61
          ],
          [
           59
          ],
          [
           62
          ],
          [
           59
          ],
          [
           59
          ],
          [
           59
          ],
          [
           57
          ],
          [
           59
          ],
          [
           61
          ],
          [
           62
          ],
          [
           67
          ],
          [
           56
          ],
          [
           59
          ],
          [
           58
          ],
          [
           61
          ],
          [
           55
          ],
          [
           59
          ],
          [
           59
          ],
          [
           60
          ],
          [
           60
          ],
          [
           67
          ],
          [
           57
          ],
          [
           56
          ],
          [
           63
          ],
          [
           64
          ],
          [
           57
          ],
          [
           60
          ],
          [
           61
          ],
          [
           61
          ],
          [
           57
          ],
          [
           64
          ],
          [
           55
          ],
          [
           59
          ],
          [
           58
          ],
          [
           58
          ],
          [
           59
          ],
          [
           53
          ],
          [
           53
          ],
          [
           59
          ],
          [
           63
          ],
          [
           55
          ],
          [
           62
          ],
          [
           61
          ],
          [
           59
          ],
          [
           55
          ],
          [
           56
          ],
          [
           57
          ],
          [
           66
          ],
          [
           66
          ],
          [
           59
          ],
          [
           59
          ],
          [
           56
          ],
          [
           61
          ],
          [
           61
          ],
          [
           63
          ],
          [
           58
          ],
          [
           62
          ],
          [
           58
          ],
          [
           55
          ],
          [
           58
          ],
          [
           60
          ],
          [
           61
          ],
          [
           57
          ],
          [
           54
          ],
          [
           62
          ],
          [
           64
          ]
         ],
         "hovertemplate": "Cluster=Cluster 0<br>PCA1=%{x}<br>PCA2=%{y}<br>Feature=%{customdata[0]}<extra></extra>",
         "legendgroup": "Cluster 0",
         "marker": {
          "color": "#636efa",
          "opacity": 0.5,
          "symbol": "circle"
         },
         "mode": "markers",
         "name": "Cluster 0",
         "orientation": "v",
         "showlegend": true,
         "textposition": "top center",
         "type": "scatter",
         "x": [
          1.1682865619659424,
          1.4165247678756714,
          1.0276424884796143,
          0.7918435335159302,
          0.6555733680725098,
          1.285625696182251,
          1.0405645370483398,
          0.8861284852027893,
          0.9146565794944763,
          0.9278727173805237,
          1.2454276084899902,
          0.7728725075721741,
          1.107447862625122,
          1.2687187194824219,
          0.9449528455734253,
          0.7622307538986206,
          0.9777641892433167,
          1.0169681310653687,
          1.010373830795288,
          0.8997244238853455,
          1.0437347888946533,
          0.5968287587165833,
          1.206216812133789,
          1.3021695613861084,
          0.938481330871582,
          0.7160186767578125,
          1.321184754371643,
          1.108073115348816,
          0.998359203338623,
          0.8919394612312317,
          0.7344582080841064,
          0.9008410573005676,
          0.8612090945243835,
          0.7821930050849915,
          1.2041499614715576,
          1.2062690258026123,
          1.0852609872817993,
          0.8459433317184448,
          0.8943125009536743,
          0.8726419806480408,
          0.9041293263435364,
          0.9066280722618103,
          0.9808086156845093,
          1.063683271408081,
          0.9404513239860535,
          0.7759047746658325,
          0.6643080711364746,
          0.8659573793411255,
          1.0488444566726685,
          0.9312349557876587,
          0.981971263885498,
          1.0590704679489136,
          0.7440270781517029,
          1.1042746305465698,
          0.841769814491272,
          0.7874785661697388,
          0.9425914287567139,
          0.8657572865486145,
          1.001940131187439,
          0.9594900608062744,
          1.2191797494888306,
          1.0477724075317383,
          1.0077911615371704,
          0.9041622877120972,
          0.5770886540412903,
          0.8416804671287537,
          0.6350504159927368,
          1.1666392087936401,
          0.8463935852050781,
          0.8566257357597351,
          0.911906898021698,
          1.0860486030578613,
          0.936654269695282,
          0.847323477268219,
          0.9030629396438599,
          1.2474044561386108,
          0.7580636143684387,
          1.0725417137145996,
          0.7059596180915833,
          1.2113146781921387,
          0.6609920859336853,
          1.1841089725494385,
          0.7954778671264648,
          0.8652967214584351,
          1.2806113958358765,
          0.7310240864753723,
          0.6935244798660278,
          1.1100283861160278,
          1.1219556331634521,
          0.9605005383491516,
          1.185149073600769,
          0.7065488696098328,
          0.8220017552375793,
          0.938933253288269,
          1.0372281074523926,
          0.8637285232543945,
          1.0205113887786865,
          0.935233473777771,
          0.8645505905151367,
          0.9431469440460205,
          0.8598955869674683,
          0.7324368953704834,
          1.0101209878921509,
          1.3029768466949463,
          0.9578529596328735,
          1.1929197311401367,
          0.9890444874763489,
          1.0262013673782349,
          1.3206466436386108,
          0.876446008682251,
          1.132887601852417,
          1.046473503112793,
          1.3467046022415161,
          1.0574474334716797,
          1.195106029510498,
          1.0121031999588013,
          1.2175977230072021,
          0.9540258049964905,
          1.178896188735962,
          0.9680411219596863,
          1.154331088066101,
          1.0768593549728394,
          0.9446700215339661,
          1.1276582479476929,
          0.9390624761581421,
          0.9214391708374023,
          0.8854324221611023,
          0.854526698589325,
          1.3514660596847534,
          0.6491555571556091,
          1.1697152853012085,
          1.1107919216156006,
          0.9629565477371216,
          0.9694490432739258,
          0.986366331577301,
          1.209730625152588,
          0.8404750227928162,
          1.1695785522460938,
          0.978308379650116,
          0.9549229741096497,
          1.3253414630889893,
          0.968822181224823,
          0.9694488048553467,
          0.9128895998001099,
          0.9904003143310547,
          1.1194003820419312,
          0.9700284004211426,
          0.5838879346847534,
          1.1412700414657593,
          0.9780917167663574,
          0.9415026307106018,
          1.379157304763794,
          1.2113990783691406,
          0.9951065182685852,
          1.1878057718276978,
          1.168658971786499,
          0.6485198736190796
         ],
         "xaxis": "x",
         "y": [
          -1.000194787979126,
          -1.1874051094055176,
          -1.2614195346832275,
          -1.0428457260131836,
          -0.9506073594093323,
          -1.0491610765457153,
          -1.0879011154174805,
          -1.3114511966705322,
          -1.0457971096038818,
          -1.321817398071289,
          -1.1350938081741333,
          -1.4498319625854492,
          -0.9032411575317383,
          -1.2877277135849,
          -1.0827041864395142,
          -1.1008294820785522,
          -1.00543212890625,
          -1.1019898653030396,
          -1.240654468536377,
          -1.0180184841156006,
          -1.140784502029419,
          -1.246671438217163,
          -0.9890968799591064,
          -1.131754994392395,
          -0.911418080329895,
          -0.8559834361076355,
          -1.0112113952636719,
          -1.0491403341293335,
          -0.7261454463005066,
          -0.9244826436042786,
          -1.1739380359649658,
          -1.0551952123641968,
          -1.3076649904251099,
          -0.9017108082771301,
          -1.1104902029037476,
          -0.7873290181159973,
          -1.000543236732483,
          -1.025555968284607,
          -0.8956352472305298,
          -1.0128642320632935,
          -1.3387060165405273,
          -0.8129184246063232,
          -1.1529576778411865,
          -1.0687674283981323,
          -1.0093414783477783,
          -1.0307950973510742,
          -0.890129804611206,
          -0.9501850008964539,
          -1.03412926197052,
          -1.151719093322754,
          -1.2111093997955322,
          -0.890799880027771,
          -1.017029881477356,
          -0.9261338710784912,
          -1.1315540075302124,
          -1.0185751914978027,
          -1.4138811826705933,
          -1.0093226432800293,
          -0.8672708868980408,
          -1.0207957029342651,
          -0.9339128136634827,
          -0.9909496307373047,
          -0.9251205921173096,
          -0.9268787503242493,
          -1.1057262420654297,
          -1.0551121234893799,
          -0.844488263130188,
          -0.9858205318450928,
          -0.7750477194786072,
          -1.0899099111557007,
          -1.0921088457107544,
          -1.1540806293487549,
          -1.0537810325622559,
          -1.0958573818206787,
          -0.9571161866188049,
          -1.3089094161987305,
          -1.089959740638733,
          -1.341054081916809,
          -1.013558268547058,
          -1.3413424491882324,
          -1.0233873128890991,
          -1.2783961296081543,
          -0.8398825526237488,
          -1.0111196041107178,
          -1.148784875869751,
          -1.2106183767318726,
          -0.8048183917999268,
          -1.2312021255493164,
          -0.936193585395813,
          -1.121390461921692,
          -0.9262417554855347,
          -1.0071638822555542,
          -0.7151244282722473,
          -1.1841012239456177,
          -1.131176471710205,
          -0.6305227279663086,
          -1.069000005722046,
          -1.0689483880996704,
          -0.8363634943962097,
          -1.223675012588501,
          -1.2307734489440918,
          -1.203320860862732,
          -0.7192445993423462,
          -1.035455346107483,
          -0.7304667234420776,
          -1.3237193822860718,
          -0.7460960149765015,
          -1.0784361362457275,
          -0.8439512252807617,
          -0.9881936311721802,
          -1.3481123447418213,
          -1.1669306755065918,
          -1.0718238353729248,
          -0.9625588655471802,
          -1.5360716581344604,
          -1.2827355861663818,
          -1.0940495729446411,
          -1.1050115823745728,
          -1.1914814710617065,
          -1.1378580331802368,
          -0.8986911177635193,
          -0.8646272420883179,
          -0.8512720465660095,
          -1.1423070430755615,
          -0.824820876121521,
          -0.9607786536216736,
          -0.9872027635574341,
          -0.9365445375442505,
          -0.9684157371520996,
          -0.7130072712898254,
          -1.3232675790786743,
          -0.8504675030708313,
          -1.0563538074493408,
          -0.9652548432350159,
          -1.214759349822998,
          -1.0174120664596558,
          -1.0083832740783691,
          -0.9948423504829407,
          -1.2837070226669312,
          -1.427964687347412,
          -1.0537877082824707,
          -0.9508262872695923,
          -0.5166518092155457,
          -1.2877886295318604,
          -1.0986212491989136,
          -0.9454618096351624,
          -1.0226846933364868,
          -0.7095231413841248,
          -1.1282607316970825,
          -0.8932649493217468,
          -0.8738515973091125,
          -1.1911311149597168,
          -1.381331205368042,
          -0.8446990847587585,
          -0.9010031223297119,
          -1.3828846216201782,
          -1.2345564365386963
         ],
         "yaxis": "y"
        },
        {
         "customdata": [
          [
           87
          ],
          [
           94
          ],
          [
           86
          ],
          [
           92
          ],
          [
           86
          ],
          [
           91
          ],
          [
           82
          ],
          [
           87
          ],
          [
           89
          ],
          [
           90
          ],
          [
           88
          ],
          [
           93
          ],
          [
           85
          ],
          [
           84
          ],
          [
           86
          ],
          [
           83
          ],
          [
           94
          ],
          [
           83
          ],
          [
           88
          ],
          [
           83
          ],
          [
           91
          ],
          [
           84
          ],
          [
           90
          ],
          [
           90
          ],
          [
           88
          ],
          [
           87
          ],
          [
           83
          ],
          [
           88
          ],
          [
           90
          ],
          [
           91
          ],
          [
           84
          ],
          [
           87
          ],
          [
           91
          ],
          [
           85
          ],
          [
           87
          ],
          [
           88
          ],
          [
           87
          ],
          [
           88
          ],
          [
           90
          ],
          [
           91
          ],
          [
           91
          ],
          [
           91
          ],
          [
           83
          ],
          [
           92
          ],
          [
           87
          ],
          [
           85
          ],
          [
           94
          ],
          [
           86
          ],
          [
           92
          ],
          [
           84
          ],
          [
           83
          ],
          [
           87
          ],
          [
           90
          ],
          [
           87
          ],
          [
           88
          ],
          [
           86
          ],
          [
           84
          ],
          [
           90
          ],
          [
           91
          ],
          [
           92
          ],
          [
           97
          ],
          [
           84
          ],
          [
           92
          ],
          [
           87
          ],
          [
           91
          ],
          [
           93
          ],
          [
           90
          ],
          [
           84
          ],
          [
           87
          ],
          [
           82
          ],
          [
           90
          ],
          [
           83
          ],
          [
           91
          ],
          [
           88
          ],
          [
           91
          ],
          [
           84
          ],
          [
           87
          ],
          [
           89
          ],
          [
           84
          ],
          [
           94
          ],
          [
           86
          ],
          [
           79
          ],
          [
           86
          ],
          [
           85
          ],
          [
           92
          ],
          [
           89
          ],
          [
           88
          ],
          [
           87
          ],
          [
           90
          ],
          [
           89
          ],
          [
           79
          ],
          [
           82
          ],
          [
           87
          ],
          [
           91
          ],
          [
           86
          ],
          [
           89
          ],
          [
           83
          ],
          [
           91
          ],
          [
           89
          ],
          [
           88
          ],
          [
           94
          ],
          [
           91
          ],
          [
           91
          ],
          [
           94
          ],
          [
           91
          ],
          [
           92
          ],
          [
           82
          ],
          [
           88
          ],
          [
           87
          ],
          [
           88
          ],
          [
           85
          ],
          [
           87
          ],
          [
           93
          ],
          [
           89
          ],
          [
           88
          ],
          [
           85
          ],
          [
           89
          ],
          [
           82
          ],
          [
           90
          ],
          [
           89
          ],
          [
           84
          ],
          [
           87
          ],
          [
           85
          ],
          [
           89
          ],
          [
           94
          ],
          [
           95
          ],
          [
           91
          ],
          [
           81
          ],
          [
           88
          ],
          [
           89
          ],
          [
           86
          ],
          [
           91
          ],
          [
           83
          ],
          [
           83
          ],
          [
           84
          ],
          [
           84
          ],
          [
           88
          ],
          [
           85
          ],
          [
           85
          ],
          [
           87
          ],
          [
           89
          ],
          [
           85
          ],
          [
           92
          ],
          [
           88
          ],
          [
           84
          ],
          [
           88
          ],
          [
           85
          ]
         ],
         "hovertemplate": "Cluster=Cluster 1<br>PCA1=%{x}<br>PCA2=%{y}<br>Feature=%{customdata[0]}<extra></extra>",
         "legendgroup": "Cluster 1",
         "marker": {
          "color": "#EF553B",
          "opacity": 0.5,
          "symbol": "circle"
         },
         "mode": "markers",
         "name": "Cluster 1",
         "orientation": "v",
         "showlegend": true,
         "textposition": "top center",
         "type": "scatter",
         "x": [
          -2.186924934387207,
          -2.4042844772338867,
          -2.07730770111084,
          -2.441359281539917,
          -2.3022961616516113,
          -2.287584066390991,
          -2.0517539978027344,
          -2.0617520809173584,
          -2.1055781841278076,
          -1.9237722158432007,
          -1.9803950786590576,
          -2.567403554916382,
          -2.069377899169922,
          -2.3168742656707764,
          -2.3114418983459473,
          -2.0488767623901367,
          -2.0640289783477783,
          -2.074065685272217,
          -2.325666666030884,
          -2.0660319328308105,
          -2.1601338386535645,
          -2.0794029235839844,
          -2.1132564544677734,
          -2.2367465496063232,
          -2.025716543197632,
          -2.100966215133667,
          -2.1726090908050537,
          -1.947566032409668,
          -2.1246163845062256,
          -2.1987507343292236,
          -1.881954312324524,
          -1.64151132106781,
          -2.2095301151275635,
          -2.2135655879974365,
          -1.8905360698699951,
          -2.1966559886932373,
          -2.2149157524108887,
          -1.856850504875183,
          -2.4957385063171387,
          -1.9888646602630615,
          -2.1905839443206787,
          -2.2638330459594727,
          -2.084897041320801,
          -2.007206439971924,
          -2.0156712532043457,
          -1.8449581861495972,
          -2.3009042739868164,
          -2.0904910564422607,
          -2.309185028076172,
          -2.0610485076904297,
          -1.6920149326324463,
          -1.9726831912994385,
          -2.0348479747772217,
          -2.1763696670532227,
          -1.874466061592102,
          -2.0325489044189453,
          -1.8540502786636353,
          -2.0547006130218506,
          -2.271970510482788,
          -2.1383726596832275,
          -2.1665842533111572,
          -1.8268460035324097,
          -2.1151368618011475,
          -2.1694540977478027,
          -2.0219218730926514,
          -2.665086269378662,
          -1.9113861322402954,
          -2.137449264526367,
          -1.9797379970550537,
          -1.9316942691802979,
          -2.0875253677368164,
          -1.8501152992248535,
          -2.4708573818206787,
          -2.1045496463775635,
          -2.0596237182617188,
          -2.039295196533203,
          -1.9494258165359497,
          -2.1338746547698975,
          -2.0126116275787354,
          -2.0897743701934814,
          -1.9440786838531494,
          -1.651897668838501,
          -2.127960443496704,
          -1.7799248695373535,
          -2.0620200634002686,
          -1.6899800300598145,
          -2.372241497039795,
          -1.8777120113372803,
          -2.0057291984558105,
          -1.9614747762680054,
          -1.7340508699417114,
          -2.142347812652588,
          -1.9208530187606812,
          -2.1795403957366943,
          -2.408627510070801,
          -2.0549628734588623,
          -2.075246810913086,
          -2.284118413925171,
          -1.8925108909606934,
          -1.9479434490203857,
          -2.324178457260132,
          -2.3963868618011475,
          -2.446141481399536,
          -2.1219983100891113,
          -2.0606772899627686,
          -2.0545296669006348,
          -1.6872618198394775,
          -1.8776606321334839,
          -2.011019468307495,
          -1.7185101509094238,
          -2.0341999530792236,
          -2.1894965171813965,
          -2.419935941696167,
          -1.587644100189209,
          -2.188415288925171,
          -1.8598631620407104,
          -1.9874404668807983,
          -1.9126179218292236,
          -1.8108783960342407,
          -2.1601521968841553,
          -1.855593204498291,
          -2.1368680000305176,
          -2.155531167984009,
          -2.109975814819336,
          -2.2408645153045654,
          -2.3908019065856934,
          -2.377901315689087,
          -1.9100580215454102,
          -2.2967092990875244,
          -2.2267348766326904,
          -1.7605111598968506,
          -2.351104974746704,
          -1.7196685075759888,
          -1.89454984664917,
          -2.353624105453491,
          -2.1082663536071777,
          -1.9635159969329834,
          -1.959352731704712,
          -1.7579728364944458,
          -1.9122360944747925,
          -2.2696261405944824,
          -1.8605685234069824,
          -1.9876149892807007,
          -2.181046962738037,
          -1.8125985860824585,
          -1.8583760261535645,
          -2.1063120365142822
         ],
         "xaxis": "x",
         "y": [
          -0.8067986965179443,
          -0.717338502407074,
          -0.6825623512268066,
          -0.5181752443313599,
          -0.11431647092103958,
          -0.8755621910095215,
          -0.15961848199367523,
          -0.39991602301597595,
          -0.5517791509628296,
          -0.6273737549781799,
          -0.4501754641532898,
          -0.5584246516227722,
          -0.5698588490486145,
          -0.4088176488876343,
          -0.05758720263838768,
          -0.2910277247428894,
          -0.746414303779602,
          -0.4538953900337219,
          -0.5350068807601929,
          -0.15270155668258667,
          -0.5893179774284363,
          -0.5608564019203186,
          -0.36960744857788086,
          -0.5264177322387695,
          -0.5390363335609436,
          -0.5619376301765442,
          -0.23068514466285706,
          -0.5215536952018738,
          -0.4603714048862457,
          -0.6138377785682678,
          -0.29422032833099365,
          -0.3200516998767853,
          -0.579750657081604,
          -0.2550450563430786,
          -0.5393489003181458,
          -0.6273106932640076,
          -0.5241268277168274,
          -0.7054096460342407,
          -0.3681068420410156,
          -0.46772336959838867,
          -0.6014840006828308,
          -0.45444363355636597,
          -0.5585018992424011,
          -0.5682777166366577,
          -0.6102163791656494,
          -0.7365489602088928,
          -0.6493921875953674,
          -0.44017425179481506,
          -0.6093332171440125,
          -0.4187217652797699,
          -0.46643900871276855,
          -0.20918376743793488,
          -0.5728517770767212,
          -0.6740190982818604,
          -0.6191138029098511,
          -0.556391179561615,
          -0.5275813341140747,
          -0.7520080208778381,
          -0.4491521716117859,
          -0.8410365581512451,
          -0.7505223751068115,
          -0.3671599328517914,
          -0.4297362267971039,
          -0.3689551055431366,
          -0.5746302604675293,
          -0.3562736213207245,
          -0.5456020832061768,
          -0.3834385573863983,
          -0.4565931260585785,
          -0.3003394603729248,
          -0.6338679790496826,
          -0.4274951219558716,
          -0.24686957895755768,
          -0.64800626039505,
          -0.6563172936439514,
          -0.4053437411785126,
          -0.628052294254303,
          -0.5696758031845093,
          -0.6402749419212341,
          -0.44240671396255493,
          -0.5298415422439575,
          -0.29117539525032043,
          -0.13910986483097076,
          -0.6441530585289001,
          -0.5549706220626831,
          -0.6934901475906372,
          -0.5161714553833008,
          -0.6206333637237549,
          -0.4200302064418793,
          -0.6400381326675415,
          -0.3269648551940918,
          -0.30471065640449524,
          -0.9227831363677979,
          -0.6347752809524536,
          -0.44874316453933716,
          -0.7539517879486084,
          -0.3794022798538208,
          -0.4958561360836029,
          -0.6046133041381836,
          -0.6458555459976196,
          -0.5246598124504089,
          -0.107436902821064,
          -0.2782950699329376,
          -0.7167496085166931,
          -0.5417883992195129,
          -0.5009898543357849,
          -0.7954896688461304,
          -0.7015095353126526,
          -0.5766028761863708,
          -0.7034938335418701,
          -0.40722253918647766,
          -0.5869163870811462,
          -0.5971874594688416,
          -1.0908340215682983,
          -0.4018643796443939,
          -0.43428030610084534,
          -0.5169973969459534,
          -0.3122000992298126,
          -0.689354419708252,
          -0.6676334142684937,
          -0.574437141418457,
          -0.55195552110672,
          -0.39828982949256897,
          -0.7826585173606873,
          -0.7895577549934387,
          -0.5480986833572388,
          -0.5926914215087891,
          -0.1915048211812973,
          -0.19657941162586212,
          -0.4646400809288025,
          -0.17396238446235657,
          -0.6846128106117249,
          -0.6422722339630127,
          -0.3030516803264618,
          -0.10320498794317245,
          -0.3138173818588257,
          -0.96404629945755,
          -0.3045940697193146,
          -0.6274949908256531,
          -0.6857115626335144,
          -0.28863194584846497,
          -0.5908672213554382,
          -0.6418523192405701,
          -0.4708766043186188,
          -0.19896425306797028,
          -0.5353788733482361,
          -0.28449535369873047
         ],
         "yaxis": "y"
        },
        {
         "customdata": [
          [
           20
          ],
          [
           20
          ],
          [
           17
          ],
          [
           28
          ],
          [
           18
          ],
          [
           17
          ],
          [
           24
          ],
          [
           17
          ],
          [
           28
          ],
          [
           26
          ],
          [
           21
          ],
          [
           30
          ],
          [
           17
          ],
          [
           25
          ],
          [
           20
          ],
          [
           23
          ],
          [
           25
          ],
          [
           24
          ],
          [
           27
          ],
          [
           31
          ],
          [
           24
          ],
          [
           27
          ],
          [
           28
          ],
          [
           26
          ],
          [
           21
          ],
          [
           25
          ],
          [
           24
          ],
          [
           24
          ],
          [
           25
          ],
          [
           23
          ],
          [
           26
          ],
          [
           22
          ],
          [
           28
          ],
          [
           28
          ],
          [
           23
          ],
          [
           25
          ],
          [
           24
          ],
          [
           29
          ],
          [
           25
          ],
          [
           22
          ],
          [
           29
          ],
          [
           26
          ],
          [
           26
          ],
          [
           27
          ],
          [
           22
          ],
          [
           28
          ],
          [
           23
          ],
          [
           29
          ],
          [
           24
          ],
          [
           18
          ]
         ],
         "hovertemplate": "Cluster=Cluster 2<br>PCA1=%{x}<br>PCA2=%{y}<br>Feature=%{customdata[0]}<extra></extra>",
         "legendgroup": "Cluster 2",
         "marker": {
          "color": "#00cc96",
          "opacity": 0.5,
          "symbol": "circle"
         },
         "mode": "markers",
         "name": "Cluster 2",
         "orientation": "v",
         "showlegend": true,
         "textposition": "top center",
         "type": "scatter",
         "x": [
          2.9100565910339355,
          2.964531660079956,
          3.6060125827789307,
          2.7276923656463623,
          3.0185022354125977,
          3.203385829925537,
          3.334589958190918,
          3.3186593055725098,
          2.6248483657836914,
          2.7615153789520264,
          3.13369083404541,
          2.5824334621429443,
          3.248023271560669,
          2.6834444999694824,
          3.0222134590148926,
          2.8210859298706055,
          3.0625455379486084,
          3.078514814376831,
          3.136930465698242,
          2.8857028484344482,
          2.836010217666626,
          2.8772213459014893,
          3.1899030208587646,
          2.6580326557159424,
          3.0184664726257324,
          3.314784526824951,
          2.968492269515991,
          3.027672052383423,
          2.8772077560424805,
          3.028472661972046,
          3.023343324661255,
          2.95554780960083,
          2.6126341819763184,
          3.057406187057495,
          3.289667844772339,
          2.744124412536621,
          3.1284396648406982,
          2.908193349838257,
          2.994615077972412,
          3.2271366119384766,
          2.996966600418091,
          3.02968430519104,
          2.9467103481292725,
          2.792816162109375,
          2.9790425300598145,
          3.1090493202209473,
          2.9965310096740723,
          3.0194802284240723,
          3.106052875518799,
          2.8596510887145996
         ],
         "xaxis": "x",
         "y": [
          0.24234715104103088,
          0.030776306986808777,
          -0.020803695544600487,
          0.06575144082307816,
          0.26981499791145325,
          -0.047596096992492676,
          -0.02342856302857399,
          0.18149366974830627,
          -0.10508759319782257,
          0.027471566572785378,
          0.005364901851862669,
          -0.011832378804683685,
          0.22315384447574615,
          0.038763631135225296,
          0.12764962017536163,
          -0.016744311898946762,
          -0.02478952705860138,
          0.11283332109451294,
          -0.33384275436401367,
          -0.2874935567378998,
          -0.07559341937303543,
          -0.15961307287216187,
          -0.39341896772384644,
          0.22000481188297272,
          0.02567814476788044,
          -0.060192301869392395,
          0.09709049761295319,
          0.03958531841635704,
          0.15353736281394958,
          -0.005102768540382385,
          -0.2797902524471283,
          0.2758648693561554,
          0.0076556745916605,
          -0.3726676404476166,
          0.05549773573875427,
          0.22846472263336182,
          -0.12386398017406464,
          0.014593570493161678,
          0.004344685468822718,
          0.02355741523206234,
          -0.3238433003425598,
          -0.1178194209933281,
          0.0739348903298378,
          -0.1329677402973175,
          -0.17767800390720367,
          -0.2267293781042099,
          0.10028165578842163,
          0.12620095908641815,
          0.046651918441057205,
          0.2720220685005188
         ],
         "yaxis": "y"
        },
        {
         "customdata": [
          [
           84
          ],
          [
           87
          ],
          [
           92
          ],
          [
           88
          ],
          [
           90
          ],
          [
           83
          ],
          [
           84
          ],
          [
           90
          ],
          [
           86
          ],
          [
           83
          ],
          [
           89
          ],
          [
           88
          ],
          [
           82
          ],
          [
           84
          ],
          [
           85
          ],
          [
           86
          ],
          [
           85
          ],
          [
           88
          ],
          [
           77
          ],
          [
           86
          ],
          [
           91
          ],
          [
           93
          ],
          [
           83
          ],
          [
           82
          ],
          [
           84
          ]
         ],
         "hovertemplate": "Cluster=Cluster 3<br>PCA1=%{x}<br>PCA2=%{y}<br>Feature=%{customdata[0]}<extra></extra>",
         "legendgroup": "Cluster 3",
         "marker": {
          "color": "#ab63fa",
          "opacity": 0.5,
          "symbol": "circle"
         },
         "mode": "markers",
         "name": "Cluster 3",
         "orientation": "v",
         "showlegend": true,
         "textposition": "top center",
         "type": "scatter",
         "x": [
          -0.9031899571418762,
          -0.9670627117156982,
          -1.0952298641204834,
          -1.097561001777649,
          -1.2098764181137085,
          -0.9552844762802124,
          -1.191551685333252,
          -0.9541645646095276,
          -0.7634169459342957,
          -1.127798318862915,
          -1.2921520471572876,
          -1.0392528772354126,
          -0.967556357383728,
          -1.090366005897522,
          -1.398309588432312,
          -1.2481129169464111,
          -1.021291732788086,
          -1.6249122619628906,
          -0.8348653316497803,
          -1.1908671855926514,
          -1.242785096168518,
          -1.1784387826919556,
          -1.1975951194763184,
          -1.0432095527648926,
          -1.2666198015213013
         ],
         "xaxis": "x",
         "y": [
          1.2898563146591187,
          1.0706335306167603,
          1.1727349758148193,
          1.2589963674545288,
          1.3846384286880493,
          1.1784844398498535,
          1.2071728706359863,
          0.9893571138381958,
          1.2243895530700684,
          1.3804680109024048,
          1.3272064924240112,
          1.313529133796692,
          1.402700662612915,
          1.2543904781341553,
          1.3795663118362427,
          1.5822618007659912,
          1.2016258239746094,
          1.5343340635299683,
          1.6633244752883911,
          1.279289960861206,
          1.2472147941589355,
          1.3195273876190186,
          1.4958430528640747,
          1.5599318742752075,
          1.3289759159088135
         ],
         "yaxis": "y"
        },
        {
         "customdata": [
          [
           28
          ],
          [
           39
          ],
          [
           30
          ],
          [
           30
          ],
          [
           36
          ],
          [
           30
          ],
          [
           30
          ],
          [
           31
          ],
          [
           35
          ],
          [
           28
          ],
          [
           37
          ],
          [
           29
          ],
          [
           38
          ],
          [
           35
          ],
          [
           28
          ],
          [
           31
          ],
          [
           30
          ],
          [
           32
          ],
          [
           33
          ],
          [
           36
          ],
          [
           28
          ],
          [
           31
          ],
          [
           32
          ],
          [
           35
          ],
          [
           31
          ],
          [
           31
          ],
          [
           28
          ],
          [
           31
          ],
          [
           33
          ],
          [
           34
          ],
          [
           36
          ],
          [
           32
          ],
          [
           22
          ],
          [
           33
          ],
          [
           34
          ],
          [
           34
          ],
          [
           35
          ],
          [
           31
          ],
          [
           35
          ],
          [
           34
          ],
          [
           33
          ],
          [
           32
          ],
          [
           36
          ],
          [
           38
          ],
          [
           34
          ],
          [
           29
          ],
          [
           30
          ],
          [
           37
          ],
          [
           30
          ],
          [
           37
          ],
          [
           35
          ],
          [
           36
          ],
          [
           31
          ],
          [
           33
          ],
          [
           29
          ],
          [
           33
          ],
          [
           26
          ],
          [
           24
          ],
          [
           36
          ],
          [
           33
          ],
          [
           31
          ],
          [
           34
          ],
          [
           29
          ],
          [
           30
          ],
          [
           31
          ],
          [
           31
          ],
          [
           37
          ],
          [
           37
          ],
          [
           37
          ],
          [
           35
          ],
          [
           43
          ],
          [
           36
          ],
          [
           31
          ],
          [
           31
          ],
          [
           38
          ],
          [
           37
          ],
          [
           33
          ],
          [
           31
          ],
          [
           30
          ],
          [
           29
          ],
          [
           33
          ],
          [
           25
          ],
          [
           33
          ],
          [
           30
          ],
          [
           40
          ],
          [
           34
          ],
          [
           33
          ],
          [
           36
          ],
          [
           29
          ],
          [
           37
          ],
          [
           33
          ],
          [
           31
          ],
          [
           37
          ],
          [
           37
          ],
          [
           33
          ],
          [
           28
          ],
          [
           31
          ],
          [
           27
          ],
          [
           34
          ],
          [
           44
          ],
          [
           31
          ],
          [
           36
          ],
          [
           29
          ],
          [
           35
          ],
          [
           42
          ],
          [
           29
          ],
          [
           39
          ],
          [
           25
          ],
          [
           29
          ],
          [
           35
          ],
          [
           29
          ],
          [
           28
          ],
          [
           36
          ],
          [
           34
          ],
          [
           35
          ],
          [
           32
          ],
          [
           31
          ],
          [
           34
          ],
          [
           29
          ],
          [
           39
          ],
          [
           34
          ],
          [
           33
          ],
          [
           32
          ],
          [
           32
          ],
          [
           38
          ],
          [
           30
          ]
         ],
         "hovertemplate": "Cluster=Cluster 4<br>PCA1=%{x}<br>PCA2=%{y}<br>Feature=%{customdata[0]}<extra></extra>",
         "legendgroup": "Cluster 4",
         "marker": {
          "color": "#FFA15A",
          "opacity": 0.5,
          "symbol": "circle"
         },
         "mode": "markers",
         "name": "Cluster 4",
         "orientation": "v",
         "showlegend": true,
         "textposition": "top center",
         "type": "scatter",
         "x": [
          0.2339584082365036,
          -0.04759960621595383,
          0.4200034737586975,
          0.30713117122650146,
          0.30294495820999146,
          0.2341788113117218,
          0.22945094108581543,
          0.244052916765213,
          0.012673295103013515,
          0.41961410641670227,
          0.32006579637527466,
          0.3769105076789856,
          0.2742164731025696,
          -0.057302750647068024,
          0.13276275992393494,
          0.432758092880249,
          0.42626070976257324,
          0.47085970640182495,
          0.37524691224098206,
          -0.15304410457611084,
          0.10836505144834518,
          -0.015299812890589237,
          0.4241282343864441,
          0.2045576572418213,
          0.24080125987529755,
          0.7206938862800598,
          0.4492087960243225,
          0.4099480211734772,
          0.31383606791496277,
          -0.0481569804251194,
          0.14166396856307983,
          0.05098878592252731,
          0.40868717432022095,
          -0.02430490031838417,
          0.24302810430526733,
          0.014223241247236729,
          0.08619207888841629,
          0.2686556577682495,
          0.29574933648109436,
          0.23046891391277313,
          0.20307905972003937,
          0.19313442707061768,
          0.228367418050766,
          0.21730564534664154,
          -0.22938194870948792,
          0.5747355222702026,
          0.5330695509910583,
          -0.11069278419017792,
          0.10471142083406448,
          -0.15415579080581665,
          0.22200214862823486,
          -0.06863193213939667,
          0.3580639958381653,
          0.22843177616596222,
          0.3278278112411499,
          0.39048367738723755,
          0.142482191324234,
          0.4670490622520447,
          0.10015233606100082,
          0.41940152645111084,
          0.11017576605081558,
          0.18865472078323364,
          0.4717485010623932,
          0.2529771327972412,
          0.40319520235061646,
          0.4950566291809082,
          0.38809674978256226,
          0.1837093085050583,
          0.14987924695014954,
          0.18269602954387665,
          0.16150256991386414,
          -0.03367699310183525,
          0.48999249935150146,
          0.47040435671806335,
          -0.09633179008960724,
          0.16539956629276276,
          0.34601160883903503,
          0.3474768400192261,
          0.2853190302848816,
          0.18708528578281403,
          0.036997824907302856,
          0.2905277609825134,
          0.2534964680671692,
          0.10798358917236328,
          -0.17843134701251984,
          0.28625577688217163,
          0.1817648559808731,
          0.16245532035827637,
          0.2587076425552368,
          -0.1374863088130951,
          0.07021165639162064,
          0.3295595049858093,
          0.3109807074069977,
          0.13527542352676392,
          0.23575638234615326,
          0.15203824639320374,
          0.33337780833244324,
          0.28572389483451843,
          0.13689832389354706,
          0.21406924724578857,
          0.024459287524223328,
          0.06669794768095016,
          0.5268500447273254,
          0.07082752883434296,
          0.10755234211683273,
          0.6209193468093872,
          -0.1854788213968277,
          0.4053848087787628,
          0.14711464941501617,
          0.15597008168697357,
          0.18989425897598267,
          0.570286214351654,
          0.23536431789398193,
          0.31007352471351624,
          0.39567577838897705,
          0.32921430468559265,
          0.4277504086494446,
          0.40889477729797363,
          0.25281158089637756,
          -0.019185839220881462,
          0.3833603262901306,
          0.21584908664226532,
          -0.08843415975570679,
          -0.017084119841456413,
          0.33795446157455444,
          0.3886311650276184
         ],
         "xaxis": "x",
         "y": [
          1.6203926801681519,
          1.46872878074646,
          1.5791503190994263,
          1.571330189704895,
          1.552661418914795,
          1.4609123468399048,
          1.4856655597686768,
          1.9799551963806152,
          1.8431358337402344,
          1.5081249475479126,
          1.439631700515747,
          1.6541398763656616,
          1.6670970916748047,
          1.8753563165664673,
          1.6239615678787231,
          1.6303404569625854,
          1.4308139085769653,
          1.77976393699646,
          1.799570083618164,
          1.7117799520492554,
          1.8203260898590088,
          1.7923003435134888,
          1.6521551609039307,
          1.719240665435791,
          1.7288546562194824,
          1.3508515357971191,
          1.8500044345855713,
          1.6457152366638184,
          1.5917893648147583,
          1.7782211303710938,
          1.6379029750823975,
          1.8996630907058716,
          1.9740715026855469,
          1.7425568103790283,
          1.6242215633392334,
          1.5946013927459717,
          1.6215230226516724,
          1.668376088142395,
          1.3939497470855713,
          1.3890036344528198,
          1.7269865274429321,
          1.648587942123413,
          1.3946952819824219,
          1.3840136528015137,
          1.8646981716156006,
          1.8315718173980713,
          1.5752052068710327,
          1.7989039421081543,
          1.7883360385894775,
          1.6299537420272827,
          1.869469404220581,
          1.5834932327270508,
          1.5628036260604858,
          1.3602027893066406,
          1.6049139499664307,
          1.3470464944839478,
          1.7697525024414062,
          1.907338261604309,
          1.6948987245559692,
          1.7434922456741333,
          1.727551817893982,
          1.6265677213668823,
          1.8495571613311768,
          1.8050061464309692,
          1.6709246635437012,
          1.6722875833511353,
          1.4121015071868896,
          1.627492070198059,
          1.609993577003479,
          1.6082284450531006,
          1.188510537147522,
          1.5181021690368652,
          1.749253749847412,
          1.6505076885223389,
          1.3905675411224365,
          1.3074843883514404,
          1.59597909450531,
          1.6445940732955933,
          1.7974603176116943,
          1.510058045387268,
          1.5980231761932373,
          1.7901946306228638,
          1.6210644245147705,
          1.9551011323928833,
          1.5557080507278442,
          1.1386858224868774,
          1.5598088502883911,
          1.4691561460494995,
          1.6856589317321777,
          1.939324975013733,
          1.969739317893982,
          1.5755293369293213,
          1.5576443672180176,
          1.7136266231536865,
          1.2902307510375977,
          1.7482428550720215,
          1.4389171600341797,
          1.8709042072296143,
          1.6224828958511353,
          1.49152410030365,
          1.880942702293396,
          1.735619306564331,
          1.7074309587478638,
          1.6776858568191528,
          1.4363181591033936,
          1.567267656326294,
          1.650573492050171,
          1.76280677318573,
          1.6852223873138428,
          1.5906009674072266,
          1.732970118522644,
          1.6086492538452148,
          1.5278621912002563,
          1.9068388938903809,
          1.6332610845565796,
          1.6238558292388916,
          1.7193210124969482,
          1.411554217338562,
          1.8908241987228394,
          1.438167929649353,
          1.6070724725723267,
          1.7098534107208252,
          1.8279329538345337,
          1.642421007156372,
          1.5676648616790771,
          1.7142448425292969
         ],
         "yaxis": "y"
        }
       ],
       "layout": {
        "height": 600,
        "legend": {
         "title": {
          "text": "Cluster"
         },
         "tracegroupgap": 0
        },
        "margin": {
         "t": 60
        },
        "plot_bgcolor": "rgb(240,240,240)",
        "template": {
         "data": {
          "bar": [
           {
            "error_x": {
             "color": "#2a3f5f"
            },
            "error_y": {
             "color": "#2a3f5f"
            },
            "marker": {
             "line": {
              "color": "#E5ECF6",
              "width": 0.5
             },
             "pattern": {
              "fillmode": "overlay",
              "size": 10,
              "solidity": 0.2
             }
            },
            "type": "bar"
           }
          ],
          "barpolar": [
           {
            "marker": {
             "line": {
              "color": "#E5ECF6",
              "width": 0.5
             },
             "pattern": {
              "fillmode": "overlay",
              "size": 10,
              "solidity": 0.2
             }
            },
            "type": "barpolar"
           }
          ],
          "carpet": [
           {
            "aaxis": {
             "endlinecolor": "#2a3f5f",
             "gridcolor": "white",
             "linecolor": "white",
             "minorgridcolor": "white",
             "startlinecolor": "#2a3f5f"
            },
            "baxis": {
             "endlinecolor": "#2a3f5f",
             "gridcolor": "white",
             "linecolor": "white",
             "minorgridcolor": "white",
             "startlinecolor": "#2a3f5f"
            },
            "type": "carpet"
           }
          ],
          "choropleth": [
           {
            "colorbar": {
             "outlinewidth": 0,
             "ticks": ""
            },
            "type": "choropleth"
           }
          ],
          "contour": [
           {
            "colorbar": {
             "outlinewidth": 0,
             "ticks": ""
            },
            "colorscale": [
             [
              0,
              "#0d0887"
             ],
             [
              0.1111111111111111,
              "#46039f"
             ],
             [
              0.2222222222222222,
              "#7201a8"
             ],
             [
              0.3333333333333333,
              "#9c179e"
             ],
             [
              0.4444444444444444,
              "#bd3786"
             ],
             [
              0.5555555555555556,
              "#d8576b"
             ],
             [
              0.6666666666666666,
              "#ed7953"
             ],
             [
              0.7777777777777778,
              "#fb9f3a"
             ],
             [
              0.8888888888888888,
              "#fdca26"
             ],
             [
              1,
              "#f0f921"
             ]
            ],
            "type": "contour"
           }
          ],
          "contourcarpet": [
           {
            "colorbar": {
             "outlinewidth": 0,
             "ticks": ""
            },
            "type": "contourcarpet"
           }
          ],
          "heatmap": [
           {
            "colorbar": {
             "outlinewidth": 0,
             "ticks": ""
            },
            "colorscale": [
             [
              0,
              "#0d0887"
             ],
             [
              0.1111111111111111,
              "#46039f"
             ],
             [
              0.2222222222222222,
              "#7201a8"
             ],
             [
              0.3333333333333333,
              "#9c179e"
             ],
             [
              0.4444444444444444,
              "#bd3786"
             ],
             [
              0.5555555555555556,
              "#d8576b"
             ],
             [
              0.6666666666666666,
              "#ed7953"
             ],
             [
              0.7777777777777778,
              "#fb9f3a"
             ],
             [
              0.8888888888888888,
              "#fdca26"
             ],
             [
              1,
              "#f0f921"
             ]
            ],
            "type": "heatmap"
           }
          ],
          "heatmapgl": [
           {
            "colorbar": {
             "outlinewidth": 0,
             "ticks": ""
            },
            "colorscale": [
             [
              0,
              "#0d0887"
             ],
             [
              0.1111111111111111,
              "#46039f"
             ],
             [
              0.2222222222222222,
              "#7201a8"
             ],
             [
              0.3333333333333333,
              "#9c179e"
             ],
             [
              0.4444444444444444,
              "#bd3786"
             ],
             [
              0.5555555555555556,
              "#d8576b"
             ],
             [
              0.6666666666666666,
              "#ed7953"
             ],
             [
              0.7777777777777778,
              "#fb9f3a"
             ],
             [
              0.8888888888888888,
              "#fdca26"
             ],
             [
              1,
              "#f0f921"
             ]
            ],
            "type": "heatmapgl"
           }
          ],
          "histogram": [
           {
            "marker": {
             "pattern": {
              "fillmode": "overlay",
              "size": 10,
              "solidity": 0.2
             }
            },
            "type": "histogram"
           }
          ],
          "histogram2d": [
           {
            "colorbar": {
             "outlinewidth": 0,
             "ticks": ""
            },
            "colorscale": [
             [
              0,
              "#0d0887"
             ],
             [
              0.1111111111111111,
              "#46039f"
             ],
             [
              0.2222222222222222,
              "#7201a8"
             ],
             [
              0.3333333333333333,
              "#9c179e"
             ],
             [
              0.4444444444444444,
              "#bd3786"
             ],
             [
              0.5555555555555556,
              "#d8576b"
             ],
             [
              0.6666666666666666,
              "#ed7953"
             ],
             [
              0.7777777777777778,
              "#fb9f3a"
             ],
             [
              0.8888888888888888,
              "#fdca26"
             ],
             [
              1,
              "#f0f921"
             ]
            ],
            "type": "histogram2d"
           }
          ],
          "histogram2dcontour": [
           {
            "colorbar": {
             "outlinewidth": 0,
             "ticks": ""
            },
            "colorscale": [
             [
              0,
              "#0d0887"
             ],
             [
              0.1111111111111111,
              "#46039f"
             ],
             [
              0.2222222222222222,
              "#7201a8"
             ],
             [
              0.3333333333333333,
              "#9c179e"
             ],
             [
              0.4444444444444444,
              "#bd3786"
             ],
             [
              0.5555555555555556,
              "#d8576b"
             ],
             [
              0.6666666666666666,
              "#ed7953"
             ],
             [
              0.7777777777777778,
              "#fb9f3a"
             ],
             [
              0.8888888888888888,
              "#fdca26"
             ],
             [
              1,
              "#f0f921"
             ]
            ],
            "type": "histogram2dcontour"
           }
          ],
          "mesh3d": [
           {
            "colorbar": {
             "outlinewidth": 0,
             "ticks": ""
            },
            "type": "mesh3d"
           }
          ],
          "parcoords": [
           {
            "line": {
             "colorbar": {
              "outlinewidth": 0,
              "ticks": ""
             }
            },
            "type": "parcoords"
           }
          ],
          "pie": [
           {
            "automargin": true,
            "type": "pie"
           }
          ],
          "scatter": [
           {
            "marker": {
             "colorbar": {
              "outlinewidth": 0,
              "ticks": ""
             }
            },
            "type": "scatter"
           }
          ],
          "scatter3d": [
           {
            "line": {
             "colorbar": {
              "outlinewidth": 0,
              "ticks": ""
             }
            },
            "marker": {
             "colorbar": {
              "outlinewidth": 0,
              "ticks": ""
             }
            },
            "type": "scatter3d"
           }
          ],
          "scattercarpet": [
           {
            "marker": {
             "colorbar": {
              "outlinewidth": 0,
              "ticks": ""
             }
            },
            "type": "scattercarpet"
           }
          ],
          "scattergeo": [
           {
            "marker": {
             "colorbar": {
              "outlinewidth": 0,
              "ticks": ""
             }
            },
            "type": "scattergeo"
           }
          ],
          "scattergl": [
           {
            "marker": {
             "colorbar": {
              "outlinewidth": 0,
              "ticks": ""
             }
            },
            "type": "scattergl"
           }
          ],
          "scattermapbox": [
           {
            "marker": {
             "colorbar": {
              "outlinewidth": 0,
              "ticks": ""
             }
            },
            "type": "scattermapbox"
           }
          ],
          "scatterpolar": [
           {
            "marker": {
             "colorbar": {
              "outlinewidth": 0,
              "ticks": ""
             }
            },
            "type": "scatterpolar"
           }
          ],
          "scatterpolargl": [
           {
            "marker": {
             "colorbar": {
              "outlinewidth": 0,
              "ticks": ""
             }
            },
            "type": "scatterpolargl"
           }
          ],
          "scatterternary": [
           {
            "marker": {
             "colorbar": {
              "outlinewidth": 0,
              "ticks": ""
             }
            },
            "type": "scatterternary"
           }
          ],
          "surface": [
           {
            "colorbar": {
             "outlinewidth": 0,
             "ticks": ""
            },
            "colorscale": [
             [
              0,
              "#0d0887"
             ],
             [
              0.1111111111111111,
              "#46039f"
             ],
             [
              0.2222222222222222,
              "#7201a8"
             ],
             [
              0.3333333333333333,
              "#9c179e"
             ],
             [
              0.4444444444444444,
              "#bd3786"
             ],
             [
              0.5555555555555556,
              "#d8576b"
             ],
             [
              0.6666666666666666,
              "#ed7953"
             ],
             [
              0.7777777777777778,
              "#fb9f3a"
             ],
             [
              0.8888888888888888,
              "#fdca26"
             ],
             [
              1,
              "#f0f921"
             ]
            ],
            "type": "surface"
           }
          ],
          "table": [
           {
            "cells": {
             "fill": {
              "color": "#EBF0F8"
             },
             "line": {
              "color": "white"
             }
            },
            "header": {
             "fill": {
              "color": "#C8D4E3"
             },
             "line": {
              "color": "white"
             }
            },
            "type": "table"
           }
          ]
         },
         "layout": {
          "annotationdefaults": {
           "arrowcolor": "#2a3f5f",
           "arrowhead": 0,
           "arrowwidth": 1
          },
          "autotypenumbers": "strict",
          "coloraxis": {
           "colorbar": {
            "outlinewidth": 0,
            "ticks": ""
           }
          },
          "colorscale": {
           "diverging": [
            [
             0,
             "#8e0152"
            ],
            [
             0.1,
             "#c51b7d"
            ],
            [
             0.2,
             "#de77ae"
            ],
            [
             0.3,
             "#f1b6da"
            ],
            [
             0.4,
             "#fde0ef"
            ],
            [
             0.5,
             "#f7f7f7"
            ],
            [
             0.6,
             "#e6f5d0"
            ],
            [
             0.7,
             "#b8e186"
            ],
            [
             0.8,
             "#7fbc41"
            ],
            [
             0.9,
             "#4d9221"
            ],
            [
             1,
             "#276419"
            ]
           ],
           "sequential": [
            [
             0,
             "#0d0887"
            ],
            [
             0.1111111111111111,
             "#46039f"
            ],
            [
             0.2222222222222222,
             "#7201a8"
            ],
            [
             0.3333333333333333,
             "#9c179e"
            ],
            [
             0.4444444444444444,
             "#bd3786"
            ],
            [
             0.5555555555555556,
             "#d8576b"
            ],
            [
             0.6666666666666666,
             "#ed7953"
            ],
            [
             0.7777777777777778,
             "#fb9f3a"
            ],
            [
             0.8888888888888888,
             "#fdca26"
            ],
            [
             1,
             "#f0f921"
            ]
           ],
           "sequentialminus": [
            [
             0,
             "#0d0887"
            ],
            [
             0.1111111111111111,
             "#46039f"
            ],
            [
             0.2222222222222222,
             "#7201a8"
            ],
            [
             0.3333333333333333,
             "#9c179e"
            ],
            [
             0.4444444444444444,
             "#bd3786"
            ],
            [
             0.5555555555555556,
             "#d8576b"
            ],
            [
             0.6666666666666666,
             "#ed7953"
            ],
            [
             0.7777777777777778,
             "#fb9f3a"
            ],
            [
             0.8888888888888888,
             "#fdca26"
            ],
            [
             1,
             "#f0f921"
            ]
           ]
          },
          "colorway": [
           "#636efa",
           "#EF553B",
           "#00cc96",
           "#ab63fa",
           "#FFA15A",
           "#19d3f3",
           "#FF6692",
           "#B6E880",
           "#FF97FF",
           "#FECB52"
          ],
          "font": {
           "color": "#2a3f5f"
          },
          "geo": {
           "bgcolor": "white",
           "lakecolor": "white",
           "landcolor": "#E5ECF6",
           "showlakes": true,
           "showland": true,
           "subunitcolor": "white"
          },
          "hoverlabel": {
           "align": "left"
          },
          "hovermode": "closest",
          "mapbox": {
           "style": "light"
          },
          "paper_bgcolor": "white",
          "plot_bgcolor": "#E5ECF6",
          "polar": {
           "angularaxis": {
            "gridcolor": "white",
            "linecolor": "white",
            "ticks": ""
           },
           "bgcolor": "#E5ECF6",
           "radialaxis": {
            "gridcolor": "white",
            "linecolor": "white",
            "ticks": ""
           }
          },
          "scene": {
           "xaxis": {
            "backgroundcolor": "#E5ECF6",
            "gridcolor": "white",
            "gridwidth": 2,
            "linecolor": "white",
            "showbackground": true,
            "ticks": "",
            "zerolinecolor": "white"
           },
           "yaxis": {
            "backgroundcolor": "#E5ECF6",
            "gridcolor": "white",
            "gridwidth": 2,
            "linecolor": "white",
            "showbackground": true,
            "ticks": "",
            "zerolinecolor": "white"
           },
           "zaxis": {
            "backgroundcolor": "#E5ECF6",
            "gridcolor": "white",
            "gridwidth": 2,
            "linecolor": "white",
            "showbackground": true,
            "ticks": "",
            "zerolinecolor": "white"
           }
          },
          "shapedefaults": {
           "line": {
            "color": "#2a3f5f"
           }
          },
          "ternary": {
           "aaxis": {
            "gridcolor": "white",
            "linecolor": "white",
            "ticks": ""
           },
           "baxis": {
            "gridcolor": "white",
            "linecolor": "white",
            "ticks": ""
           },
           "bgcolor": "#E5ECF6",
           "caxis": {
            "gridcolor": "white",
            "linecolor": "white",
            "ticks": ""
           }
          },
          "title": {
           "x": 0.05
          },
          "xaxis": {
           "automargin": true,
           "gridcolor": "white",
           "linecolor": "white",
           "ticks": "",
           "title": {
            "standoff": 15
           },
           "zerolinecolor": "white",
           "zerolinewidth": 2
          },
          "yaxis": {
           "automargin": true,
           "gridcolor": "white",
           "linecolor": "white",
           "ticks": "",
           "title": {
            "standoff": 15
           },
           "zerolinecolor": "white",
           "zerolinewidth": 2
          }
         }
        },
        "title": {
         "text": "2D Cluster PCA Plot"
        },
        "xaxis": {
         "anchor": "y",
         "domain": [
          0,
          1
         ],
         "title": {
          "text": "PCA1"
         }
        },
        "yaxis": {
         "anchor": "x",
         "domain": [
          0,
          1
         ],
         "title": {
          "text": "PCA2"
         }
        }
       }
      }
     },
     "metadata": {},
     "output_type": "display_data"
    }
   ],
   "source": [
    "plot_model(dbscan)"
   ]
  },
  {
   "cell_type": "markdown",
   "metadata": {},
   "source": [
    "# dbscan with sklearn"
   ]
  },
  {
   "cell_type": "code",
   "execution_count": 18,
   "metadata": {},
   "outputs": [],
   "source": [
    "from sklearn.datasets import make_blobs\n",
    "from sklearn.preprocessing import StandardScaler\n",
    "import matplotlib.pyplot as plt\n",
    "%matplotlib inline"
   ]
  },
  {
   "cell_type": "code",
   "execution_count": 19,
   "metadata": {},
   "outputs": [],
   "source": [
    "#Determine centroids\n",
    "centers = [[0.5, 2], [-1, -1], [1.5, -1]]\n",
    "#Create dataset\n",
    "X, y = make_blobs(n_samples=400, centers=centers, \n",
    "                  cluster_std=0.5, random_state=0)\n",
    "#Normalize the values\n",
    "X = StandardScaler().fit_transform(X)"
   ]
  },
  {
   "cell_type": "code",
   "execution_count": 20,
   "metadata": {},
   "outputs": [
    {
     "data": {
      "text/plain": [
       "<matplotlib.collections.PathCollection at 0x7fcc1dcf8ca0>"
      ]
     },
     "execution_count": 20,
     "metadata": {},
     "output_type": "execute_result"
    },
    {
     "data": {
      "image/png": "[encoded data removed]",
      "text/plain": [
       "<Figure size 720x432 with 1 Axes>"
      ]
     },
     "metadata": {
      "needs_background": "light"
     },
     "output_type": "display_data"
    }
   ],
   "source": [
    "plt.figure(figsize=(10,6))\n",
    "plt.scatter(X[:,0], X[:,1], c=y, cmap='Paired')"
   ]
  },
  {
   "cell_type": "code",
   "execution_count": 21,
   "metadata": {},
   "outputs": [
    {
     "data": {
      "text/plain": [
       "DBSCAN(eps=0.4, min_samples=20)"
      ]
     },
     "execution_count": 21,
     "metadata": {},
     "output_type": "execute_result"
    }
   ],
   "source": [
    "from sklearn.cluster import DBSCAN\n",
    "db = DBSCAN(eps=0.4, min_samples=20)\n",
    "db.fit(X)"
   ]
  },
  {
   "cell_type": "code",
   "execution_count": 22,
   "metadata": {},
   "outputs": [
    {
     "data": {
      "text/plain": [
       "Text(0.5, 1.0, 'Clusters determined by DBSCAN')"
      ]
     },
     "execution_count": 22,
     "metadata": {},
     "output_type": "execute_result"
    },
    {
     "data": {
      "image/png": "[encoded data removed]",
      "text/plain": [
       "<Figure size 720x432 with 1 Axes>"
      ]
     },
     "metadata": {
      "needs_background": "light"
     },
     "output_type": "display_data"
    }
   ],
   "source": [
    "y_pred = db.fit_predict(X)\n",
    "plt.figure(figsize=(10,6))\n",
    "plt.scatter(X[:,0], X[:,1],c=y_pred, cmap='Paired')\n",
    "plt.title(\"Clusters determined by DBSCAN\")"
   ]
  },
  {
   "cell_type": "code",
   "execution_count": null,
   "metadata": {},
   "outputs": [],
   "source": []
  }
 ],
 "metadata": {
  "interpreter": {
   "hash": "38eed5c50e0a3327633343bf39af9b5ec442f97ac8dea3717efb1c3acd79de73"
  },
  "kernelspec": {
   "display_name": "Python 3.8.3 64-bit ('base': conda)",
   "language": "python",
   "name": "python3"
  },
  "language_info": {
   "codemirror_mode": {
    "name": "ipython",
    "version": 3
   },
   "file_extension": ".py",
   "mimetype": "text/x-python",
   "name": "python",
   "nbconvert_exporter": "python",
   "pygments_lexer": "ipython3",
   "version": "3.8.3"
  },
  "orig_nbformat": 4
 },
 "nbformat": 4,
 "nbformat_minor": 2
}
