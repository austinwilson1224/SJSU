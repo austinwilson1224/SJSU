{
 "cells": [
  {
   "cell_type": "code",
   "execution_count": 1,
   "metadata": {},
   "outputs": [],
   "source": [
    "import numpy as np \n",
    "import pandas as pd \n",
    "from apyori import apriori"
   ]
  },
  {
   "cell_type": "code",
   "execution_count": 47,
   "metadata": {},
   "outputs": [],
   "source": [
    "testarules = pd.read_csv(\"testarules.csv\")\n",
    "trainarules = pd.read_csv(\"TRAIN-ARULES.csv\")"
   ]
  },
  {
   "cell_type": "code",
   "execution_count": 48,
   "metadata": {},
   "outputs": [
    {
     "data": {
      "text/html": [
       "<div>\n",
       "<style scoped>\n",
       "    .dataframe tbody tr th:only-of-type {\n",
       "        vertical-align: middle;\n",
       "    }\n",
       "\n",
       "    .dataframe tbody tr th {\n",
       "        vertical-align: top;\n",
       "    }\n",
       "\n",
       "    .dataframe thead th {\n",
       "        text-align: right;\n",
       "    }\n",
       "</style>\n",
       "<table border=\"1\" class=\"dataframe\">\n",
       "  <thead>\n",
       "    <tr style=\"text-align: right;\">\n",
       "      <th></th>\n",
       "      <th>Item1</th>\n",
       "      <th>Item2</th>\n",
       "      <th>Item3</th>\n",
       "      <th>Item4</th>\n",
       "      <th>Item5</th>\n",
       "    </tr>\n",
       "  </thead>\n",
       "  <tbody>\n",
       "    <tr>\n",
       "      <th>0</th>\n",
       "      <td>Dark Chocolate Minis</td>\n",
       "      <td>Organic Pink Lemonade Bunny Fruit Snacks</td>\n",
       "      <td>Peach-Pear Sparkling Water</td>\n",
       "      <td>NaN</td>\n",
       "      <td>NaN</td>\n",
       "    </tr>\n",
       "  </tbody>\n",
       "</table>\n",
       "</div>"
      ],
      "text/plain": [
       "                  Item1                                     Item2  \\\n",
       "0  Dark Chocolate Minis  Organic Pink Lemonade Bunny Fruit Snacks   \n",
       "\n",
       "                        Item3  Item4  Item5  \n",
       "0  Peach-Pear Sparkling Water    NaN    NaN  "
      ]
     },
     "execution_count": 48,
     "metadata": {},
     "output_type": "execute_result"
    }
   ],
   "source": [
    "testarules.head()"
   ]
  },
  {
   "cell_type": "code",
   "execution_count": 49,
   "metadata": {},
   "outputs": [
    {
     "data": {
      "text/html": [
       "<div>\n",
       "<style scoped>\n",
       "    .dataframe tbody tr th:only-of-type {\n",
       "        vertical-align: middle;\n",
       "    }\n",
       "\n",
       "    .dataframe tbody tr th {\n",
       "        vertical-align: top;\n",
       "    }\n",
       "\n",
       "    .dataframe thead th {\n",
       "        text-align: right;\n",
       "    }\n",
       "</style>\n",
       "<table border=\"1\" class=\"dataframe\">\n",
       "  <thead>\n",
       "    <tr style=\"text-align: right;\">\n",
       "      <th></th>\n",
       "      <th>order_id</th>\n",
       "      <th>user_id</th>\n",
       "      <th>product_name</th>\n",
       "    </tr>\n",
       "  </thead>\n",
       "  <tbody>\n",
       "    <tr>\n",
       "      <th>0</th>\n",
       "      <td>1483</td>\n",
       "      <td>90</td>\n",
       "      <td>Organic Pink Lemonade Bunny Fruit Snacks</td>\n",
       "    </tr>\n",
       "    <tr>\n",
       "      <th>1</th>\n",
       "      <td>1483</td>\n",
       "      <td>90</td>\n",
       "      <td>Dark Chocolate Minis</td>\n",
       "    </tr>\n",
       "    <tr>\n",
       "      <th>2</th>\n",
       "      <td>1483</td>\n",
       "      <td>90</td>\n",
       "      <td>Sparkling Water, Natural Mango Essenced</td>\n",
       "    </tr>\n",
       "    <tr>\n",
       "      <th>3</th>\n",
       "      <td>1483</td>\n",
       "      <td>90</td>\n",
       "      <td>Peach-Pear Sparkling Water</td>\n",
       "    </tr>\n",
       "    <tr>\n",
       "      <th>4</th>\n",
       "      <td>1483</td>\n",
       "      <td>90</td>\n",
       "      <td>Organic Heritage Flakes Cereal</td>\n",
       "    </tr>\n",
       "  </tbody>\n",
       "</table>\n",
       "</div>"
      ],
      "text/plain": [
       "   order_id  user_id                              product_name\n",
       "0      1483       90  Organic Pink Lemonade Bunny Fruit Snacks\n",
       "1      1483       90                      Dark Chocolate Minis\n",
       "2      1483       90   Sparkling Water, Natural Mango Essenced\n",
       "3      1483       90                Peach-Pear Sparkling Water\n",
       "4      1483       90            Organic Heritage Flakes Cereal"
      ]
     },
     "execution_count": 49,
     "metadata": {},
     "output_type": "execute_result"
    }
   ],
   "source": [
    "trainarules.head()"
   ]
  },
  {
   "cell_type": "code",
   "execution_count": 50,
   "metadata": {},
   "outputs": [],
   "source": [
    "#df = trainarules['product_name']]"
   ]
  },
  {
   "cell_type": "code",
   "execution_count": 51,
   "metadata": {},
   "outputs": [],
   "source": [
    "df = trainarules.groupby(by=\"order_id\").product_name.apply(list).reset_index()#.rename(columns={\"product_name\":\"product_name\"})"
   ]
  },
  {
   "cell_type": "code",
   "execution_count": 52,
   "metadata": {},
   "outputs": [
    {
     "data": {
      "text/html": [
       "<div>\n",
       "<style scoped>\n",
       "    .dataframe tbody tr th:only-of-type {\n",
       "        vertical-align: middle;\n",
       "    }\n",
       "\n",
       "    .dataframe tbody tr th {\n",
       "        vertical-align: top;\n",
       "    }\n",
       "\n",
       "    .dataframe thead th {\n",
       "        text-align: right;\n",
       "    }\n",
       "</style>\n",
       "<table border=\"1\" class=\"dataframe\">\n",
       "  <thead>\n",
       "    <tr style=\"text-align: right;\">\n",
       "      <th></th>\n",
       "      <th>order_id</th>\n",
       "      <th>product_name</th>\n",
       "    </tr>\n",
       "  </thead>\n",
       "  <tbody>\n",
       "    <tr>\n",
       "      <th>0</th>\n",
       "      <td>1483</td>\n",
       "      <td>[Organic Pink Lemonade Bunny Fruit Snacks, Dar...</td>\n",
       "    </tr>\n",
       "    <tr>\n",
       "      <th>1</th>\n",
       "      <td>4595</td>\n",
       "      <td>[Creme De Menthe Thins, Milk Chocolate English...</td>\n",
       "    </tr>\n",
       "    <tr>\n",
       "      <th>2</th>\n",
       "      <td>7099</td>\n",
       "      <td>[Revive Zero Vitamin Water, VitaminWater Zero™...</td>\n",
       "    </tr>\n",
       "    <tr>\n",
       "      <th>3</th>\n",
       "      <td>8382</td>\n",
       "      <td>[Mountain Spring Water, Clementines, Bag, Pine...</td>\n",
       "    </tr>\n",
       "    <tr>\n",
       "      <th>4</th>\n",
       "      <td>14400</td>\n",
       "      <td>[Truffle, Sea Salt, Black Truffle, 1500 Pale Ale]</td>\n",
       "    </tr>\n",
       "  </tbody>\n",
       "</table>\n",
       "</div>"
      ],
      "text/plain": [
       "   order_id                                       product_name\n",
       "0      1483  [Organic Pink Lemonade Bunny Fruit Snacks, Dar...\n",
       "1      4595  [Creme De Menthe Thins, Milk Chocolate English...\n",
       "2      7099  [Revive Zero Vitamin Water, VitaminWater Zero™...\n",
       "3      8382  [Mountain Spring Water, Clementines, Bag, Pine...\n",
       "4     14400  [Truffle, Sea Salt, Black Truffle, 1500 Pale Ale]"
      ]
     },
     "execution_count": 52,
     "metadata": {},
     "output_type": "execute_result"
    }
   ],
   "source": [
    "df.head()"
   ]
  },
  {
   "cell_type": "code",
   "execution_count": 62,
   "metadata": {},
   "outputs": [
    {
     "data": {
      "text/plain": [
       "(1418, 2)"
      ]
     },
     "execution_count": 62,
     "metadata": {},
     "output_type": "execute_result"
    }
   ],
   "source": [
    "df.shape"
   ]
  },
  {
   "cell_type": "code",
   "execution_count": 69,
   "metadata": {},
   "outputs": [
    {
     "data": {
      "text/plain": [
       "['Organic Pink Lemonade Bunny Fruit Snacks',\n",
       " 'Dark Chocolate Minis',\n",
       " 'Sparkling Water, Natural Mango Essenced',\n",
       " 'Peach-Pear Sparkling Water',\n",
       " 'Organic Heritage Flakes Cereal',\n",
       " 'Popped Salted Caramel Granola Bars',\n",
       " 'Healthy Grains Granola Bar, Vanilla Blueberry',\n",
       " 'Flax Plus Organic Pumpkin Flax Granola',\n",
       " 'Sweet & Salty Nut Almond Granola Bars',\n",
       " 'Cool Mint Chocolate Energy Bar',\n",
       " 'Chocolate Chip Energy Bars',\n",
       " 'Trail Mix Fruit & Nut Chewy Granola Bars']"
      ]
     },
     "execution_count": 69,
     "metadata": {},
     "output_type": "execute_result"
    }
   ],
   "source": [
    "df.product_name[0]"
   ]
  },
  {
   "cell_type": "code",
   "execution_count": 72,
   "metadata": {},
   "outputs": [],
   "source": [
    "arr = np.array(df.product_name)"
   ]
  },
  {
   "cell_type": "code",
   "execution_count": 76,
   "metadata": {},
   "outputs": [
    {
     "data": {
      "text/plain": [
       "['Organic Pink Lemonade Bunny Fruit Snacks',\n",
       " 'Dark Chocolate Minis',\n",
       " 'Sparkling Water, Natural Mango Essenced',\n",
       " 'Peach-Pear Sparkling Water',\n",
       " 'Organic Heritage Flakes Cereal',\n",
       " 'Popped Salted Caramel Granola Bars',\n",
       " 'Healthy Grains Granola Bar, Vanilla Blueberry',\n",
       " 'Flax Plus Organic Pumpkin Flax Granola',\n",
       " 'Sweet & Salty Nut Almond Granola Bars',\n",
       " 'Cool Mint Chocolate Energy Bar',\n",
       " 'Chocolate Chip Energy Bars',\n",
       " 'Trail Mix Fruit & Nut Chewy Granola Bars']"
      ]
     },
     "execution_count": 76,
     "metadata": {},
     "output_type": "execute_result"
    }
   ],
   "source": [
    "arr[0]"
   ]
  },
  {
   "cell_type": "code",
   "execution_count": 77,
   "metadata": {},
   "outputs": [
    {
     "data": {
      "text/plain": [
       "['Creme De Menthe Thins',\n",
       " 'Milk Chocolate English Toffee Miniatures Candy Bars',\n",
       " \"Baker's Pure Cane Ultrafine Sugar\",\n",
       " 'Plain Bagels',\n",
       " 'Cinnamon Bread']"
      ]
     },
     "execution_count": 77,
     "metadata": {},
     "output_type": "execute_result"
    }
   ],
   "source": [
    "arr[1]"
   ]
  },
  {
   "cell_type": "code",
   "execution_count": 78,
   "metadata": {},
   "outputs": [
    {
     "data": {
      "text/plain": [
       "['Revive Zero Vitamin Water',\n",
       " 'VitaminWater Zero™ XXX Acai Blueberry Pomegranate',\n",
       " 'Vitamin Water Zero Rise Orange',\n",
       " 'Energy Tropical Citrus Vitamin Water Drink',\n",
       " 'Zero Vitamin Water',\n",
       " 'Vitamin Water Zero Squeezed Lemonade',\n",
       " 'Total 2% Lowfat Greek Strained Yogurt with Peach',\n",
       " 'Total 2% with Strawberry Lowfat Greek Strained Yogurt',\n",
       " 'Total 0% Nonfat Greek Yogurt',\n",
       " 'Total 0% Raspberry Yogurt',\n",
       " 'Natural Artesian Water',\n",
       " 'Original Turkey Jerky',\n",
       " 'Teriyaki Turkey Jerky']"
      ]
     },
     "execution_count": 78,
     "metadata": {},
     "output_type": "execute_result"
    }
   ],
   "source": [
    "arr[2]"
   ]
  },
  {
   "cell_type": "code",
   "execution_count": 79,
   "metadata": {},
   "outputs": [
    {
     "data": {
      "text/plain": [
       "['Mountain Spring Water',\n",
       " 'Clementines, Bag',\n",
       " 'Pineapple on the Bottom Greek Yogurt',\n",
       " 'Pomegranate on the Bottom Non-Fat Greek Yogurt',\n",
       " 'Original French Vanilla Yogurt',\n",
       " 'Original Lowfat Lemon Burst Yogurt',\n",
       " 'Jet-Dry Original Rinse Aid',\n",
       " 'Jumbo Cotton Balls',\n",
       " 'Hearty Grains 100% Whole Wheat English Muffins']"
      ]
     },
     "execution_count": 79,
     "metadata": {},
     "output_type": "execute_result"
    }
   ],
   "source": [
    "arr[3]"
   ]
  },
  {
   "cell_type": "code",
   "execution_count": 80,
   "metadata": {},
   "outputs": [
    {
     "data": {
      "text/plain": [
       "['Organic Graham Crunch Cereal',\n",
       " 'Organic Pink Lemonade Bunny Fruit Snacks',\n",
       " 'Peach-Pear Sparkling Water',\n",
       " 'Crunchy Coconut Granola Bars',\n",
       " 'Dark Chocolate Minis',\n",
       " 'Sparkling Water, Natural Mango Essenced',\n",
       " 'Flax Plus Organic Pumpkin Flax Granola',\n",
       " 'Dark & Mint Filled Chocolate Squares',\n",
       " 'Maple Pumpkin Seeds with Sea Salt Chewy with a Crunch Granola Bars',\n",
       " 'Oats & Honey Gluten Free Granola',\n",
       " 'Sweet & Salty Nut Almond Granola Bars',\n",
       " 'Organic Heritage Flakes Cereal',\n",
       " \"Crunchy Oats N' Honey Granola Bars\",\n",
       " 'Trail Mix Fruit & Nut Chewy Granola Bars',\n",
       " 'Whole Vitamin D Milk']"
      ]
     },
     "execution_count": 80,
     "metadata": {},
     "output_type": "execute_result"
    }
   ],
   "source": [
    "arr[100]"
   ]
  },
  {
   "cell_type": "code",
   "execution_count": 74,
   "metadata": {},
   "outputs": [],
   "source": [
    "association_rules = apriori(arr, min_support=0.10, min_confidence=0.2, min_lift=3, min_length=2)\n",
    "association_results = list(association_rules)"
   ]
  },
  {
   "cell_type": "code",
   "execution_count": 75,
   "metadata": {},
   "outputs": [
    {
     "data": {
      "text/plain": [
       "[]"
      ]
     },
     "execution_count": 75,
     "metadata": {},
     "output_type": "execute_result"
    }
   ],
   "source": [
    "association_results"
   ]
  },
  {
   "cell_type": "code",
   "execution_count": null,
   "metadata": {},
   "outputs": [],
   "source": []
  }
 ],
 "metadata": {
  "interpreter": {
   "hash": "38eed5c50e0a3327633343bf39af9b5ec442f97ac8dea3717efb1c3acd79de73"
  },
  "kernelspec": {
   "display_name": "Python 3",
   "language": "python",
   "name": "python3"
  },
  "language_info": {
   "codemirror_mode": {
    "name": "ipython",
    "version": 3
   },
   "file_extension": ".py",
   "mimetype": "text/x-python",
   "name": "python",
   "nbconvert_exporter": "python",
   "pygments_lexer": "ipython3",
   "version": "3.9.9"
  }
 },
 "nbformat": 4,
 "nbformat_minor": 2
}
