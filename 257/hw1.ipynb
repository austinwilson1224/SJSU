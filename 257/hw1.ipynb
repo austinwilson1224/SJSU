{
 "cells": [
  {
   "cell_type": "code",
   "execution_count": 117,
   "metadata": {},
   "outputs": [
    {
     "name": "stdout",
     "output_type": "stream",
     "text": [
      "TensorFlow version: 2.8.0\n"
     ]
    }
   ],
   "source": [
    "import pandas as pd \n",
    "from sklearn.cluster import KMeans, MeanShift\n",
    "from sklearn.mixture import GaussianMixture\n",
    "%matplotlib inline\n",
    "import matplotlib.pyplot as plt\n",
    "import seaborn as sns; sns.set()  # for plot styling\n",
    "import numpy as np\n",
    "from sklearn.model_selection import train_test_split\n",
    "from sklearn.metrics import mean_squared_error\n",
    "import tensorflow as tf\n",
    "print(\"TensorFlow version:\", tf.__version__)"
   ]
  },
  {
   "cell_type": "code",
   "execution_count": 151,
   "metadata": {},
   "outputs": [],
   "source": [
    "df = pd.read_csv(\"data/cod.csv\").dropna()"
   ]
  },
  {
   "cell_type": "code",
   "execution_count": 119,
   "metadata": {},
   "outputs": [
    {
     "data": {
      "text/html": [
       "<div>\n",
       "<style scoped>\n",
       "    .dataframe tbody tr th:only-of-type {\n",
       "        vertical-align: middle;\n",
       "    }\n",
       "\n",
       "    .dataframe tbody tr th {\n",
       "        vertical-align: top;\n",
       "    }\n",
       "\n",
       "    .dataframe thead th {\n",
       "        text-align: right;\n",
       "    }\n",
       "</style>\n",
       "<table border=\"1\" class=\"dataframe\">\n",
       "  <thead>\n",
       "    <tr style=\"text-align: right;\">\n",
       "      <th></th>\n",
       "      <th>name</th>\n",
       "      <th>wins</th>\n",
       "      <th>kills</th>\n",
       "      <th>kdRatio</th>\n",
       "      <th>killstreak</th>\n",
       "      <th>level</th>\n",
       "      <th>losses</th>\n",
       "      <th>prestige</th>\n",
       "      <th>hits</th>\n",
       "      <th>timePlayed</th>\n",
       "      <th>headshots</th>\n",
       "      <th>averageTime</th>\n",
       "      <th>gamesPlayed</th>\n",
       "      <th>assists</th>\n",
       "      <th>misses</th>\n",
       "      <th>xp</th>\n",
       "      <th>scorePerMinute</th>\n",
       "      <th>shots</th>\n",
       "      <th>deaths</th>\n",
       "    </tr>\n",
       "  </thead>\n",
       "  <tbody>\n",
       "    <tr>\n",
       "      <th>0</th>\n",
       "      <td>RggRt45#4697369</td>\n",
       "      <td>0</td>\n",
       "      <td>0</td>\n",
       "      <td>0.000000</td>\n",
       "      <td>0</td>\n",
       "      <td>1</td>\n",
       "      <td>0</td>\n",
       "      <td>0</td>\n",
       "      <td>0</td>\n",
       "      <td>0</td>\n",
       "      <td>0</td>\n",
       "      <td>0.000000</td>\n",
       "      <td>0</td>\n",
       "      <td>0</td>\n",
       "      <td>0</td>\n",
       "      <td>0</td>\n",
       "      <td>0.000000</td>\n",
       "      <td>0</td>\n",
       "      <td>0</td>\n",
       "    </tr>\n",
       "    <tr>\n",
       "      <th>1</th>\n",
       "      <td>JohniceRex#9176033</td>\n",
       "      <td>0</td>\n",
       "      <td>0</td>\n",
       "      <td>0.000000</td>\n",
       "      <td>0</td>\n",
       "      <td>1</td>\n",
       "      <td>0</td>\n",
       "      <td>110</td>\n",
       "      <td>0</td>\n",
       "      <td>7</td>\n",
       "      <td>0</td>\n",
       "      <td>7.000000</td>\n",
       "      <td>0</td>\n",
       "      <td>0</td>\n",
       "      <td>0</td>\n",
       "      <td>700</td>\n",
       "      <td>0.000000</td>\n",
       "      <td>0</td>\n",
       "      <td>16</td>\n",
       "    </tr>\n",
       "    <tr>\n",
       "      <th>2</th>\n",
       "      <td>bootybootykill#1892064</td>\n",
       "      <td>0</td>\n",
       "      <td>66</td>\n",
       "      <td>1.031250</td>\n",
       "      <td>0</td>\n",
       "      <td>9</td>\n",
       "      <td>0</td>\n",
       "      <td>110</td>\n",
       "      <td>0</td>\n",
       "      <td>32</td>\n",
       "      <td>16</td>\n",
       "      <td>32.000000</td>\n",
       "      <td>0</td>\n",
       "      <td>1</td>\n",
       "      <td>0</td>\n",
       "      <td>48300</td>\n",
       "      <td>0.000000</td>\n",
       "      <td>0</td>\n",
       "      <td>64</td>\n",
       "    </tr>\n",
       "    <tr>\n",
       "      <th>3</th>\n",
       "      <td>JNaCo#5244172</td>\n",
       "      <td>3</td>\n",
       "      <td>2</td>\n",
       "      <td>0.400000</td>\n",
       "      <td>0</td>\n",
       "      <td>1</td>\n",
       "      <td>0</td>\n",
       "      <td>0</td>\n",
       "      <td>0</td>\n",
       "      <td>3</td>\n",
       "      <td>0</td>\n",
       "      <td>3.000000</td>\n",
       "      <td>0</td>\n",
       "      <td>0</td>\n",
       "      <td>0</td>\n",
       "      <td>1150</td>\n",
       "      <td>0.000000</td>\n",
       "      <td>0</td>\n",
       "      <td>5</td>\n",
       "    </tr>\n",
       "    <tr>\n",
       "      <th>4</th>\n",
       "      <td>gomezyayo_007#6596687</td>\n",
       "      <td>0</td>\n",
       "      <td>2</td>\n",
       "      <td>0.200000</td>\n",
       "      <td>0</td>\n",
       "      <td>1</td>\n",
       "      <td>0</td>\n",
       "      <td>110</td>\n",
       "      <td>0</td>\n",
       "      <td>5</td>\n",
       "      <td>1</td>\n",
       "      <td>5.000000</td>\n",
       "      <td>0</td>\n",
       "      <td>0</td>\n",
       "      <td>0</td>\n",
       "      <td>1000</td>\n",
       "      <td>0.000000</td>\n",
       "      <td>0</td>\n",
       "      <td>10</td>\n",
       "    </tr>\n",
       "    <tr>\n",
       "      <th>5</th>\n",
       "      <td>Brxndoon7-LK#4002715</td>\n",
       "      <td>684</td>\n",
       "      <td>27011</td>\n",
       "      <td>1.066743</td>\n",
       "      <td>18</td>\n",
       "      <td>177</td>\n",
       "      <td>10</td>\n",
       "      <td>110</td>\n",
       "      <td>98332</td>\n",
       "      <td>1366</td>\n",
       "      <td>5113</td>\n",
       "      <td>2.323129</td>\n",
       "      <td>588</td>\n",
       "      <td>6063</td>\n",
       "      <td>305319</td>\n",
       "      <td>3932335</td>\n",
       "      <td>255.672035</td>\n",
       "      <td>403651</td>\n",
       "      <td>25321</td>\n",
       "    </tr>\n",
       "    <tr>\n",
       "      <th>6</th>\n",
       "      <td>bdooory_ab#7095171</td>\n",
       "      <td>4</td>\n",
       "      <td>162</td>\n",
       "      <td>0.632812</td>\n",
       "      <td>4</td>\n",
       "      <td>6</td>\n",
       "      <td>2</td>\n",
       "      <td>0</td>\n",
       "      <td>568</td>\n",
       "      <td>8</td>\n",
       "      <td>35</td>\n",
       "      <td>2.000000</td>\n",
       "      <td>4</td>\n",
       "      <td>68</td>\n",
       "      <td>4836</td>\n",
       "      <td>24485</td>\n",
       "      <td>265.500000</td>\n",
       "      <td>5404</td>\n",
       "      <td>256</td>\n",
       "    </tr>\n",
       "    <tr>\n",
       "      <th>7</th>\n",
       "      <td>ahevepluto#3505304</td>\n",
       "      <td>186</td>\n",
       "      <td>1898</td>\n",
       "      <td>0.569628</td>\n",
       "      <td>13</td>\n",
       "      <td>37</td>\n",
       "      <td>7</td>\n",
       "      <td>2</td>\n",
       "      <td>5111</td>\n",
       "      <td>550</td>\n",
       "      <td>485</td>\n",
       "      <td>3.666667</td>\n",
       "      <td>150</td>\n",
       "      <td>488</td>\n",
       "      <td>39978</td>\n",
       "      <td>458269</td>\n",
       "      <td>180.379636</td>\n",
       "      <td>45089</td>\n",
       "      <td>3332</td>\n",
       "    </tr>\n",
       "    <tr>\n",
       "      <th>8</th>\n",
       "      <td>MilkyLemonz-_-#5981249</td>\n",
       "      <td>741</td>\n",
       "      <td>21803</td>\n",
       "      <td>1.036658</td>\n",
       "      <td>26</td>\n",
       "      <td>185</td>\n",
       "      <td>29</td>\n",
       "      <td>111</td>\n",
       "      <td>81361</td>\n",
       "      <td>2442</td>\n",
       "      <td>3894</td>\n",
       "      <td>2.826389</td>\n",
       "      <td>864</td>\n",
       "      <td>4029</td>\n",
       "      <td>327230</td>\n",
       "      <td>4269370</td>\n",
       "      <td>198.844226</td>\n",
       "      <td>408591</td>\n",
       "      <td>21032</td>\n",
       "    </tr>\n",
       "    <tr>\n",
       "      <th>9</th>\n",
       "      <td>RPDUNKduo#8122914</td>\n",
       "      <td>26</td>\n",
       "      <td>349</td>\n",
       "      <td>0.444020</td>\n",
       "      <td>7</td>\n",
       "      <td>12</td>\n",
       "      <td>4</td>\n",
       "      <td>0</td>\n",
       "      <td>996</td>\n",
       "      <td>44</td>\n",
       "      <td>40</td>\n",
       "      <td>2.933333</td>\n",
       "      <td>15</td>\n",
       "      <td>138</td>\n",
       "      <td>4844</td>\n",
       "      <td>72765</td>\n",
       "      <td>253.677273</td>\n",
       "      <td>5840</td>\n",
       "      <td>786</td>\n",
       "    </tr>\n",
       "    <tr>\n",
       "      <th>10</th>\n",
       "      <td>BOBOQQ3#7928912</td>\n",
       "      <td>0</td>\n",
       "      <td>0</td>\n",
       "      <td>0.000000</td>\n",
       "      <td>0</td>\n",
       "      <td>1</td>\n",
       "      <td>0</td>\n",
       "      <td>0</td>\n",
       "      <td>0</td>\n",
       "      <td>0</td>\n",
       "      <td>0</td>\n",
       "      <td>0.000000</td>\n",
       "      <td>0</td>\n",
       "      <td>0</td>\n",
       "      <td>0</td>\n",
       "      <td>0</td>\n",
       "      <td>0.000000</td>\n",
       "      <td>0</td>\n",
       "      <td>0</td>\n",
       "    </tr>\n",
       "    <tr>\n",
       "      <th>11</th>\n",
       "      <td>Rachetevolution</td>\n",
       "      <td>0</td>\n",
       "      <td>26</td>\n",
       "      <td>0.337662</td>\n",
       "      <td>0</td>\n",
       "      <td>6</td>\n",
       "      <td>0</td>\n",
       "      <td>110</td>\n",
       "      <td>0</td>\n",
       "      <td>37</td>\n",
       "      <td>3</td>\n",
       "      <td>37.000000</td>\n",
       "      <td>0</td>\n",
       "      <td>4</td>\n",
       "      <td>0</td>\n",
       "      <td>25108</td>\n",
       "      <td>0.000000</td>\n",
       "      <td>0</td>\n",
       "      <td>77</td>\n",
       "    </tr>\n",
       "    <tr>\n",
       "      <th>12</th>\n",
       "      <td>CzarnyDelfinek#9059572</td>\n",
       "      <td>188</td>\n",
       "      <td>1949</td>\n",
       "      <td>1.495779</td>\n",
       "      <td>22</td>\n",
       "      <td>53</td>\n",
       "      <td>4</td>\n",
       "      <td>57</td>\n",
       "      <td>3333</td>\n",
       "      <td>409</td>\n",
       "      <td>536</td>\n",
       "      <td>16.360000</td>\n",
       "      <td>25</td>\n",
       "      <td>150</td>\n",
       "      <td>10511</td>\n",
       "      <td>909543</td>\n",
       "      <td>38.630318</td>\n",
       "      <td>13844</td>\n",
       "      <td>1303</td>\n",
       "    </tr>\n",
       "    <tr>\n",
       "      <th>13</th>\n",
       "      <td>Damian291207#7986887</td>\n",
       "      <td>0</td>\n",
       "      <td>0</td>\n",
       "      <td>0.000000</td>\n",
       "      <td>0</td>\n",
       "      <td>1</td>\n",
       "      <td>0</td>\n",
       "      <td>0</td>\n",
       "      <td>0</td>\n",
       "      <td>1</td>\n",
       "      <td>0</td>\n",
       "      <td>1.000000</td>\n",
       "      <td>0</td>\n",
       "      <td>0</td>\n",
       "      <td>0</td>\n",
       "      <td>200</td>\n",
       "      <td>0.000000</td>\n",
       "      <td>0</td>\n",
       "      <td>1</td>\n",
       "    </tr>\n",
       "    <tr>\n",
       "      <th>14</th>\n",
       "      <td>SanDrasoSa</td>\n",
       "      <td>15</td>\n",
       "      <td>132</td>\n",
       "      <td>0.631579</td>\n",
       "      <td>7</td>\n",
       "      <td>5</td>\n",
       "      <td>4</td>\n",
       "      <td>0</td>\n",
       "      <td>549</td>\n",
       "      <td>21</td>\n",
       "      <td>25</td>\n",
       "      <td>3.500000</td>\n",
       "      <td>6</td>\n",
       "      <td>31</td>\n",
       "      <td>3153</td>\n",
       "      <td>18430</td>\n",
       "      <td>199.742857</td>\n",
       "      <td>3702</td>\n",
       "      <td>209</td>\n",
       "    </tr>\n",
       "    <tr>\n",
       "      <th>15</th>\n",
       "      <td>DrunkUnc92#7705654</td>\n",
       "      <td>207</td>\n",
       "      <td>3452</td>\n",
       "      <td>0.697797</td>\n",
       "      <td>10</td>\n",
       "      <td>40</td>\n",
       "      <td>9</td>\n",
       "      <td>110</td>\n",
       "      <td>16134</td>\n",
       "      <td>378</td>\n",
       "      <td>535</td>\n",
       "      <td>2.930233</td>\n",
       "      <td>129</td>\n",
       "      <td>811</td>\n",
       "      <td>104881</td>\n",
       "      <td>530615</td>\n",
       "      <td>266.014286</td>\n",
       "      <td>121015</td>\n",
       "      <td>4947</td>\n",
       "    </tr>\n",
       "    <tr>\n",
       "      <th>16</th>\n",
       "      <td>whoshotghost#1916366</td>\n",
       "      <td>106</td>\n",
       "      <td>3284</td>\n",
       "      <td>0.946125</td>\n",
       "      <td>17</td>\n",
       "      <td>41</td>\n",
       "      <td>11</td>\n",
       "      <td>12</td>\n",
       "      <td>11772</td>\n",
       "      <td>255</td>\n",
       "      <td>501</td>\n",
       "      <td>1.992188</td>\n",
       "      <td>128</td>\n",
       "      <td>532</td>\n",
       "      <td>49715</td>\n",
       "      <td>543830</td>\n",
       "      <td>278.644706</td>\n",
       "      <td>61487</td>\n",
       "      <td>3471</td>\n",
       "    </tr>\n",
       "    <tr>\n",
       "      <th>17</th>\n",
       "      <td>Nsory_1#5583298</td>\n",
       "      <td>1592</td>\n",
       "      <td>15033</td>\n",
       "      <td>0.780327</td>\n",
       "      <td>17</td>\n",
       "      <td>156</td>\n",
       "      <td>13</td>\n",
       "      <td>111</td>\n",
       "      <td>49680</td>\n",
       "      <td>3247</td>\n",
       "      <td>2367</td>\n",
       "      <td>3.054563</td>\n",
       "      <td>1063</td>\n",
       "      <td>2099</td>\n",
       "      <td>247686</td>\n",
       "      <td>3018769</td>\n",
       "      <td>230.430305</td>\n",
       "      <td>297366</td>\n",
       "      <td>19265</td>\n",
       "    </tr>\n",
       "    <tr>\n",
       "      <th>18</th>\n",
       "      <td>LimpThaDon</td>\n",
       "      <td>190</td>\n",
       "      <td>3033</td>\n",
       "      <td>1.009990</td>\n",
       "      <td>13</td>\n",
       "      <td>37</td>\n",
       "      <td>8</td>\n",
       "      <td>110</td>\n",
       "      <td>9846</td>\n",
       "      <td>421</td>\n",
       "      <td>489</td>\n",
       "      <td>2.520958</td>\n",
       "      <td>167</td>\n",
       "      <td>583</td>\n",
       "      <td>42460</td>\n",
       "      <td>458078</td>\n",
       "      <td>152.730641</td>\n",
       "      <td>52306</td>\n",
       "      <td>3003</td>\n",
       "    </tr>\n",
       "    <tr>\n",
       "      <th>19</th>\n",
       "      <td>DeGiove#5248918</td>\n",
       "      <td>605</td>\n",
       "      <td>7764</td>\n",
       "      <td>0.853281</td>\n",
       "      <td>14</td>\n",
       "      <td>63</td>\n",
       "      <td>8</td>\n",
       "      <td>111</td>\n",
       "      <td>32602</td>\n",
       "      <td>1153</td>\n",
       "      <td>1549</td>\n",
       "      <td>2.638444</td>\n",
       "      <td>437</td>\n",
       "      <td>1106</td>\n",
       "      <td>125227</td>\n",
       "      <td>1050069</td>\n",
       "      <td>281.435906</td>\n",
       "      <td>157829</td>\n",
       "      <td>9099</td>\n",
       "    </tr>\n",
       "  </tbody>\n",
       "</table>\n",
       "</div>"
      ],
      "text/plain": [
       "                      name  wins  kills   kdRatio  killstreak  level  losses  \\\n",
       "0          RggRt45#4697369     0      0  0.000000           0      1       0   \n",
       "1       JohniceRex#9176033     0      0  0.000000           0      1       0   \n",
       "2   bootybootykill#1892064     0     66  1.031250           0      9       0   \n",
       "3            JNaCo#5244172     3      2  0.400000           0      1       0   \n",
       "4    gomezyayo_007#6596687     0      2  0.200000           0      1       0   \n",
       "5     Brxndoon7-LK#4002715   684  27011  1.066743          18    177      10   \n",
       "6       bdooory_ab#7095171     4    162  0.632812           4      6       2   \n",
       "7       ahevepluto#3505304   186   1898  0.569628          13     37       7   \n",
       "8   MilkyLemonz-_-#5981249   741  21803  1.036658          26    185      29   \n",
       "9        RPDUNKduo#8122914    26    349  0.444020           7     12       4   \n",
       "10         BOBOQQ3#7928912     0      0  0.000000           0      1       0   \n",
       "11         Rachetevolution     0     26  0.337662           0      6       0   \n",
       "12  CzarnyDelfinek#9059572   188   1949  1.495779          22     53       4   \n",
       "13    Damian291207#7986887     0      0  0.000000           0      1       0   \n",
       "14              SanDrasoSa    15    132  0.631579           7      5       4   \n",
       "15      DrunkUnc92#7705654   207   3452  0.697797          10     40       9   \n",
       "16    whoshotghost#1916366   106   3284  0.946125          17     41      11   \n",
       "17         Nsory_1#5583298  1592  15033  0.780327          17    156      13   \n",
       "18              LimpThaDon   190   3033  1.009990          13     37       8   \n",
       "19         DeGiove#5248918   605   7764  0.853281          14     63       8   \n",
       "\n",
       "    prestige   hits  timePlayed  headshots  averageTime  gamesPlayed  assists  \\\n",
       "0          0      0           0          0     0.000000            0        0   \n",
       "1        110      0           7          0     7.000000            0        0   \n",
       "2        110      0          32         16    32.000000            0        1   \n",
       "3          0      0           3          0     3.000000            0        0   \n",
       "4        110      0           5          1     5.000000            0        0   \n",
       "5        110  98332        1366       5113     2.323129          588     6063   \n",
       "6          0    568           8         35     2.000000            4       68   \n",
       "7          2   5111         550        485     3.666667          150      488   \n",
       "8        111  81361        2442       3894     2.826389          864     4029   \n",
       "9          0    996          44         40     2.933333           15      138   \n",
       "10         0      0           0          0     0.000000            0        0   \n",
       "11       110      0          37          3    37.000000            0        4   \n",
       "12        57   3333         409        536    16.360000           25      150   \n",
       "13         0      0           1          0     1.000000            0        0   \n",
       "14         0    549          21         25     3.500000            6       31   \n",
       "15       110  16134         378        535     2.930233          129      811   \n",
       "16        12  11772         255        501     1.992188          128      532   \n",
       "17       111  49680        3247       2367     3.054563         1063     2099   \n",
       "18       110   9846         421        489     2.520958          167      583   \n",
       "19       111  32602        1153       1549     2.638444          437     1106   \n",
       "\n",
       "    misses       xp  scorePerMinute   shots  deaths  \n",
       "0        0        0        0.000000       0       0  \n",
       "1        0      700        0.000000       0      16  \n",
       "2        0    48300        0.000000       0      64  \n",
       "3        0     1150        0.000000       0       5  \n",
       "4        0     1000        0.000000       0      10  \n",
       "5   305319  3932335      255.672035  403651   25321  \n",
       "6     4836    24485      265.500000    5404     256  \n",
       "7    39978   458269      180.379636   45089    3332  \n",
       "8   327230  4269370      198.844226  408591   21032  \n",
       "9     4844    72765      253.677273    5840     786  \n",
       "10       0        0        0.000000       0       0  \n",
       "11       0    25108        0.000000       0      77  \n",
       "12   10511   909543       38.630318   13844    1303  \n",
       "13       0      200        0.000000       0       1  \n",
       "14    3153    18430      199.742857    3702     209  \n",
       "15  104881   530615      266.014286  121015    4947  \n",
       "16   49715   543830      278.644706   61487    3471  \n",
       "17  247686  3018769      230.430305  297366   19265  \n",
       "18   42460   458078      152.730641   52306    3003  \n",
       "19  125227  1050069      281.435906  157829    9099  "
      ]
     },
     "execution_count": 119,
     "metadata": {},
     "output_type": "execute_result"
    }
   ],
   "source": [
    "df.head(20)"
   ]
  },
  {
   "cell_type": "code",
   "execution_count": 152,
   "metadata": {},
   "outputs": [],
   "source": [
    "# only want records of actual play\n",
    "df = df[(df.shots > 0) & (df.hits > 0) & (df.kdRatio > 0) & (df.misses > 0)]"
   ]
  },
  {
   "cell_type": "code",
   "execution_count": 149,
   "metadata": {},
   "outputs": [
    {
     "data": {
      "text/plain": [
       "(943, 20)"
      ]
     },
     "execution_count": 149,
     "metadata": {},
     "output_type": "execute_result"
    }
   ],
   "source": [
    "df.shape"
   ]
  },
  {
   "cell_type": "code",
   "execution_count": 154,
   "metadata": {},
   "outputs": [],
   "source": [
    "df['accuracy'] = df.shots / df.hits"
   ]
  },
  {
   "cell_type": "code",
   "execution_count": 153,
   "metadata": {},
   "outputs": [],
   "source": [
    "df['accuracy2'] = df.hits / (df.hits + df.shots)"
   ]
  },
  {
   "cell_type": "code",
   "execution_count": 155,
   "metadata": {},
   "outputs": [],
   "source": [
    "df_demo = df[['accuracy', 'accuracy2', 'kdRatio']]"
   ]
  },
  {
   "cell_type": "code",
   "execution_count": 137,
   "metadata": {},
   "outputs": [
    {
     "data": {
      "text/plain": [
       "Text(0, 0.5, 'kd')"
      ]
     },
     "execution_count": 137,
     "metadata": {},
     "output_type": "execute_result"
    },
    {
     "data": {
      "image/png": "[encoded data removed]",
      "text/plain": [
       "<Figure size 432x288 with 1 Axes>"
      ]
     },
     "metadata": {},
     "output_type": "display_data"
    }
   ],
   "source": [
    "plt.scatter(df_demo.accuracy, df_demo.kdRatio)\n",
    "plt.xlabel(\"accuracy\")\n",
    "plt.ylabel(\"kd\")"
   ]
  },
  {
   "cell_type": "code",
   "execution_count": 156,
   "metadata": {},
   "outputs": [
    {
     "data": {
      "text/plain": [
       "Text(0, 0.5, 'kd')"
      ]
     },
     "execution_count": 156,
     "metadata": {},
     "output_type": "execute_result"
    },
    {
     "data": {
      "image/png": "[encoded data removed]",
      "text/plain": [
       "<Figure size 432x288 with 1 Axes>"
      ]
     },
     "metadata": {},
     "output_type": "display_data"
    }
   ],
   "source": [
    "plt.scatter(df_demo.accuracy2, df_demo.kdRatio)\n",
    "plt.xlabel(\"accuracy2\")\n",
    "plt.ylabel(\"kd\")"
   ]
  },
  {
   "cell_type": "code",
   "execution_count": 147,
   "metadata": {},
   "outputs": [
    {
     "data": {
      "text/plain": [
       "(array([ 24.,  49.,  82., 148., 320., 237.,  53.,  13.,   5.,   7.]),\n",
       " array([0.02439024, 0.21300369, 0.40161714, 0.59023059, 0.77884403,\n",
       "        0.96745748, 1.15607093, 1.34468438, 1.53329782, 1.72191127,\n",
       "        1.91052472]),\n",
       " <BarContainer object of 10 artists>)"
      ]
     },
     "execution_count": 147,
     "metadata": {},
     "output_type": "execute_result"
    },
    {
     "data": {
      "image/png": "[encoded data removed]",
      "text/plain": [
       "<Figure size 432x288 with 1 Axes>"
      ]
     },
     "metadata": {},
     "output_type": "display_data"
    }
   ],
   "source": [
    "plt.hist(df_demo.kdRatio)"
   ]
  },
  {
   "cell_type": "code",
   "execution_count": 157,
   "metadata": {},
   "outputs": [
    {
     "data": {
      "text/plain": [
       "(array([  7.,  19.,  52., 105., 221., 324., 176.,  33.,   4.,   2.]),\n",
       " array([0.00902935, 0.03619659, 0.06336383, 0.09053107, 0.11769831,\n",
       "        0.14486555, 0.17203279, 0.19920003, 0.22636727, 0.25353451,\n",
       "        0.28070175]),\n",
       " <BarContainer object of 10 artists>)"
      ]
     },
     "execution_count": 157,
     "metadata": {},
     "output_type": "execute_result"
    },
    {
     "data": {
      "image/png": "[encoded data removed]",
      "text/plain": [
       "<Figure size 432x288 with 1 Axes>"
      ]
     },
     "metadata": {},
     "output_type": "display_data"
    }
   ],
   "source": [
    "plt.hist(df_demo.accuracy2)"
   ]
  },
  {
   "cell_type": "code",
   "execution_count": null,
   "metadata": {},
   "outputs": [],
   "source": []
  },
  {
   "cell_type": "code",
   "execution_count": null,
   "metadata": {},
   "outputs": [],
   "source": [
    "df_demo = df_demo[['accuracy2', 'kdRatio']]"
   ]
  },
  {
   "cell_type": "code",
   "execution_count": 140,
   "metadata": {},
   "outputs": [],
   "source": [
    "model = KMeans(n_clusters=4, init=\"k-means++\", max_iter=100, n_init=5)\n",
    "model.fit(df_demo)\n",
    "y_kmeans = model.predict(df_demo)"
   ]
  },
  {
   "cell_type": "code",
   "execution_count": 142,
   "metadata": {},
   "outputs": [
    {
     "data": {
      "image/png": "[encoded data removed]",
      "text/plain": [
       "<Figure size 432x288 with 1 Axes>"
      ]
     },
     "metadata": {},
     "output_type": "display_data"
    }
   ],
   "source": [
    "plt.scatter(df_demo.accuracy, df_demo.kdRatio, c=y_kmeans, s=50, cmap='viridis')\n",
    "\n",
    "centers = model.cluster_centers_\n",
    "plt.scatter(centers[:, 0], centers[:, 1], c='black', s=200, alpha=0.5);"
   ]
  },
  {
   "cell_type": "code",
   "execution_count": 143,
   "metadata": {},
   "outputs": [],
   "source": [
    "df_demo = df_demo[(df_demo.kdRatio < 2) & (df_demo.accuracy < 40)]"
   ]
  },
  {
   "cell_type": "code",
   "execution_count": 144,
   "metadata": {},
   "outputs": [],
   "source": [
    "model = KMeans(n_clusters=4, init=\"k-means++\", max_iter=100, n_init=5)\n",
    "model.fit(df_demo)\n",
    "y_kmeans = model.predict(df_demo)"
   ]
  },
  {
   "cell_type": "code",
   "execution_count": 145,
   "metadata": {},
   "outputs": [
    {
     "data": {
      "image/png": "[encoded data removed]",
      "text/plain": [
       "<Figure size 432x288 with 1 Axes>"
      ]
     },
     "metadata": {},
     "output_type": "display_data"
    }
   ],
   "source": [
    "plt.scatter(df_demo.accuracy, df_demo.kdRatio, c=y_kmeans, s=50, cmap='viridis')\n",
    "\n",
    "centers = model.cluster_centers_\n",
    "plt.scatter(centers[:, 0], centers[:, 1], c='black', s=200, alpha=0.5);"
   ]
  },
  {
   "cell_type": "code",
   "execution_count": null,
   "metadata": {},
   "outputs": [],
   "source": []
  },
  {
   "cell_type": "code",
   "execution_count": null,
   "metadata": {},
   "outputs": [],
   "source": []
  },
  {
   "cell_type": "code",
   "execution_count": null,
   "metadata": {},
   "outputs": [],
   "source": []
  },
  {
   "cell_type": "code",
   "execution_count": null,
   "metadata": {},
   "outputs": [],
   "source": []
  },
  {
   "cell_type": "code",
   "execution_count": null,
   "metadata": {},
   "outputs": [],
   "source": []
  },
  {
   "cell_type": "code",
   "execution_count": 108,
   "metadata": {},
   "outputs": [],
   "source": [
    "df = df[df.gamesPlayed > 100]"
   ]
  },
  {
   "cell_type": "code",
   "execution_count": 95,
   "metadata": {},
   "outputs": [
    {
     "name": "stdout",
     "output_type": "stream",
     "text": [
      "(401, 1)\n",
      "(401, 1)\n"
     ]
    }
   ],
   "source": [
    "# for tensorflow\n",
    "# x does not have wins kills or deaths\n",
    "X = np.array(df[['timePlayed']], dtype='float64')#, 'killstreak', 'level', 'prestige', 'hits', 'timePlayed', 'headshots', 'averageTime', 'gamesPlayed', 'assists', 'misses', 'xp', \"scorePerMinute\", 'shots']]\n",
    "y = np.array(df[['wins']], dtype='float64')\n",
    "print(X.shape)\n",
    "print(y.shape)"
   ]
  },
  {
   "cell_type": "code",
   "execution_count": 96,
   "metadata": {},
   "outputs": [],
   "source": [
    "x_train, x_test, y_train, y_test = train_test_split(X, y, test_size=.2, random_state=42)\n"
   ]
  },
  {
   "cell_type": "code",
   "execution_count": 109,
   "metadata": {},
   "outputs": [],
   "source": [
    "# for clustering \n",
    "df = df[['wins', 'timePlayed']]"
   ]
  },
  {
   "cell_type": "code",
   "execution_count": 15,
   "metadata": {},
   "outputs": [
    {
     "data": {
      "text/html": [
       "<div>\n",
       "<style scoped>\n",
       "    .dataframe tbody tr th:only-of-type {\n",
       "        vertical-align: middle;\n",
       "    }\n",
       "\n",
       "    .dataframe tbody tr th {\n",
       "        vertical-align: top;\n",
       "    }\n",
       "\n",
       "    .dataframe thead th {\n",
       "        text-align: right;\n",
       "    }\n",
       "</style>\n",
       "<table border=\"1\" class=\"dataframe\">\n",
       "  <thead>\n",
       "    <tr style=\"text-align: right;\">\n",
       "      <th></th>\n",
       "      <th>wins</th>\n",
       "      <th>timePlayed</th>\n",
       "    </tr>\n",
       "  </thead>\n",
       "  <tbody>\n",
       "    <tr>\n",
       "      <th>5</th>\n",
       "      <td>684</td>\n",
       "      <td>1366</td>\n",
       "    </tr>\n",
       "    <tr>\n",
       "      <th>7</th>\n",
       "      <td>186</td>\n",
       "      <td>550</td>\n",
       "    </tr>\n",
       "    <tr>\n",
       "      <th>8</th>\n",
       "      <td>741</td>\n",
       "      <td>2442</td>\n",
       "    </tr>\n",
       "    <tr>\n",
       "      <th>15</th>\n",
       "      <td>207</td>\n",
       "      <td>378</td>\n",
       "    </tr>\n",
       "    <tr>\n",
       "      <th>16</th>\n",
       "      <td>106</td>\n",
       "      <td>255</td>\n",
       "    </tr>\n",
       "  </tbody>\n",
       "</table>\n",
       "</div>"
      ],
      "text/plain": [
       "    wins  timePlayed\n",
       "5    684        1366\n",
       "7    186         550\n",
       "8    741        2442\n",
       "15   207         378\n",
       "16   106         255"
      ]
     },
     "execution_count": 15,
     "metadata": {},
     "output_type": "execute_result"
    }
   ],
   "source": [
    "df.head()"
   ]
  },
  {
   "cell_type": "code",
   "execution_count": 20,
   "metadata": {},
   "outputs": [
    {
     "data": {
      "text/plain": [
       "<matplotlib.collections.PathCollection at 0x139144dc0>"
      ]
     },
     "execution_count": 20,
     "metadata": {},
     "output_type": "execute_result"
    },
    {
     "data": {
      "image/png": "[encoded data removed]",
      "text/plain": [
       "<Figure size 432x288 with 1 Axes>"
      ]
     },
     "metadata": {},
     "output_type": "display_data"
    }
   ],
   "source": [
    "# too much data -- no clear clusters \n",
    "plt.scatter(df.timePlayed, df.wins)"
   ]
  },
  {
   "cell_type": "code",
   "execution_count": 110,
   "metadata": {},
   "outputs": [
    {
     "data": {
      "text/plain": [
       "<matplotlib.collections.PathCollection at 0x1667b6af0>"
      ]
     },
     "execution_count": 110,
     "metadata": {},
     "output_type": "execute_result"
    },
    {
     "data": {
      "image/png": "[encoded data removed]",
      "text/plain": [
       "<Figure size 432x288 with 1 Axes>"
      ]
     },
     "metadata": {},
     "output_type": "display_data"
    }
   ],
   "source": [
    "df = df[(df.timePlayed > 1000) & (df.wins >500)]\n",
    "plt.scatter(df.timePlayed, df.wins)"
   ]
  },
  {
   "cell_type": "code",
   "execution_count": 111,
   "metadata": {},
   "outputs": [
    {
     "data": {
      "text/plain": [
       "<matplotlib.collections.PathCollection at 0x16681cb80>"
      ]
     },
     "execution_count": 111,
     "metadata": {},
     "output_type": "execute_result"
    },
    {
     "data": {
      "image/png": "[encoded data removed]",
      "text/plain": [
       "<Figure size 432x288 with 1 Axes>"
      ]
     },
     "metadata": {},
     "output_type": "display_data"
    }
   ],
   "source": [
    "df = df[(df.timePlayed > 3000) & (df.wins >1000)]\n",
    "plt.scatter(df.timePlayed, df.wins)"
   ]
  },
  {
   "cell_type": "code",
   "execution_count": 112,
   "metadata": {},
   "outputs": [
    {
     "data": {
      "text/plain": [
       "(27, 2)"
      ]
     },
     "execution_count": 112,
     "metadata": {},
     "output_type": "execute_result"
    }
   ],
   "source": [
    "df.shape"
   ]
  },
  {
   "cell_type": "code",
   "execution_count": null,
   "metadata": {},
   "outputs": [],
   "source": []
  },
  {
   "cell_type": "code",
   "execution_count": 113,
   "metadata": {},
   "outputs": [],
   "source": [
    "# Gaussian Mixture Model\n",
    "gm = GaussianMixture(n_components=2, random_state=42).fit(df)"
   ]
  },
  {
   "cell_type": "code",
   "execution_count": 114,
   "metadata": {},
   "outputs": [],
   "source": [
    "y_gmm = gm.predict(df)"
   ]
  },
  {
   "cell_type": "code",
   "execution_count": 116,
   "metadata": {},
   "outputs": [
    {
     "data": {
      "image/png": "[encoded data removed]",
      "text/plain": [
       "<Figure size 432x288 with 1 Axes>"
      ]
     },
     "metadata": {},
     "output_type": "display_data"
    }
   ],
   "source": [
    "plt.scatter(df.timePlayed, df.wins, c=y_gmm, s=50, cmap='viridis')\n",
    "\n",
    "centers = gm.means_\n",
    "plt.scatter(centers[:, 1], centers[:, 0], c='black', s=200, alpha=0.5);"
   ]
  },
  {
   "cell_type": "markdown",
   "metadata": {},
   "source": [
    "## K Means"
   ]
  },
  {
   "cell_type": "code",
   "execution_count": 27,
   "metadata": {},
   "outputs": [
    {
     "data": {
      "text/plain": [
       "KMeans(max_iter=100, n_clusters=4, n_init=5)"
      ]
     },
     "execution_count": 27,
     "metadata": {},
     "output_type": "execute_result"
    }
   ],
   "source": [
    "model = KMeans(n_clusters=4, init=\"k-means++\", max_iter=100, n_init=5)\n",
    "model.fit(df)"
   ]
  },
  {
   "cell_type": "code",
   "execution_count": 32,
   "metadata": {},
   "outputs": [],
   "source": [
    "y_kmeans = model.predict(df)\n"
   ]
  },
  {
   "cell_type": "code",
   "execution_count": 34,
   "metadata": {},
   "outputs": [
    {
     "data": {
      "image/png": "[encoded data removed]",
      "text/plain": [
       "<Figure size 432x288 with 1 Axes>"
      ]
     },
     "metadata": {},
     "output_type": "display_data"
    }
   ],
   "source": [
    "plt.scatter(df.timePlayed, df.wins, c=y_kmeans, s=50, cmap='viridis')\n",
    "\n",
    "centers = model.cluster_centers_\n",
    "plt.scatter(centers[:, 1], centers[:, 0], c='black', s=200, alpha=0.5);"
   ]
  },
  {
   "cell_type": "code",
   "execution_count": 36,
   "metadata": {},
   "outputs": [
    {
     "data": {
      "text/plain": [
       "MeanShift()"
      ]
     },
     "execution_count": 36,
     "metadata": {},
     "output_type": "execute_result"
    }
   ],
   "source": [
    "mean_shift_model = MeanShift()\n",
    "mean_shift_model.fit(df)"
   ]
  },
  {
   "cell_type": "code",
   "execution_count": 37,
   "metadata": {},
   "outputs": [],
   "source": [
    "y_meanshift = mean_shift_model.predict(df)\n"
   ]
  },
  {
   "cell_type": "code",
   "execution_count": 38,
   "metadata": {},
   "outputs": [
    {
     "data": {
      "image/png": "[encoded data removed]",
      "text/plain": [
       "<Figure size 432x288 with 1 Axes>"
      ]
     },
     "metadata": {},
     "output_type": "display_data"
    }
   ],
   "source": [
    "plt.scatter(df.timePlayed, df.wins, c=y_kmeans, s=50, cmap='viridis')\n",
    "\n",
    "centers = mean_shift_model.cluster_centers_\n",
    "plt.scatter(centers[:, 1], centers[:, 0], c='black', s=200, alpha=0.5);"
   ]
  },
  {
   "cell_type": "code",
   "execution_count": 97,
   "metadata": {},
   "outputs": [],
   "source": [
    "tf_model = tf.keras.Sequential([\n",
    "    tf.keras.layers.Dense(units=1, input_shape=[1])\n",
    "])"
   ]
  },
  {
   "cell_type": "code",
   "execution_count": 98,
   "metadata": {},
   "outputs": [],
   "source": [
    "tf_model.compile(loss=\"mean_squared_error\", optimizer=\"adam\")"
   ]
  },
  {
   "cell_type": "code",
   "execution_count": 100,
   "metadata": {},
   "outputs": [
    {
     "name": "stdout",
     "output_type": "stream",
     "text": [
      "Epoch 1/100\n",
      "10/10 - 0s - loss: 5181634.0000 - 11ms/epoch - 1ms/step\n",
      "Epoch 2/100\n",
      "10/10 - 0s - loss: 5113039.0000 - 14ms/epoch - 1ms/step\n",
      "Epoch 3/100\n",
      "10/10 - 0s - loss: 5046701.0000 - 14ms/epoch - 1ms/step\n",
      "Epoch 4/100\n",
      "10/10 - 0s - loss: 4981685.5000 - 15ms/epoch - 1ms/step\n",
      "Epoch 5/100\n",
      "10/10 - 0s - loss: 4914435.0000 - 12ms/epoch - 1ms/step\n",
      "Epoch 6/100\n",
      "10/10 - 0s - loss: 4850065.0000 - 9ms/epoch - 893us/step\n",
      "Epoch 7/100\n",
      "10/10 - 0s - loss: 4784543.0000 - 10ms/epoch - 989us/step\n",
      "Epoch 8/100\n",
      "10/10 - 0s - loss: 4720438.0000 - 10ms/epoch - 1ms/step\n",
      "Epoch 9/100\n",
      "10/10 - 0s - loss: 4659968.0000 - 10ms/epoch - 1ms/step\n",
      "Epoch 10/100\n",
      "10/10 - 0s - loss: 4592605.0000 - 11ms/epoch - 1ms/step\n",
      "Epoch 11/100\n",
      "10/10 - 0s - loss: 4532377.0000 - 8ms/epoch - 844us/step\n",
      "Epoch 12/100\n",
      "10/10 - 0s - loss: 4474139.0000 - 8ms/epoch - 836us/step\n",
      "Epoch 13/100\n",
      "10/10 - 0s - loss: 4411409.0000 - 13ms/epoch - 1ms/step\n",
      "Epoch 14/100\n",
      "10/10 - 0s - loss: 4351025.5000 - 13ms/epoch - 1ms/step\n",
      "Epoch 15/100\n",
      "10/10 - 0s - loss: 4289276.5000 - 13ms/epoch - 1ms/step\n",
      "Epoch 16/100\n",
      "10/10 - 0s - loss: 4233764.5000 - 13ms/epoch - 1ms/step\n",
      "Epoch 17/100\n",
      "10/10 - 0s - loss: 4176156.0000 - 10ms/epoch - 1ms/step\n",
      "Epoch 18/100\n",
      "10/10 - 0s - loss: 4114976.5000 - 12ms/epoch - 1ms/step\n",
      "Epoch 19/100\n",
      "10/10 - 0s - loss: 4060403.2500 - 14ms/epoch - 1ms/step\n",
      "Epoch 20/100\n",
      "10/10 - 0s - loss: 4002394.0000 - 10ms/epoch - 971us/step\n",
      "Epoch 21/100\n",
      "10/10 - 0s - loss: 3949490.5000 - 9ms/epoch - 861us/step\n",
      "Epoch 22/100\n",
      "10/10 - 0s - loss: 3892148.7500 - 88ms/epoch - 9ms/step\n",
      "Epoch 23/100\n",
      "10/10 - 0s - loss: 3837303.2500 - 14ms/epoch - 1ms/step\n",
      "Epoch 24/100\n",
      "10/10 - 0s - loss: 3783256.7500 - 12ms/epoch - 1ms/step\n",
      "Epoch 25/100\n",
      "10/10 - 0s - loss: 3728790.5000 - 10ms/epoch - 1ms/step\n",
      "Epoch 26/100\n",
      "10/10 - 0s - loss: 3675613.5000 - 12ms/epoch - 1ms/step\n",
      "Epoch 27/100\n",
      "10/10 - 0s - loss: 3622220.7500 - 11ms/epoch - 1ms/step\n",
      "Epoch 28/100\n",
      "10/10 - 0s - loss: 3573814.5000 - 9ms/epoch - 889us/step\n",
      "Epoch 29/100\n",
      "10/10 - 0s - loss: 3520443.5000 - 9ms/epoch - 855us/step\n",
      "Epoch 30/100\n",
      "10/10 - 0s - loss: 3470071.5000 - 10ms/epoch - 975us/step\n",
      "Epoch 31/100\n",
      "10/10 - 0s - loss: 3418792.0000 - 12ms/epoch - 1ms/step\n",
      "Epoch 32/100\n",
      "10/10 - 0s - loss: 3370135.5000 - 11ms/epoch - 1ms/step\n",
      "Epoch 33/100\n",
      "10/10 - 0s - loss: 3320068.2500 - 10ms/epoch - 1ms/step\n",
      "Epoch 34/100\n",
      "10/10 - 0s - loss: 3271795.0000 - 12ms/epoch - 1ms/step\n",
      "Epoch 35/100\n",
      "10/10 - 0s - loss: 3224516.5000 - 10ms/epoch - 970us/step\n",
      "Epoch 36/100\n",
      "10/10 - 0s - loss: 3176035.2500 - 10ms/epoch - 1ms/step\n",
      "Epoch 37/100\n",
      "10/10 - 0s - loss: 3129346.7500 - 9ms/epoch - 853us/step\n",
      "Epoch 38/100\n",
      "10/10 - 0s - loss: 3082093.7500 - 8ms/epoch - 811us/step\n",
      "Epoch 39/100\n",
      "10/10 - 0s - loss: 3037581.0000 - 9ms/epoch - 916us/step\n",
      "Epoch 40/100\n",
      "10/10 - 0s - loss: 2991535.0000 - 10ms/epoch - 1ms/step\n",
      "Epoch 41/100\n",
      "10/10 - 0s - loss: 2945240.5000 - 14ms/epoch - 1ms/step\n",
      "Epoch 42/100\n",
      "10/10 - 0s - loss: 2900172.5000 - 10ms/epoch - 984us/step\n",
      "Epoch 43/100\n",
      "10/10 - 0s - loss: 2858031.0000 - 12ms/epoch - 1ms/step\n",
      "Epoch 44/100\n",
      "10/10 - 0s - loss: 2813444.0000 - 9ms/epoch - 918us/step\n",
      "Epoch 45/100\n",
      "10/10 - 0s - loss: 2773093.2500 - 12ms/epoch - 1ms/step\n",
      "Epoch 46/100\n",
      "10/10 - 0s - loss: 2730577.5000 - 21ms/epoch - 2ms/step\n",
      "Epoch 47/100\n",
      "10/10 - 0s - loss: 2685989.5000 - 16ms/epoch - 2ms/step\n",
      "Epoch 48/100\n",
      "10/10 - 0s - loss: 2646485.0000 - 15ms/epoch - 1ms/step\n",
      "Epoch 49/100\n",
      "10/10 - 0s - loss: 2604824.5000 - 14ms/epoch - 1ms/step\n",
      "Epoch 50/100\n",
      "10/10 - 0s - loss: 2564464.7500 - 11ms/epoch - 1ms/step\n",
      "Epoch 51/100\n",
      "10/10 - 0s - loss: 2524789.5000 - 10ms/epoch - 1ms/step\n",
      "Epoch 52/100\n",
      "10/10 - 0s - loss: 2483979.5000 - 9ms/epoch - 945us/step\n",
      "Epoch 53/100\n",
      "10/10 - 0s - loss: 2446430.5000 - 8ms/epoch - 795us/step\n",
      "Epoch 54/100\n",
      "10/10 - 0s - loss: 2406806.7500 - 8ms/epoch - 783us/step\n",
      "Epoch 55/100\n",
      "10/10 - 0s - loss: 2368893.0000 - 10ms/epoch - 1ms/step\n",
      "Epoch 56/100\n",
      "10/10 - 0s - loss: 2330296.5000 - 9ms/epoch - 911us/step\n",
      "Epoch 57/100\n",
      "10/10 - 0s - loss: 2295322.2500 - 10ms/epoch - 968us/step\n",
      "Epoch 58/100\n",
      "10/10 - 0s - loss: 2255642.5000 - 10ms/epoch - 957us/step\n",
      "Epoch 59/100\n",
      "10/10 - 0s - loss: 2222824.0000 - 9ms/epoch - 860us/step\n",
      "Epoch 60/100\n",
      "10/10 - 0s - loss: 2184532.0000 - 12ms/epoch - 1ms/step\n",
      "Epoch 61/100\n",
      "10/10 - 0s - loss: 2150243.5000 - 13ms/epoch - 1ms/step\n",
      "Epoch 62/100\n",
      "10/10 - 0s - loss: 2114454.2500 - 11ms/epoch - 1ms/step\n",
      "Epoch 63/100\n",
      "10/10 - 0s - loss: 2081548.3750 - 11ms/epoch - 1ms/step\n",
      "Epoch 64/100\n",
      "10/10 - 0s - loss: 2044916.3750 - 10ms/epoch - 991us/step\n",
      "Epoch 65/100\n",
      "10/10 - 0s - loss: 2012769.6250 - 10ms/epoch - 1ms/step\n",
      "Epoch 66/100\n",
      "10/10 - 0s - loss: 1979840.7500 - 11ms/epoch - 1ms/step\n",
      "Epoch 67/100\n",
      "10/10 - 0s - loss: 1947046.7500 - 11ms/epoch - 1ms/step\n",
      "Epoch 68/100\n",
      "10/10 - 0s - loss: 1914478.7500 - 10ms/epoch - 979us/step\n",
      "Epoch 69/100\n",
      "10/10 - 0s - loss: 1881253.7500 - 11ms/epoch - 1ms/step\n",
      "Epoch 70/100\n",
      "10/10 - 0s - loss: 1849557.7500 - 12ms/epoch - 1ms/step\n",
      "Epoch 71/100\n",
      "10/10 - 0s - loss: 1820703.0000 - 11ms/epoch - 1ms/step\n",
      "Epoch 72/100\n",
      "10/10 - 0s - loss: 1788504.2500 - 10ms/epoch - 983us/step\n",
      "Epoch 73/100\n",
      "10/10 - 0s - loss: 1759747.6250 - 12ms/epoch - 1ms/step\n",
      "Epoch 74/100\n",
      "10/10 - 0s - loss: 1727663.7500 - 11ms/epoch - 1ms/step\n",
      "Epoch 75/100\n",
      "10/10 - 0s - loss: 1698300.2500 - 9ms/epoch - 916us/step\n",
      "Epoch 76/100\n",
      "10/10 - 0s - loss: 1669436.8750 - 9ms/epoch - 946us/step\n",
      "Epoch 77/100\n",
      "10/10 - 0s - loss: 1640693.8750 - 12ms/epoch - 1ms/step\n",
      "Epoch 78/100\n",
      "10/10 - 0s - loss: 1613879.2500 - 14ms/epoch - 1ms/step\n",
      "Epoch 79/100\n",
      "10/10 - 0s - loss: 1585494.7500 - 10ms/epoch - 999us/step\n",
      "Epoch 80/100\n",
      "10/10 - 0s - loss: 1556941.6250 - 10ms/epoch - 977us/step\n",
      "Epoch 81/100\n",
      "10/10 - 0s - loss: 1529154.2500 - 10ms/epoch - 957us/step\n",
      "Epoch 82/100\n",
      "10/10 - 0s - loss: 1502626.0000 - 10ms/epoch - 992us/step\n",
      "Epoch 83/100\n",
      "10/10 - 0s - loss: 1476266.7500 - 10ms/epoch - 985us/step\n",
      "Epoch 84/100\n",
      "10/10 - 0s - loss: 1450082.6250 - 10ms/epoch - 1ms/step\n",
      "Epoch 85/100\n",
      "10/10 - 0s - loss: 1423808.5000 - 9ms/epoch - 933us/step\n",
      "Epoch 86/100\n",
      "10/10 - 0s - loss: 1399215.2500 - 9ms/epoch - 902us/step\n",
      "Epoch 87/100\n",
      "10/10 - 0s - loss: 1373834.6250 - 11ms/epoch - 1ms/step\n",
      "Epoch 88/100\n",
      "10/10 - 0s - loss: 1349055.7500 - 11ms/epoch - 1ms/step\n",
      "Epoch 89/100\n",
      "10/10 - 0s - loss: 1324668.6250 - 9ms/epoch - 903us/step\n",
      "Epoch 90/100\n",
      "10/10 - 0s - loss: 1300481.3750 - 11ms/epoch - 1ms/step\n",
      "Epoch 91/100\n",
      "10/10 - 0s - loss: 1277227.1250 - 10ms/epoch - 1ms/step\n",
      "Epoch 92/100\n",
      "10/10 - 0s - loss: 1254242.6250 - 9ms/epoch - 947us/step\n",
      "Epoch 93/100\n",
      "10/10 - 0s - loss: 1230605.3750 - 10ms/epoch - 1ms/step\n",
      "Epoch 94/100\n",
      "10/10 - 0s - loss: 1207925.5000 - 11ms/epoch - 1ms/step\n",
      "Epoch 95/100\n",
      "10/10 - 0s - loss: 1186035.0000 - 12ms/epoch - 1ms/step\n",
      "Epoch 96/100\n",
      "10/10 - 0s - loss: 1163259.8750 - 9ms/epoch - 948us/step\n",
      "Epoch 97/100\n",
      "10/10 - 0s - loss: 1141767.3750 - 10ms/epoch - 976us/step\n",
      "Epoch 98/100\n",
      "10/10 - 0s - loss: 1121105.0000 - 12ms/epoch - 1ms/step\n",
      "Epoch 99/100\n",
      "10/10 - 0s - loss: 1098867.6250 - 10ms/epoch - 1ms/step\n",
      "Epoch 100/100\n",
      "10/10 - 0s - loss: 1078933.5000 - 8ms/epoch - 772us/step\n"
     ]
    }
   ],
   "source": [
    "history = tf_model.fit(x_train, y_train, verbose=2, epochs=100)"
   ]
  },
  {
   "cell_type": "code",
   "execution_count": 101,
   "metadata": {},
   "outputs": [],
   "source": [
    "y_pred = tf_model.predict(x_test)"
   ]
  },
  {
   "cell_type": "code",
   "execution_count": 102,
   "metadata": {},
   "outputs": [],
   "source": [
    "mse = mean_squared_error(y_test, y_pred)"
   ]
  },
  {
   "cell_type": "code",
   "execution_count": 103,
   "metadata": {},
   "outputs": [
    {
     "data": {
      "text/plain": [
       "1353232.9552694804"
      ]
     },
     "execution_count": 103,
     "metadata": {},
     "output_type": "execute_result"
    }
   ],
   "source": [
    "mse "
   ]
  },
  {
   "cell_type": "code",
   "execution_count": 104,
   "metadata": {},
   "outputs": [
    {
     "data": {
      "text/plain": [
       "<matplotlib.collections.PathCollection at 0x166660b80>"
      ]
     },
     "execution_count": 104,
     "metadata": {},
     "output_type": "execute_result"
    },
    {
     "data": {
      "image/png": "[encoded data removed]",
      "text/plain": [
       "<Figure size 432x288 with 1 Axes>"
      ]
     },
     "metadata": {},
     "output_type": "display_data"
    }
   ],
   "source": [
    "plt.scatter(x_train,y_train)"
   ]
  },
  {
   "cell_type": "code",
   "execution_count": null,
   "metadata": {},
   "outputs": [],
   "source": [
    "# there could be a linear relationship but our model is extremely inaccurate "
   ]
  }
 ],
 "metadata": {
  "interpreter": {
   "hash": "94865831e0a1ba649e5c09cd3dde6ed3ff1676c8217a94c7b75b4f652e725656"
  },
  "kernelspec": {
   "display_name": "Python 3.9.9 64-bit ('.venv': venv)",
   "language": "python",
   "name": "python3"
  },
  "language_info": {
   "codemirror_mode": {
    "name": "ipython",
    "version": 3
   },
   "file_extension": ".py",
   "mimetype": "text/x-python",
   "name": "python",
   "nbconvert_exporter": "python",
   "pygments_lexer": "ipython3",
   "version": "3.9.9"
  },
  "orig_nbformat": 4
 },
 "nbformat": 4,
 "nbformat_minor": 2
}
